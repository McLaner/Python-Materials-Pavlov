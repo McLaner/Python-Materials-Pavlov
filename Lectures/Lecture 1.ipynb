{
 "cells": [
  {
   "cell_type": "markdown",
   "id": "9c312804",
   "metadata": {},
   "source": [
    "# First of all"
   ]
  },
  {
   "cell_type": "markdown",
   "id": "8743f646",
   "metadata": {},
   "source": [
    "### Python installation \n",
    "\n",
    "- Visit [python.org](https://www.python.org/).\n",
    "- Go to Downloads > macOS/Windows.\n",
    "- Download the latest Python 3.x.x installer.\n",
    "   \n",
    "#### on Windows\n",
    "\n",
    "1. **Run the Installer:**\n",
    "   - Open the downloaded `.exe` file.\n",
    "   - Check \"Add Python to PATH\".\n",
    "   - Click \"Install Now\".\n",
    "\n",
    "2. **Verify Installation:**\n",
    "   - Open Command Prompt.\n",
    "   - Run `python --version`.\n",
    "\n",
    "#### on macOS\n",
    "\n",
    "1. **Run the Installer:**\n",
    "   - Open the downloaded `.pkg` file.\n",
    "   - Follow the prompts to complete the installation.\n",
    "\n",
    "2. **Verify Installation:**\n",
    "   - Open Terminal.\n",
    "   - Run `python3 --version`.\n"
   ]
  },
  {
   "cell_type": "markdown",
   "id": "bc7f1748",
   "metadata": {},
   "source": [
    "### How to work with Jupyter Notebook\n",
    "\n",
    "**What is Jupyter Notebook?**\n",
    "Jupyter Notebook is an open-source web application that allows you to create and share documents that contain live code, visualizations, and narrative text. It's widely used for data analysis, machine learning, and other computational tasks, especially in Python.\n",
    "\n",
    "Pros:\n",
    "- Highly interactive\n",
    "- Excellent for data analysis and exploration\n",
    "- Facilitates creating reports and documentation alongside your code\n",
    "- Enables fast prototyping\n",
    "- Produces visual outputs seamlessly\n",
    "\n",
    "Cons:\n",
    "- Collaboration can be challenging\n",
    "- Versioning and code reviews are not straightforward\n",
    "\n",
    "Link: https://jupyter.org/\n",
    "\n",
    "**How to Install**\n",
    "\n",
    "1. **Using PyCharm IDE (Windows and Mac)**:\n",
    "   - Download the PyCharm IDE executable from the official website:\n",
    "     - Windows: https://www.jetbrains.com/pycharm/download/#section=windows\n",
    "     - Mac: https://www.jetbrains.com/pycharm/download/#section=mac\n",
    "   - Install the downloaded executable file.\n",
    "   - Create a new project in PyCharm.\n",
    "   - Create a new file in your project with the `.py` extension.\n",
    "\n",
    "2. **Using pip (Python Package Manager)**:\n",
    "   - First, ensure you have Python installed on your system.\n",
    "   - Open your command line or terminal.\n",
    "   - Update pip by running: `python3 -m pip install --upgrade pip`\n",
    "   - Install Jupyter Notebook by running: `python3 -m pip install jupyter`\n",
    "   - After installation, open a new command line or terminal window and run: `jupyter notebook`\n",
    "\n",
    "Official resources:\n",
    "- Installation guide: https://jupyter.org/install\n",
    "- Documentation: https://jupyter.readthedocs.io/en/latest/running.html#running\n",
    "- You can try Jupyter Notebook in your browser (no installation required): https://try.jupyter.org/\n",
    "- Jupyter Notebook Tutorial: https://www.dataquest.io/blog/jupyter-notebook-tutorial/"
   ]
  },
  {
   "cell_type": "markdown",
   "id": "7227c57e",
   "metadata": {},
   "source": [
    "# What is Python and why should i teach it?"
   ]
  },
  {
   "cell_type": "markdown",
   "id": "f6380c58",
   "metadata": {},
   "source": [
    "Python is a dynamic, interpreted programming language. Unlike compiled languages that translate source code into machine code before execution, Python compiles the code on-the-fly during runtime. This interpreted nature of Python means that errors can occur during the execution of the script, rather than during a separate compilation phase."
   ]
  },
  {
   "cell_type": "markdown",
   "id": "6667e628",
   "metadata": {},
   "source": [
    "## What is an interpreted language? "
   ]
  },
  {
   "cell_type": "markdown",
   "id": "16fae4ce",
   "metadata": {},
   "source": [
    "There are two types of languages, Compiled and Interpreted.\n",
    "#### Compiled Languages:\n",
    "In compiled languages, the source code undergoes a compilation process that translates it into machine code, resulting in an executable application (e.g., app.exe on Windows).\n",
    "\n",
    "- Compiled programs tend to execute faster.\n",
    "- They can create standalone applications that do not require additional components to run.\n",
    "- Compiled languages typically perform more comprehensive error checking during the compilation phase.\n",
    "- They are generally better suited for large-scale applications and projects.\n",
    "- Compiled programs are distributed as black-box executables, which cannot be modified during runtime.\n",
    "\n",
    "#### Interpreted Languages:\n",
    "In interpreted languages, the source code is read and executed line by line by an interpreter, a specialized application designed for this purpose. The source code itself serves as the program.\n",
    "\n",
    "- Interpreted programs typically execute slower compared to compiled programs.\n",
    "- They require an interpreter to be present on the system to run the programs.\n",
    "- Interpreted languages usually perform fewer initial error checks, potentially leading to more runtime errors instead of compilation errors.\n",
    "- They are often more suitable for smaller programs, experimentation, and research purposes.\n",
    "- Interpreted programs can be executed interactively, allowing the interpreter to pause after each line and enabling the user to execute commands based on the current state of the program."
   ]
  },
  {
   "cell_type": "markdown",
   "id": "e161b75a",
   "metadata": {},
   "source": [
    "# Let's start with Input and Output"
   ]
  },
  {
   "cell_type": "markdown",
   "id": "1dfd7ba1",
   "metadata": {},
   "source": [
    "The first question that arises in any programming language is: how do you input and output data?\n",
    "\n",
    "Traditionally, there are two ways to input data:\n",
    "- Manually typing it in\n",
    "- Providing a file that contains the data\n",
    "\n",
    "Similarly, there are two ways to output data:\n",
    "- To the console (manual output)\n",
    "- To a file (writing something to a file and getting the file as output)\n",
    "\n",
    "Let's explore this further:\n",
    "\n",
    "### Manual Input and Output\n",
    "Manual input and output of data are done using the `input()` and `print()` functions:"
   ]
  },
  {
   "cell_type": "code",
   "execution_count": null,
   "id": "093f853d",
   "metadata": {},
   "outputs": [],
   "source": [
    "a = input()\n",
    "print(a)"
   ]
  },
  {
   "cell_type": "markdown",
   "id": "37f16afc",
   "metadata": {},
   "source": [
    "Let's understand what happens when these functions are called:\n",
    "- `input()` reads the entire line as a string and stores it as it is.\n",
    "- `print()` prints whatever is stored in the variable.\n",
    "\n",
    "What about the parentheses? Essentially, they are function arguments. We will discuss arguments later when we cover functions in Python. For now, for our understanding:\n",
    "- `input(text)` displays `text` before the input (useful to tell the user what to input).\n",
    "- `print(smth)` prints whatever you specify."
   ]
  },
  {
   "cell_type": "code",
   "execution_count": null,
   "id": "9b87ecb9",
   "metadata": {},
   "outputs": [],
   "source": [
    "a = input(\"Enter any number: \")\n",
    "print(a)"
   ]
  },
  {
   "cell_type": "markdown",
   "id": "5de0c9c7",
   "metadata": {},
   "source": [
    "But what if I want to enter not just one value, but two at once?  We use the split() method. It splits the string by the “delimiter” passed inside the brackets."
   ]
  },
  {
   "cell_type": "code",
   "execution_count": null,
   "id": "1e9f5efe",
   "metadata": {},
   "outputs": [],
   "source": [
    "a, b = input().split(' ') # The separator here is a space.\n",
    "print(a)\n",
    "print(b)"
   ]
  },
  {
   "cell_type": "markdown",
   "id": "9f81bf1a",
   "metadata": {},
   "source": [
    "`print()` function has two useful parameters: `sep` and `end`, which control the output formatting.\n",
    "\n",
    "The `sep` parameter defines the separator between multiple values.\n",
    "\n",
    "**Default behavior:**"
   ]
  },
  {
   "cell_type": "code",
   "execution_count": null,
   "id": "bbbaca1e",
   "metadata": {},
   "outputs": [],
   "source": [
    "print(\"Hello\", \"world\")"
   ]
  },
  {
   "cell_type": "markdown",
   "id": "13d36cbe",
   "metadata": {},
   "source": [
    "**Custom separator:**"
   ]
  },
  {
   "cell_type": "code",
   "execution_count": null,
   "id": "106693d8",
   "metadata": {},
   "outputs": [],
   "source": [
    "print(\"Hello\", \"world\", sep=\", \")"
   ]
  },
  {
   "cell_type": "markdown",
   "id": "0df55c10",
   "metadata": {},
   "source": [
    "The `end` parameter specifies what to print at the end of the output. By default, it is a newline character (`\\n`).\n",
    "\n",
    "**Default behavior:**"
   ]
  },
  {
   "cell_type": "code",
   "execution_count": null,
   "id": "ae14c763",
   "metadata": {},
   "outputs": [],
   "source": [
    "print(\"Hello\")\n",
    "print(\"world\")"
   ]
  },
  {
   "cell_type": "markdown",
   "id": "8fa88315",
   "metadata": {},
   "source": [
    "**Custom ending:**"
   ]
  },
  {
   "cell_type": "code",
   "execution_count": null,
   "id": "81d617e8",
   "metadata": {},
   "outputs": [],
   "source": [
    "print(\"Hello\", end=\" \")\n",
    "print(\"world\")"
   ]
  },
  {
   "cell_type": "code",
   "execution_count": 12,
   "id": "f089a738",
   "metadata": {},
   "outputs": [
    {
     "name": "stdout",
     "output_type": "stream",
     "text": [
      "Apples, Oranges, Bananas.\n"
     ]
    }
   ],
   "source": [
    "a = 'Apples'\n",
    "b = 'Oranges'\n",
    "c = 'Bananas'\n",
    "print(a, b, c, sep=', ', end='.\\n')\n"
   ]
  },
  {
   "cell_type": "markdown",
   "id": "82da4cd3",
   "metadata": {},
   "source": [
    "That's enough for now, let's go on."
   ]
  },
  {
   "cell_type": "markdown",
   "id": "6d496007",
   "metadata": {},
   "source": [
    "### And one more small explanation before we move on\n",
    "\n",
    "#### Naming Variables and Functions\n",
    "\n",
    "Variables and functions can be named using letters (both lowercase and uppercase), numbers, and underscores (_). However, names cannot contain spaces and cannot start with a number. Additionally, names are case sensitive, meaning “foo” and “Foo” are considered distinct.\n",
    "\n",
    "#### Comments\n",
    "\n",
    "Comments are annotations in the code that are not executed by the program but serve to provide explanations or notes. There are two types of comments in Python: single-line and multi-line.\n",
    "\n",
    "- **Single-line comments:** Use `#` before the comment.\n",
    "- **Multi-line comments:** Enclose the comment with triple quotes `\"\"\"` at the beginning and end."
   ]
  },
  {
   "cell_type": "code",
   "execution_count": null,
   "id": "88245ada",
   "metadata": {},
   "outputs": [],
   "source": [
    "# This is a comment\n",
    "\n",
    "x = 5 # This is also a comment but on a line of code\n",
    "   \n",
    "\"\"\"\n",
    "   This is a\n",
    "   big multiline \n",
    "   comment\n",
    "\"\"\""
   ]
  },
  {
   "cell_type": "markdown",
   "id": "115f5da6",
   "metadata": {},
   "source": [
    "## Data types"
   ]
  },
  {
   "cell_type": "markdown",
   "id": "2eeda5a3",
   "metadata": {},
   "source": [
    "In Python, a variable is a named storage location in memory that can hold a value of a specific data type. Variables are used to store data values for later use in a program. The process of assigning a value to a variable is known as variable initialization or variable assignment.\n",
    "One of the key features of Python is dynamic typing, which means that the data type of a variable is determined at runtime based on the value assigned to it. Unlike statically-typed languages like C++ or Java, where you have to explicitly declare the data type of a variable before assigning a value, Python automatically infers the data type based on the value assigned."
   ]
  },
  {
   "cell_type": "code",
   "execution_count": null,
   "id": "391fdb78",
   "metadata": {},
   "outputs": [],
   "source": [
    "a = 5 # here it is a number\n",
    "print(a)\n",
    "\n",
    "a = 'Hello' # here it is a string  \n",
    "print(a)"
   ]
  },
  {
   "cell_type": "markdown",
   "id": "c7199067",
   "metadata": {},
   "source": [
    "While the previous example may seem like a form of magic, it is straightforward to ascertain the type of a variable using the `type()` function:"
   ]
  },
  {
   "cell_type": "code",
   "execution_count": null,
   "id": "185e87d0",
   "metadata": {},
   "outputs": [],
   "source": [
    "# Reassigning a variable to a different data type\n",
    "x = 5  # x is a number\n",
    "print(x)  # Output: 5\n",
    "print(type(x))  # Output: <class 'int'>\n",
    "\n",
    "x = \"Hello\"  # Now a string\n",
    "print(x)  # Output: Hello\n",
    "print(type(x))  # Output: <class 'str'>"
   ]
  },
  {
   "cell_type": "markdown",
   "id": "ac158077",
   "metadata": {},
   "source": [
    "What data types are available in Python, and what operations can be performed on them?\n",
    "\n",
    "In Python, you can work with different types of data, such as:\n",
    "\n",
    "* Integers (int): Whole numbers like 1, 2, 3, and so on.\n",
    "* Floats (float): Decimal numbers like 3.14, 2.7, or -0.5.\n",
    "* Strings (str): A sequence of characters, like words or sentences, enclosed in single or double quotes (e.g., 'Hello' or \"World\").\n",
    "* Lists: An ordered collection of items, like a shopping list. These items can be of different types (numbers, strings, or even other lists).\n",
    "\n",
    "### Boolean (Bool)\n",
    "\n",
    "The Boolean type is the simplest, accepting only the values `True` and `False`. From a numerical perspective, `0` is regarded as `False`, while all other values are considered `True` (type conversion will be discussed shortly)."
   ]
  },
  {
   "cell_type": "code",
   "execution_count": null,
   "id": "a21a1108",
   "metadata": {},
   "outputs": [],
   "source": [
    "a = True\n",
    "print(a)\n",
    "\n",
    "a = False\n",
    "print(a)"
   ]
  },
  {
   "cell_type": "markdown",
   "id": "d8872046",
   "metadata": {},
   "source": [
    "### Int\n",
    "Integers, basic arithmetic operations are possible with them\n",
    "```\n",
    " + - addition\n",
    " - - subtraction\n",
    " * - multiplication\n",
    " / - division\n",
    " // - integer division\n",
    " % - remainder of division (always positive)\n",
    " ** - exponentiation\n",
    " ```"
   ]
  },
  {
   "cell_type": "code",
   "execution_count": null,
   "id": "b23b8ff0",
   "metadata": {},
   "outputs": [],
   "source": [
    "a = 17\n",
    "b = 6\n",
    "\n",
    "a + b"
   ]
  },
  {
   "cell_type": "code",
   "execution_count": null,
   "id": "73a3d9e8",
   "metadata": {},
   "outputs": [],
   "source": [
    "a - b"
   ]
  },
  {
   "cell_type": "code",
   "execution_count": null,
   "id": "82c31874",
   "metadata": {},
   "outputs": [],
   "source": [
    "a * b"
   ]
  },
  {
   "cell_type": "code",
   "execution_count": null,
   "id": "08e3484a",
   "metadata": {},
   "outputs": [],
   "source": [
    "a / b"
   ]
  },
  {
   "cell_type": "code",
   "execution_count": null,
   "id": "fdc726eb",
   "metadata": {},
   "outputs": [],
   "source": [
    "a // b"
   ]
  },
  {
   "cell_type": "code",
   "execution_count": null,
   "id": "bcead1d5",
   "metadata": {},
   "outputs": [],
   "source": [
    "a % b\n",
    "-a % b #Remainder always positive"
   ]
  },
  {
   "cell_type": "code",
   "execution_count": null,
   "id": "fd054594",
   "metadata": {},
   "outputs": [],
   "source": [
    "a ** b #Raise the number a to the power of b"
   ]
  },
  {
   "cell_type": "markdown",
   "id": "594450b0",
   "metadata": {},
   "source": [
    "A interesting fact if you look at the division"
   ]
  },
  {
   "cell_type": "code",
   "execution_count": null,
   "id": "a2b945e2",
   "metadata": {},
   "outputs": [],
   "source": [
    "print(b/a, type(b/a)) # real division (float, number with decimal points)\n",
    "print(b//a, type(b//a)) # integer division (turns out int)\n",
    "print(a % b, type(a % b)) # the remainder of the division (turns out to be int)"
   ]
  },
  {
   "cell_type": "markdown",
   "id": "0aedf4dd",
   "metadata": {},
   "source": [
    "In computer science, you may also find it useful to work with different number systems\n",
    "\n",
    "**Binary number system**:\n",
    "\n",
    "To declare a number in the binary system, the prefix `0b` is used.\n",
    "\n",
    "To convert a number from decimal to binary, we can use the `bin()` function.\n",
    "\n",
    "**Octal number system**:\n",
    "\n",
    "To declare a number in the octal system, the prefix `0o` is used.\n",
    "\n",
    "The `oct()` function can be used to convert a number from decimal to octal.\n",
    "\n",
    "**Hexadecimal number system**:\n",
    "\n",
    "To declare a number in hexadecimal, the prefix `0x` is used.\n",
    "\n",
    "You can use the `hex()` function to convert a number from decimal to hexadecimal."
   ]
  },
  {
   "cell_type": "code",
   "execution_count": null,
   "id": "962ae981",
   "metadata": {},
   "outputs": [],
   "source": [
    "# Binary system\n",
    "binary_value = 0b1111\n",
    "decimal_to_binary = bin(15)\n",
    "print(binary_value, decimal_to_binary)\n",
    "\n",
    "# Octal system\n",
    "octal_value = 0o17\n",
    "decimal_to_octal = oct(15)\n",
    "print(octal_value, decimal_to_octal)\n",
    "\n",
    "# Hexadecimal system\n",
    "hexadecimal_value = 0xF\n",
    "decimal_to_hexadecimal = hex(15)\n",
    "print(hexadecimal_value, decimal_to_hexadecimal)"
   ]
  },
  {
   "cell_type": "markdown",
   "id": "d764d2e1",
   "metadata": {},
   "source": [
    "That said, if you need to work with numbers in other number systems, you can use conversion methods such as `int('1010', 3)` to convert a string to a number in ternary or `int('A', 15)` to convert a string to a number in base 15."
   ]
  },
  {
   "cell_type": "code",
   "execution_count": null,
   "id": "8e403b3c",
   "metadata": {},
   "outputs": [],
   "source": [
    "ternary_num = int('1010', 3)\n",
    "base_fifteen_num = int('E', 15)\n",
    "print(ternary_num, base_fifteen_num)"
   ]
  },
  {
   "cell_type": "markdown",
   "id": "5fdc7c72",
   "metadata": {},
   "source": [
    "### Float\n",
    "\n",
    "**Float** is a way to store numbers with decimal points, unlike **int** which only deals with whole numbers. Floats have a unique setup with multiple parts:\n",
    "\n",
    "- A sign bit (+ or -) to indicate if the number is positive or negative\n",
    "- The mantissa, which is the actual value of the number\n",
    "- An exponent sign bit (+ or -) \n",
    "- The exponent, which determines where to place the decimal point\n",
    "\n",
    "The general formula looks like: \n",
    "(-1)^(sign bit) * mantissa * (base)^(exponent sign * exponent)\n",
    "\n",
    "Typically, the base is 2 or 10. \n",
    "\n",
    "When writing a float, you separate the mantissa from the exponent using \"E\". For instance:\n",
    "1.234567E+20 means 1.234567 x 10^20\n",
    "\n",
    "In addition to the regular math operations, you can also divide floats using the / operator.\n",
    "\n",
    "So in essence, floats pack the number details into sign, mantissa, and adjustable exponent components to precisely store real numbers with decimals."
   ]
  },
  {
   "cell_type": "code",
   "execution_count": 6,
   "id": "4348034e",
   "metadata": {
    "collapsed": true
   },
   "outputs": [
    {
     "name": "stdout",
     "output_type": "stream",
     "text": [
      "11.2\n",
      "6.999999999999999\n",
      "29.4\n",
      "6.0\n",
      "1854.5359291124116\n",
      "2.335929112411544\n"
     ]
    }
   ],
   "source": [
    "# float supports all operations, as does int\n",
    "\n",
    "a = 7\n",
    "b = 4.2\n",
    "a += b # a = a + b\n",
    "print(a)"
   ]
  },
  {
   "cell_type": "code",
   "execution_count": null,
   "id": "be1b613a",
   "metadata": {},
   "outputs": [],
   "source": [
    "a -= b # a = a - b\n",
    "print(a)"
   ]
  },
  {
   "cell_type": "code",
   "execution_count": null,
   "id": "120a5221",
   "metadata": {},
   "outputs": [],
   "source": [
    "a *= b # a = a * b\n",
    "print(a)"
   ]
  },
  {
   "cell_type": "code",
   "execution_count": null,
   "id": "adbc7b4a",
   "metadata": {},
   "outputs": [],
   "source": [
    "a //= b # a = a // b\n",
    "print(a)"
   ]
  },
  {
   "cell_type": "code",
   "execution_count": null,
   "id": "1485f8da",
   "metadata": {},
   "outputs": [],
   "source": [
    "a **= b # a = a ** b\n",
    "print(a)"
   ]
  },
  {
   "cell_type": "code",
   "execution_count": null,
   "id": "5f3055ae",
   "metadata": {},
   "outputs": [],
   "source": [
    "print(a % b)"
   ]
  },
  {
   "cell_type": "markdown",
   "id": "a6ead255",
   "metadata": {},
   "source": [
    "## IF-ELSE-ELIF"
   ]
  },
  {
   "cell_type": "markdown",
   "id": "dd8dd68b",
   "metadata": {},
   "source": [
    "What is an `if-else` statement? It is a conditional operator that executes different blocks of code depending on whether a condition is true or false.\n",
    "```\n",
    "if condition:\n",
    "    # If the condition is true (condition equals True)\n",
    "\n",
    "else:\n",
    "    # If the condition is false (condition equals False)\n",
    "```\n",
    "In Python, indentation (using 4 spaces or a tab) is crucial. Indentation determines which code belongs inside the conditional statement and which code is outside of it. The code indented under the `if` block will execute if the condition is true, and the code indented under the `else` block will execute if the condition is false."
   ]
  },
  {
   "cell_type": "code",
   "execution_count": null,
   "id": "24588bcd",
   "metadata": {},
   "outputs": [],
   "source": [
    "val1 = int(input())\n",
    "val2 = int(input())\n",
    "if val1 > val2:\n",
    "    print(\"Val1 is bigger than val2\")"
   ]
  },
  {
   "cell_type": "code",
   "execution_count": null,
   "id": "d3e982eb",
   "metadata": {},
   "outputs": [],
   "source": [
    "#if-else\n",
    "if val1 > val2:\n",
    "    print(\"Val1 is bigger than val2\")\n",
    "else:\n",
    "    print(\"Val2 is bigger that val1\")\n",
    "# If the condition val1 > val2 is true, the code inside the if block is executed. \n",
    "# Otherwise, the code inside the else block is executed."
   ]
  },
  {
   "cell_type": "markdown",
   "id": "67781489",
   "metadata": {},
   "source": [
    "If there are more than two possible outcomes and you don't want to nest multiple `if` statements inside each other, you can use the `elif` (else if) statement.\n",
    "\n",
    "```\n",
    "if condition 1:\n",
    "    ...\n",
    "else:\n",
    "    if condition 2:\n",
    "        ...\n",
    "    else:\n",
    "        ...\n",
    "```\n",
    "\n",
    "This is equivalent to:\n",
    "\n",
    "```\n",
    "if condition 1:\n",
    "    ...\n",
    "elif condition 2:\n",
    "    ...\n",
    "else:\n",
    "    ...\n",
    "```\n",
    "\n",
    "The `elif` statement allows you to check for additional conditions if the previous conditions were false. This makes the code more readable and concise, instead of nesting multiple `if` statements inside an `else` block."
   ]
  },
  {
   "cell_type": "code",
   "execution_count": null,
   "id": "5a4bb9cc",
   "metadata": {},
   "outputs": [],
   "source": [
    "if val1 > val2:\n",
    "    print(\"Val1 is bigger than val2\")\n",
    "elif val1 == val2:\n",
    "    print(\"Val1 equal val2\")\n",
    "else:\n",
    "    print(\"Val2 is bigger that val2\")\n",
    "# If the condition val1 > val2 is true, the corresponding block is executed. \n",
    "# If it's false, the next condition val1 == val2 is checked. \n",
    "# If it's also false, the final else block is executed."
   ]
  },
  {
   "cell_type": "markdown",
   "id": "e22aa1c5",
   "metadata": {},
   "source": [
    "**Complex conditions (using and, or, not):**"
   ]
  },
  {
   "cell_type": "code",
   "execution_count": null,
   "id": "ddb0e75a",
   "metadata": {},
   "outputs": [],
   "source": [
    "if val1 + val2 == 0 and val1 > 0:\n",
    "    print(\"Statement correct\")"
   ]
  },
  {
   "cell_type": "markdown",
   "id": "6386a213",
   "metadata": {},
   "source": [
    "The code inside the if block will only be executed if both conditions val1 + val2 == 0 and val1 > 0 are true."
   ]
  },
  {
   "cell_type": "code",
   "execution_count": null,
   "id": "14199d5c",
   "metadata": {},
   "outputs": [],
   "source": [
    "#Using not:\n",
    "if not val1 > 0:\n",
    "    print(\"Negative\")\n",
    "#The not operator negates the condition. \n",
    "#Code inside the if block will be executed if val1 is not greater than 0 (i.e., val1 is less than or equal to 0)."
   ]
  },
  {
   "cell_type": "code",
   "execution_count": null,
   "id": "666449cf",
   "metadata": {},
   "outputs": [],
   "source": [
    "# != (not equal to):\n",
    "if val1 != 10:\n",
    "    print(\"Not 10\")\n",
    "# Checks if val1 is not equal to 10. If the condition is true, the code inside the if block is executed."
   ]
  },
  {
   "cell_type": "markdown",
   "id": "b8fc86ad",
   "metadata": {},
   "source": [
    "## Loops"
   ]
  },
  {
   "cell_type": "markdown",
   "id": "1b5a7bef",
   "metadata": {},
   "source": [
    "Terminology:\n",
    "A loop is a construct that executes a block of code multiple times.\n",
    "An iteration is a single execution of the loop's body.\n",
    "\n",
    "### While\n",
    "\n",
    "**While** is a loop, which means a repeating block of code, as long as the loop condition is true.\n",
    "\n",
    "```python\n",
    "while condition:\n",
    "    ...\n",
    "    # loop body\n",
    "```\n",
    "\n",
    "Let's consider an example.\n",
    "\n",
    "We have a sequence of decreasing integers, and we need to count how many numbers are greater than 10 and print the result.\n",
    "\n",
    "Input:\n",
    "A sequence of numbers, one number per line. The sequence ends with 0.\n",
    "\n",
    "Output:\n",
    "The number of integers greater than 10."
   ]
  },
  {
   "cell_type": "code",
   "execution_count": null,
   "id": "23d5c4fe",
   "metadata": {},
   "outputs": [],
   "source": [
    "num = int(input()) # Read the first number in the sequence\n",
    "\n",
    "count = 0 # Initialize a counter to store the answer\n",
    "\n",
    "while num > 10: # Check the condition\n",
    "    count += 1 # Increment the counter since we found a valid number\n",
    "    num = int(input()) # Read the next number in the sequence\n",
    "    # After this line, we go back and check if the condition is still true\n",
    "\n",
    "print('Answer:', count)"
   ]
  },
  {
   "cell_type": "markdown",
   "id": "57346f5a",
   "metadata": {},
   "source": [
    "When working with loops, the following keywords are also used:\n",
    "\n",
    "+ `break` - to break out of the loop entirely\n",
    "+ `continue` - to skip the remaining code in the current iteration and move to the next iteration"
   ]
  },
  {
   "cell_type": "code",
   "execution_count": null,
   "id": "e0e31b5d",
   "metadata": {},
   "outputs": [],
   "source": [
    "a = 2\n",
    "\n",
    "while a >= 2:\n",
    "    a **= 2  # Raise a to the power of 2\n",
    "    if a > 128:\n",
    "        break  # Exit the loop if a becomes greater than 128\n",
    "    print(a)"
   ]
  },
  {
   "cell_type": "code",
   "execution_count": null,
   "id": "b3c62b4e",
   "metadata": {},
   "outputs": [],
   "source": [
    "a = 169\n",
    "\n",
    "while a > 1:\n",
    "    a -= 3\n",
    "    print('1.', a) #First it outputs '1.', and then a\n",
    "    if a % 2 == 1:  # If a is odd\n",
    "        continue  # Skip the remaining code in this iteration\n",
    "    a //= 2  # Integer division by 2\n",
    "    print('2.', a)\n",
    "\n",
    "print(a)"
   ]
  },
  {
   "cell_type": "markdown",
   "id": "484dadaf",
   "metadata": {},
   "source": [
    "### For\n",
    "\n",
    "**For** loop - a loop that iterates over indices (most commonly) within a specified range.\n",
    "\n",
    "The range is defined as:\n",
    "`range(start, end, step=1)`\n",
    "\n",
    "This means the index will range from `start` to `end` (exclusive), and the index value is incremented by `step` each time (default is 1, so it can be omitted).\n",
    "\n",
    "```\n",
    "for variable_name in range(start, end, step):\n",
    "    ...\n",
    "    loop_body\n",
    "```"
   ]
  },
  {
   "cell_type": "code",
   "execution_count": null,
   "id": "f4556be3",
   "metadata": {},
   "outputs": [],
   "source": [
    "for i in range(10):\n",
    "    print(i)"
   ]
  },
  {
   "cell_type": "code",
   "execution_count": null,
   "id": "3c885780",
   "metadata": {},
   "outputs": [],
   "source": [
    "# variable_name in range(start, end)\n",
    "# int i = 5; i < 8; i++\n",
    "\n",
    "for i in range(5, 8):\n",
    "    print(i)"
   ]
  },
  {
   "cell_type": "code",
   "execution_count": null,
   "id": "66dc575d",
   "metadata": {},
   "outputs": [],
   "source": [
    "# for variable_name in range(start, end, step):\n",
    "# int i = -10; i < 0; i += 2\n",
    "for i in range(-10, 0, 2):\n",
    "    print(i)"
   ]
  },
  {
   "cell_type": "markdown",
   "id": "d93c504d",
   "metadata": {},
   "source": [
    "If we need to find all squares of even numbers from 1 to 20"
   ]
  },
  {
   "cell_type": "code",
   "execution_count": 9,
   "id": "dcc16a2d",
   "metadata": {},
   "outputs": [
    {
     "name": "stdout",
     "output_type": "stream",
     "text": [
      "The square of 2 is 4\n",
      "The square of 4 is 16\n",
      "The square of 6 is 36\n",
      "The square of 8 is 64\n",
      "The square of 10 is 100\n",
      "The square of 12 is 144\n",
      "The square of 14 is 196\n",
      "The square of 16 is 256\n",
      "The square of 18 is 324\n",
      "The square of 20 is 400\n"
     ]
    }
   ],
   "source": [
    "for number in range(2, 21, 2):\n",
    "    square = number ** 2\n",
    "    print(f\"The square of {number} is {square}\")"
   ]
  },
  {
   "cell_type": "markdown",
   "id": "36a99543",
   "metadata": {},
   "source": [
    "Here you can also see an F-string (formatted string literal). It is a string formatting mechanism introduced in Python 3.6 that provides a concise and flexible way to embed expressions inside string literals. It allows you to include the value of Python expressions inside strings by prefixing the string with f or F and enclosing the expression in curly braces {}."
   ]
  },
  {
   "cell_type": "code",
   "execution_count": null,
   "id": "9cbcb729",
   "metadata": {},
   "outputs": [],
   "source": [
    "name = \"Alice\"\n",
    "age = 25\n",
    "print(f\"My name is {name} and I'm {age} years old.\")\n",
    "# Output: My name is Alice and I'm 25 years old."
   ]
  },
  {
   "cell_type": "markdown",
   "id": "eec800c0",
   "metadata": {},
   "source": [
    "But we will also recall the for loop in the next topic."
   ]
  },
  {
   "cell_type": "markdown",
   "id": "7453b8b2",
   "metadata": {},
   "source": [
    "### List\n",
    "\n",
    "A list is a ordered collection of items, where each item is assigned a numerical index starting from 0. The items in a list can be of different data types, such as integers, floats, strings, or even other lists or objects. Python provides a flexible way to create and manipulate lists.\n",
    "\n",
    "To create a list, you can use square brackets [ ] and separate the items with commas."
   ]
  },
  {
   "cell_type": "code",
   "execution_count": 11,
   "id": "1018ec64",
   "metadata": {},
   "outputs": [
    {
     "name": "stdout",
     "output_type": "stream",
     "text": [
      "[1, 2.5, 'hello', True]\n",
      "1 2.5 hello True\n"
     ]
    }
   ],
   "source": [
    "example_list1 = [] #This is a list\n",
    "example_list2 = list() #This is also a list\n",
    "my_list = [1, 2.5, \"hello\", True] \n",
    "print(my_list)\n",
    "print(*my_list) #Print a list without parentheses and commas"
   ]
  },
  {
   "cell_type": "markdown",
   "id": "ce59e611",
   "metadata": {},
   "source": [
    "Python supports indexing, which means you can access individual items in the list using their index position. Positive indexes start from 0 for the first item, while negative indexes start from -1 for the last item.\n",
    "\n",
    "Lists are dynamic arrays, meaning their size can grow or shrink as needed by adding or removing elements. You can modify lists by appending new items, inserting items at specific positions, removing items, or even sorting the list."
   ]
  },
  {
   "cell_type": "code",
   "execution_count": null,
   "id": "8c914bff",
   "metadata": {},
   "outputs": [],
   "source": [
    "# Index appeal (to the second element)\n",
    "print(my_list[1])\n",
    "print(my_list[0]) # to the first element\n",
    "# Negative index appeal\n",
    "# Negative indexes - output of elements from the end\n",
    "# -1 - the first element from the end\n",
    "print(\"first elem from end\", my_list[-1])\n",
    "print(\"second elem from end\", my_list[-2])"
   ]
  },
  {
   "cell_type": "markdown",
   "id": "a678dbdf",
   "metadata": {},
   "source": [
    "We can change elements of the array (even if they are different types)"
   ]
  },
  {
   "cell_type": "code",
   "execution_count": null,
   "id": "b87df0af",
   "metadata": {},
   "outputs": [],
   "source": [
    "my_list[3] = 42\n",
    "\n",
    "my_list"
   ]
  },
  {
   "cell_type": "markdown",
   "id": "305f8a02",
   "metadata": {},
   "source": [
    "With `for`, you can also fill the list with values."
   ]
  },
  {
   "cell_type": "code",
   "execution_count": null,
   "id": "c015cb5e",
   "metadata": {},
   "outputs": [],
   "source": [
    "lst = [i for i in range(1, 10)]\n",
    "print(*lst)"
   ]
  },
  {
   "cell_type": "code",
   "execution_count": null,
   "id": "37eea5f2",
   "metadata": {},
   "outputs": [],
   "source": [
    "# This construct allows creating a list based on the input data\n",
    "some_list = list(map(int, input().split()))\n",
    "print(*some_list)\n",
    "# The append method - insert an element at the end, extending the list\n",
    "some_list.append(\"No, haha\")\n",
    "print(*some_list)\n",
    "\n",
    "some_list.insert(2, \"Teacher said to use insert\")\n",
    "print(*some_list)\n",
    "\n",
    "# Removing from the list\n",
    "# pop - extracting an element from the list by index\n",
    "some_list.pop(2)\n",
    "print(*some_list)\n",
    "# Removing from the list using del\n",
    "del some_list[3]\n",
    "print(*some_list)"
   ]
  },
  {
   "cell_type": "markdown",
   "id": "2d3413df",
   "metadata": {},
   "source": [
    "Let's go through the methods available for lists:\n",
    "\n",
    "- `append()`\n",
    "  - Adds an element to the end of the list.\n",
    "\n",
    "- `pop(index=-1)`\n",
    "  - Removes an element by index, defaulting to the last element.\n",
    "\n",
    "- `insert(index, elem)`\n",
    "  - Adds an element at the specified index.\n",
    "\n",
    "- `remove(elem)`\n",
    "  - Removes the first occurrence of the element, otherwise raises an error.\n",
    "\n",
    "- `clear()`\n",
    "  - Removes all elements from the list.\n",
    "\n",
    "- `extend(collection)`\n",
    "  - Adds a collection to the end of the list.\n",
    "\n",
    "- `index(elem)`\n",
    "  - Returns the index of the first occurrence of the element.\n",
    "\n",
    "- `count(elem)`\n",
    "  - Returns the number of occurrences of the element in the list.\n",
    "\n",
    "- `reverse()`\n",
    "  - Reverses the list (back to front).\n",
    "\n",
    "- `sort(), sort(reverse=True)`\n",
    "  - Sorts the list in ascending order (or descending if `reverse=True`).\n"
   ]
  },
  {
   "cell_type": "code",
   "execution_count": null,
   "id": "7888be58",
   "metadata": {},
   "outputs": [],
   "source": [
    "lst = [1, 25, 7.9, 25.0, 'x']\n",
    "\n",
    "# Adding an element to the end of the list\n",
    "lst.append(42)\n",
    "print(lst) \n",
    "\n",
    "# Removing the last element from the list\n",
    "lst.pop()\n",
    "print(lst)  \n",
    "\n",
    "# Inserting an element at a specific index\n",
    "lst.insert(2, 'hello')\n",
    "print(lst)  \n",
    "\n",
    "# Removing the first occurrence of an element\n",
    "lst.remove(25)\n",
    "print(lst) \n",
    "\n",
    "# Extending the list with a collection\n",
    "lst.extend('cat')\n",
    "print(lst)  \n",
    "\n",
    "# Reversing the list\n",
    "lst.reverse()\n",
    "print(lst) \n",
    "\n",
    "# Extending the list with another collection\n",
    "lst.extend(['b', 'b', 3])\n",
    "print(lst)  \n",
    "\n",
    "# Counting occurrences of an element\n",
    "print(lst.count('b'))  \n",
    "\n",
    "# Finding the index of the first occurrence of an element\n",
    "print(lst.index('b')) \n",
    "\n",
    "# Clearing all elements from the list\n",
    "lst.clear()\n",
    "print(lst) "
   ]
  },
  {
   "cell_type": "markdown",
   "id": "093bcbe7",
   "metadata": {},
   "source": [
    "For lists, the operations `+` and `*` are defined. You can concatenate lists using `+` and repeat lists using `*`."
   ]
  },
  {
   "cell_type": "code",
   "execution_count": null,
   "id": "f857a09d",
   "metadata": {},
   "outputs": [],
   "source": [
    "lst = [1, 2, 3]\n",
    "\n",
    "lst += [4, 5]\n",
    "print(lst)\n",
    "\n",
    "lst *= 2\n",
    "print(lst)\n",
    "\n",
    "lst[2] = 0\n",
    "print(lst)"
   ]
  },
  {
   "cell_type": "markdown",
   "id": "e33b6758",
   "metadata": {},
   "source": [
    "#### And briefly about the slices"
   ]
  },
  {
   "cell_type": "code",
   "execution_count": null,
   "id": "334fdb2c",
   "metadata": {},
   "outputs": [],
   "source": [
    "# The ideology of slicing - extracting a part of the list\n",
    "# [start:end] - end is not inclusive\n",
    "print(lst[1:4])\n",
    "\n",
    "# [0 : end] - end is not inclusive\n",
    "print(lst[:4])\n",
    "\n",
    "# [start: till the end]\n",
    "print(lst[1:])"
   ]
  },
  {
   "cell_type": "markdown",
   "id": "f6749afb",
   "metadata": {},
   "source": [
    "That's not all we can do with lists, but more on that later"
   ]
  },
  {
   "cell_type": "markdown",
   "id": "ccf7b7d0",
   "metadata": {},
   "source": [
    "### String\n",
    "1. Strings in Python can be defined using single quotes (`'`), double quotes (`\"`), or triple quotes (`\"\"\"\"`).\n",
    "2. Strings are immutable, meaning you cannot change individual characters within a string.\n",
    "3. You can access individual characters in a string using indexing, where the first character has an index of 0.\n",
    "4. Negative indices are used to access characters from the end of the string.\n",
    "5. To modify a string, you need to convert it to a list, make changes, and then convert it back to a string.\n",
    "6. You can check if a substring is present in a string using the `in` operator.\n",
    "7. Slicing can be applied to strings to extract substrings.\n",
    "8. Python provides various string methods to perform operations like checking if a string contains only alphanumeric characters (`isalnum()`), checking if a string is in uppercase (`isupper()`), counting occurrences of a substring (`count()`), and more."
   ]
  },
  {
   "cell_type": "code",
   "execution_count": null,
   "id": "7760ea06",
   "metadata": {},
   "outputs": [],
   "source": [
    "# Both double quotes (\") and single quotes (') can be used to denote a string\n",
    "word = 'Hello'\n",
    "\n",
    "# A string is an array of characters\n",
    "# You can access characters by index\n",
    "print(word[3])\n",
    "print(word[2])\n",
    "print(word[-2])\n",
    "\n",
    "# IMPORTANT NOTE\n",
    "# TypeError: 'str' object does not support item assignment\n",
    "# Strings cannot be edited!\n",
    "# word[3] = 'r'\n",
    "\n",
    "# How to change a string?\n",
    "word_ls = list(word)\n",
    "print(word_ls)\n",
    "word_ls[3] = 'r'\n",
    "print(word_ls)\n",
    "# Convert the list back to a string\n",
    "\n",
    "# A string is a special case of a tuple. A tuple is an immutable list :)\n",
    "# Searching for a substring in a string\n",
    "base_str = \"Hello! It's me Mario!\"\n",
    "# Checking if a string is present in a substring - returns True if the string is present\n",
    "# word = 'Hello' (defined at the beginning)\n",
    "# 'Hello' is present in the string \"Hello! It's me Mario!\"\n",
    "print(word in base_str)\n",
    "word = 'me'\n",
    "print(word in base_str)\n",
    "word = 'box'\n",
    "print(word in base_str)\n",
    "\n",
    "# We can apply slicing to strings\n",
    "print(base_str[2:10])\n",
    "# Slice from 0 to 10 with a step of 2\n",
    "print(base_str[0:10:2])\n",
    "\n",
    "# Calling methods for strings\n",
    "# isalnum - string consists of letters AND digits\n",
    "print(base_str.isalnum())\n",
    "base_str = '123hello'\n",
    "print(base_str.isalnum())\n",
    "base_str = '123'\n",
    "print(base_str.isalnum())\n",
    "# is something there - checks if the string meets a certain criterion\n",
    "# isalpha, digit, etc.\n",
    "# islower - checks for lowercase, isupper - checks for uppercase\n",
    "base_str = 'CAPS LOCK'\n",
    "print(base_str.isupper())\n",
    "base_str = 'caps lock'\n",
    "print(base_str.isupper())\n",
    "\n",
    "# Apply methods as with lists\n",
    "base_str = 'Hello moto'\n",
    "# Count the occurrences of the letter 'o'\n",
    "print(base_str.count('o'))"
   ]
  },
  {
   "cell_type": "markdown",
   "id": "46cd4524",
   "metadata": {},
   "source": [
    "What we've covered so far is just a small portion of the data types available in Python. The Python standard library and third-party libraries offer even more data types and data structures for various tasks and use cases. These include dictionaries, sets, functions, classes, files, modules, exceptions, and many others. Python is renowned for its extensive and flexible ecosystem, which provides developers with a wide array of tools and features to work with."
   ]
  },
  {
   "cell_type": "markdown",
   "id": "deaf6466",
   "metadata": {},
   "source": [
    "### And lastly: Type conversion"
   ]
  },
  {
   "cell_type": "markdown",
   "id": "9d993310",
   "metadata": {},
   "source": [
    "We already know a few different types of data, but we would like to be able to cast one into another. For example: `5.0` (float) -> `5` (int) or `'22` (str) -> `22` (int)\n",
    "\n",
    "There are certain functions for this purpose:\n",
    "+ bool() \\- to a logical type\n",
    "+ int() \\- to integer type\n",
    "+ float() \\- to a real number\n",
    "+ list() \\- to a list\n",
    "+ str() \\- to a string\n",
    "\n",
    "These functions can also be used if we want to initialize a variable with a certain type. For example: `float(5)` -> the variable will be of type `float`, not `int`."
   ]
  },
  {
   "cell_type": "code",
   "execution_count": 15,
   "id": "7cfd848d",
   "metadata": {},
   "outputs": [
    {
     "name": "stdout",
     "output_type": "stream",
     "text": [
      "4.2 7 ['1', '2', '5', '6'] False 56\n"
     ]
    }
   ],
   "source": [
    "float_val = float(4.2)\n",
    "\n",
    "int_val = int('7')\n",
    "\n",
    "lst = list('1256')\n",
    "\n",
    "bool_val = bool(0)\n",
    "\n",
    "string = str(56)\n",
    "\n",
    "print(float_val, int_val, lst, bool_val, string)"
   ]
  },
  {
   "cell_type": "markdown",
   "id": "42f1c4a0",
   "metadata": {},
   "source": [
    "However, not every data type can be converted to another data type. For instance, attempting to perform such conversions will result in an error for each line of code provided below."
   ]
  },
  {
   "cell_type": "code",
   "execution_count": null,
   "id": "7e203d84",
   "metadata": {},
   "outputs": [],
   "source": [
    "int('aa')\n",
    "\n",
    "float('bar')\n",
    "\n",
    "float('0.77')\n",
    "\n",
    "list(4567)"
   ]
  }
 ],
 "metadata": {
  "kernelspec": {
   "display_name": "Python 3 (ipykernel)",
   "language": "python",
   "name": "python3"
  },
  "language_info": {
   "codemirror_mode": {
    "name": "ipython",
    "version": 3
   },
   "file_extension": ".py",
   "mimetype": "text/x-python",
   "name": "python",
   "nbconvert_exporter": "python",
   "pygments_lexer": "ipython3",
   "version": "3.11.7"
  },
  "nbTranslate": {
   "displayLangs": [
    "ru"
   ],
   "hotkey": "alt-t",
   "langInMainMenu": true,
   "sourceLang": "en",
   "targetLang": "ru",
   "useGoogleTranslate": true
  }
 },
 "nbformat": 4,
 "nbformat_minor": 5
}
