{
 "cells": [
  {
   "cell_type": "markdown",
   "id": "48b0b7b3",
   "metadata": {},
   "source": [
    "# Creating bot in Telegram"
   ]
  },
  {
   "cell_type": "markdown",
   "id": "23b849df",
   "metadata": {},
   "source": [
    "You probably know what Telegram is. Messenger is one of the fastest growing applications in the world in terms of the number of users. Therefore, the use of various tools provided by telegram is of great relevance. Here we turn to bots.\n",
    "Telegram bots can be integrated into group chats, channels, and private conversations, offering a wide range of functionalities. They can be used for tasks such as sending notifications, retrieving data from external sources, automating processes, providing customer support, and much more."
   ]
  },
  {
   "cell_type": "markdown",
   "id": "d4c2ec4f",
   "metadata": {},
   "source": [
    "### Installing Necessary Libraries\n",
    "First, install the Telebot library using pip:\n",
    "\n",
    "```\n",
    "pip install pytelegrambotapi\n",
    "```"
   ]
  },
  {
   "cell_type": "markdown",
   "id": "eb398955",
   "metadata": {},
   "source": [
    "## Creating a Bot on Telegram"
   ]
  },
  {
   "cell_type": "markdown",
   "id": "55879c1b",
   "metadata": {},
   "source": [
    "To create a new bot on Telegram, follow these steps:\n",
    "\n",
    "1. Open Telegram and search for the BotFather (@BotFather).\n",
    "2. Start a chat with BotFather and send the command `/start`.\n",
    "3. /newbot - command for registration\n",
    "\n",
    "Input Data\n",
    "▪ Bot Name (any)\n",
    "▪ Bot Username (unique, ending with bot)\n",
    "Output Data\n",
    "▪ Authorization Token for the bot\n",
    "\n",
    "Token\n",
    "\n",
    "Example of a token: 1621840900:AAFzEyGvpfolq-rv03BDcCASyB-iVjvRapM\n",
    "\n",
    "**Attention: Keep it secret, do not share with anyone!**\n",
    "\n",
    "If the token is compromised, write to the bot @BotFather\n",
    "\n",
    "▪ Command /revoke - revoke the old token\n",
    "\n",
    "▪ Command /token - generate a new token\n",
    "\n",
    "After registration\n",
    "\n",
    "▪ /setabouttext adds a text description for the bot, which users can view in the bot's profile (up to 200 characters);\n",
    "\n",
    "▪ /setdescription adds a brief description (what the bot does) for the bot, which is displayed when adding the bot to the contact list at the start (up to 512 characters); \n",
    "\n",
    "▪ /setuserpic sets the picture you send to the bot as the bot's avatar image.\n",
    "\n",
    "All documentation is here: https://core.telegram.org/bots/api"
   ]
  },
  {
   "cell_type": "markdown",
   "id": "e8b255ef",
   "metadata": {},
   "source": [
    "## Initialization"
   ]
  },
  {
   "cell_type": "code",
   "execution_count": null,
   "id": "f332583c",
   "metadata": {},
   "outputs": [],
   "source": [
    "import telebot\n",
    "\n",
    "API_TOKEN = 'YOUR_TELEGRAM_BOT_TOKEN'"
   ]
  },
  {
   "cell_type": "markdown",
   "id": "00b74ac3",
   "metadata": {},
   "source": [
    "To prevent spam, bots on Telegram are not allowed to send messages to a user until the user initiates a conversation with the bot at least once.\n",
    "In such a case, a chat identifier is created for that user, through which the bot can send messages to that user.\n",
    "A separate handler function is created for each type of message or command."
   ]
  },
  {
   "cell_type": "code",
   "execution_count": null,
   "id": "fe5a7547",
   "metadata": {},
   "outputs": [],
   "source": [
    "@bot.message_handler(func=lambda message: True) \n",
    "#This lambda function takes a message parameter and always returns True.\n",
    "def echo_all(message):\n",
    "    bot.reply_to(message, message.text)\n",
    "                #message->indicating the recipient of the message\n",
    "                #message.text -> text of the message (simply echo bot)"
   ]
  },
  {
   "cell_type": "markdown",
   "id": "9edff3a2",
   "metadata": {},
   "source": [
    "### Launching the bot"
   ]
  },
  {
   "cell_type": "code",
   "execution_count": null,
   "id": "cc962628",
   "metadata": {},
   "outputs": [],
   "source": [
    "if __name__ == '__main__':\n",
    "    bot.polling(none_stop=True)"
   ]
  },
  {
   "cell_type": "code",
   "execution_count": null,
   "id": "f11e3a4c",
   "metadata": {},
   "outputs": [],
   "source": [
    "#FULL CODE\n",
    "import telebot\n",
    "\n",
    "API_TOKEN = 'YOUR_TELEGRAM_BOT_TOKEN'\n",
    "\n",
    "bot = telebot.TeleBot(API_TOKEN)\n",
    "\n",
    "@bot.message_handler(func=lambda message: True)\n",
    "def echo_all(message):\n",
    "    bot.reply_to(message, message.text)\n",
    "\n",
    "if __name__ == '__main__':\n",
    "    bot.polling(none_stop=True)"
   ]
  },
  {
   "cell_type": "markdown",
   "id": "532106fd",
   "metadata": {},
   "source": [
    "**Automatic command substitution** (like /start or /help)\n",
    "Implemented using @botfather\n",
    "The /setcommands command"
   ]
  },
  {
   "cell_type": "code",
   "execution_count": null,
   "id": "8b7f6c00",
   "metadata": {},
   "outputs": [],
   "source": [
    "import telebot\n",
    "\n",
    "API_TOKEN = 'YOUR_TELEGRAM_BOT_TOKEN'\n",
    "\n",
    "bot = telebot.TeleBot(API_TOKEN)\n",
    "\n",
    "@bot.message_handler(commands=['start', 'help'])\n",
    "def send_welcome(message):\n",
    "    bot.reply_to(message, \"Hello! How can I assist you?\")\n",
    "\n",
    "@bot.message_handler(func=lambda message: True)\n",
    "def echo_all(message):\n",
    "    bot.reply_to(message, message.text)\n",
    "\n",
    "if __name__ == '__main__':\n",
    "    bot.polling(none_stop=True)"
   ]
  },
  {
   "cell_type": "markdown",
   "id": "ffa947c3",
   "metadata": {},
   "source": [
    "And we can process messages according to different data types"
   ]
  },
  {
   "cell_type": "code",
   "execution_count": null,
   "id": "6d12dd43",
   "metadata": {},
   "outputs": [],
   "source": [
    "@bot.message_handler(content_types=['text']) #Text\n",
    "def handle_text(message):\n",
    "    bot.reply_to(message, f\"You said: {message.text}\")"
   ]
  },
  {
   "cell_type": "code",
   "execution_count": null,
   "id": "e430c481",
   "metadata": {},
   "outputs": [],
   "source": [
    "@bot.message_handler(content_types=['photo'])\n",
    "def handle_photo(message):\n",
    "    bot.reply_to(message, \"Nice photo!\")"
   ]
  },
  {
   "cell_type": "code",
   "execution_count": null,
   "id": "c155cbf6",
   "metadata": {},
   "outputs": [],
   "source": [
    "@bot.message_handler(content_types=['document'])\n",
    "def handle_document(message):\n",
    "    bot.reply_to(message, \"Thanks for the document!\")"
   ]
  },
  {
   "cell_type": "markdown",
   "id": "7195a3f7",
   "metadata": {},
   "source": [
    "Filter by content type:\n",
    "* text\n",
    "* audio\n",
    "* document\n",
    "* photo\n",
    "* sticker\n",
    "* video\n",
    "* voice\n",
    "* contact\n",
    "* location"
   ]
  },
  {
   "cell_type": "code",
   "execution_count": null,
   "id": "47337478",
   "metadata": {},
   "outputs": [],
   "source": [
    "@bot.message_handler(content_types=['text'])\n",
    "def recieve_message(message):\n",
    "     bot.send_message(message.chat.id, 'Welcome!')"
   ]
  },
  {
   "cell_type": "code",
   "execution_count": 1,
   "id": "35a8e980",
   "metadata": {
    "collapsed": true
   },
   "outputs": [
    {
     "ename": "NameError",
     "evalue": "name 'bot' is not defined",
     "output_type": "error",
     "traceback": [
      "\u001b[0;31m---------------------------------------------------------------------------\u001b[0m",
      "\u001b[0;31mNameError\u001b[0m                                 Traceback (most recent call last)",
      "Cell \u001b[0;32mIn[1], line 1\u001b[0m\n\u001b[0;32m----> 1\u001b[0m \u001b[38;5;129m@bot\u001b[39m\u001b[38;5;241m.\u001b[39mmessage_handler(\n\u001b[1;32m      2\u001b[0m     content_types\u001b[38;5;241m=\u001b[39m[\u001b[38;5;124m'\u001b[39m\u001b[38;5;124mtext\u001b[39m\u001b[38;5;124m'\u001b[39m, \u001b[38;5;124m'\u001b[39m\u001b[38;5;124mphoto\u001b[39m\u001b[38;5;124m'\u001b[39m])\n\u001b[1;32m      3\u001b[0m \u001b[38;5;28;01mdef\u001b[39;00m \u001b[38;5;21mrecieve_message\u001b[39m(message):\n\u001b[1;32m      4\u001b[0m     bot\u001b[38;5;241m.\u001b[39msend_message(\n\u001b[1;32m      5\u001b[0m          message\u001b[38;5;241m.\u001b[39mchat\u001b[38;5;241m.\u001b[39mid,\n\u001b[1;32m      6\u001b[0m          \u001b[38;5;124m'\u001b[39m\u001b[38;5;124mWelcome!\u001b[39m\u001b[38;5;124m'\u001b[39m\n\u001b[1;32m      7\u001b[0m )\n",
      "\u001b[0;31mNameError\u001b[0m: name 'bot' is not defined"
     ]
    }
   ],
   "source": [
    "@bot.message_handler(\n",
    "    content_types=['text', 'photo'])\n",
    "def recieve_message(message):\n",
    "    bot.send_message(\n",
    "         message.chat.id,\n",
    "         'Welcome!'\n",
    ")"
   ]
  },
  {
   "cell_type": "markdown",
   "id": "298a9206",
   "metadata": {},
   "source": [
    "Func filter\n",
    "\n",
    "Allows you to start the execution of the handler only if the message object meets the criterion defined by the function.\n",
    "\n",
    "Example:"
   ]
  },
  {
   "cell_type": "code",
   "execution_count": null,
   "id": "5295c5f6",
   "metadata": {},
   "outputs": [],
   "source": [
    "def test(message):\n",
    "    return len(message.text) % 2 == 0\n",
    "@bot.message_handler(func=test) \n",
    "    def example(message):\n",
    "        bot.send_message( \n",
    "            message.chat.id,\n",
    "            'Reply to a message with an even line length'\n",
    "        )"
   ]
  },
  {
   "cell_type": "markdown",
   "id": "a2ca3954",
   "metadata": {},
   "source": [
    "But we can replace this with lambda function.\n",
    "If you forgot:\n",
    "Lambda function is a single-line anonymous function, the only task of which is \"to get the output from the input data\".\n",
    "Syntax:\n",
    "\n",
    "lambda <input parameters>: <formula for calculating the result>\n",
    "\n",
    "Example:"
   ]
  },
  {
   "cell_type": "code",
   "execution_count": null,
   "id": "f4bc0a0c",
   "metadata": {},
   "outputs": [],
   "source": [
    "lambda number: number % 2 == 0 # charity determination of a number"
   ]
  },
  {
   "cell_type": "markdown",
   "id": "f515bad4",
   "metadata": {},
   "source": [
    "And we get"
   ]
  },
  {
   "cell_type": "code",
   "execution_count": null,
   "id": "4f2e8fc2",
   "metadata": {},
   "outputs": [],
   "source": [
    "@bot.message_handler(func=lambda m: len(m.text) % 2 == 0) def example(message):\n",
    "     bot.send_message(\n",
    "         message.chat.id,\n",
    "            'Reply to a message with an even line length'\n",
    "     )"
   ]
  },
  {
   "cell_type": "markdown",
   "id": "4c414eca",
   "metadata": {},
   "source": [
    "And by combining it with a message handler, we can get a function that the bot will respond to every request to itself."
   ]
  },
  {
   "cell_type": "code",
   "execution_count": null,
   "id": "34f9ebeb",
   "metadata": {},
   "outputs": [],
   "source": [
    "@bot.message_handler(func=lambda m: m.text.find('bot') != -1)\n",
    "def bot_call(message):\n",
    "    bot.send_message(message.chat.id, 'Did someone say bot???')"
   ]
  },
  {
   "cell_type": "markdown",
   "id": "fb5576e6",
   "metadata": {},
   "source": [
    "## Regex\n",
    "Regex (regular expression) is a string formation language designed to search for strings by repeated character sequences.\n",
    "### Basic Rules\n",
    "\n",
    "#### Pattern | Description\n",
    "\n",
    "- `.` \n",
    "  - Any character except `\\n`\n",
    "- `?` \n",
    "  - The preceding character appears 0 or 1 time\n",
    "- `+` \n",
    "  - The preceding character appears 1 or more times\n",
    "- `*` \n",
    "  - The preceding character appears 0 or more times\n",
    "- `{N}` \n",
    "  - The preceding character is repeated N times\n",
    "- `{N,M}` \n",
    "  - The preceding character is repeated between N and M times\n",
    "- `a|b` \n",
    "  - Either the character `a` or the character `b`\n",
    "- `[abc]` \n",
    "  - Any one of the characters `a`, `b`, or `c` within the square brackets\n",
    "  \n",
    "Example:\n",
    "- [012] – any of the digits 0, 1, or 2\n",
    "- [012]{2} – any of the following: 00, 01, 02, 10, 11, 12, 20, 21, 22\n",
    "\n",
    "### Special Characters\n",
    "\n",
    "#### Pattern | Description\n",
    "- `^` | Beginning of the string\n",
    "- `$` | End of the string\n",
    "- `\\w` | Any digit or letter\n",
    "- `\\d` | Any digit ([0-9])\n",
    "- `\\s` | Any whitespace character\n",
    "- `\\\\` | Escaping a character after \\\n",
    "\n",
    "### More Examples\n",
    "\n",
    "- **IP Address**: `[1-2][\\d]{2}\\.[1-2][\\d]{2}\\.[1-2][\\d]{2}\\.[1-2][\\d]{2}`\n",
    "- **Email**: [http://www.ex-parrot.com/~pdw/Mail-RFC822-Address.html](http://www.ex-parrot.com/~pdw/Mail-RFC822-Address.html)\n",
    "\n",
    "So, using this, we can create new handlers."
   ]
  },
  {
   "cell_type": "code",
   "execution_count": null,
   "id": "1f794791",
   "metadata": {},
   "outputs": [],
   "source": [
    " @bot.message_handler(regexp='^https?://') \n",
    "def func(msg):\n",
    "    bot.send_message(msg.chat.id, 'Oh, the link!')\n",
    "        \n",
    "@bot.message_handler(regexp='^.*bot.*$')\n",
    "def func(msg):\n",
    "    bot.send_message(msg.chat.id, 'Someone definitely said bot!')\n",
    " "
   ]
  },
  {
   "cell_type": "markdown",
   "id": "ecef7c65",
   "metadata": {},
   "source": [
    "### Important Notice!\n",
    "\n",
    "If a message matches multiple handlers, the first handler will be applied! Therefore, it's best to handle specific cases (commands) at the beginning and more general ones at the end (when all other handlers do not match)."
   ]
  },
  {
   "cell_type": "markdown",
   "id": "ab3b2ac7",
   "metadata": {},
   "source": [
    "### Virtual Keyboards\n",
    "\n",
    "Displayed on the screen as a panel with buttons. They are designed to simplify the input of predefined messages.\n",
    "\n",
    "#### Imports:"
   ]
  },
  {
   "cell_type": "code",
   "execution_count": null,
   "id": "9e595ef0",
   "metadata": {},
   "outputs": [],
   "source": [
    "from telebot.types import ReplyKeyboardMarkup, KeyboardButton, ReplyKeyboardRemove"
   ]
  },
  {
   "cell_type": "markdown",
   "id": "dd0489bf",
   "metadata": {},
   "source": [
    "Creating a keyboard object\n",
    "You can create regular Keyboard"
   ]
  },
  {
   "cell_type": "code",
   "execution_count": null,
   "id": "88ba54f3",
   "metadata": {},
   "outputs": [],
   "source": [
    "keyboard = ReplyKeyboardMarkup()\n",
    "keyboard.add(\n",
    "    KeyboardButton('Spring'),\n",
    "    KeyboardButton('Summer'),\n",
    "    KeyboardButton('Autumn'),\n",
    "    KeyboardButton('Winter')\n",
    ")"
   ]
  },
  {
   "cell_type": "markdown",
   "id": "a691c2a3",
   "metadata": {},
   "source": [
    "or create a keyboard with Multiple Rows"
   ]
  },
  {
   "cell_type": "code",
   "execution_count": null,
   "id": "4c069304",
   "metadata": {},
   "outputs": [],
   "source": [
    "keyboard = ReplyKeyboardMarkup()\n",
    "keyboard.row(\n",
    "    KeyboardButton('Spring'),\n",
    "    KeyboardButton('Summer')\n",
    ")\n",
    "keyboard.row(\n",
    "    KeyboardButton('Autumn'),\n",
    "    KeyboardButton('Winter')\n",
    ")"
   ]
  },
  {
   "cell_type": "markdown",
   "id": "f4fbe70a",
   "metadata": {},
   "source": [
    "And to display it"
   ]
  },
  {
   "cell_type": "code",
   "execution_count": null,
   "id": "d6271f92",
   "metadata": {},
   "outputs": [],
   "source": [
    "bot.send_message(chat_id, \"What's your favorite time of year?\", reply_markup=keyboard)"
   ]
  },
  {
   "cell_type": "markdown",
   "id": "5dee66a6",
   "metadata": {},
   "source": [
    "The keyboard remains on the screen after sending a message. This is annoying. To remove it, you need to create a new keyboard object:"
   ]
  },
  {
   "cell_type": "code",
   "execution_count": null,
   "id": "6b7ae585",
   "metadata": {},
   "outputs": [],
   "source": [
    "@bot.message_handler(regexp='Spring|Summer|Autumn|Winter')\n",
    "def year_answer_handler(message):\n",
    "    keyboard = ReplyKeyboardRemove()\n",
    "    bot.send_message(\n",
    "        message.chat.id, 'Thank you for your answer!', reply_markup=keyboard\n",
    "    )"
   ]
  },
  {
   "cell_type": "markdown",
   "id": "175a2a7e",
   "metadata": {},
   "source": [
    "## Homework\n",
    "Implement a bot that will:\n",
    "- Handle the `/help` command. In response to this command, it will display the surname of the bot's author.\n",
    "- Handle any numerical message. In response, the bot will convert the number into its word representation. For example, 123 -> One hundred twenty-three. For any non-numerical message, the response will be \"Invalid number.\""
   ]
  }
 ],
 "metadata": {
  "kernelspec": {
   "display_name": "Python 3 (ipykernel)",
   "language": "python",
   "name": "python3"
  },
  "language_info": {
   "codemirror_mode": {
    "name": "ipython",
    "version": 3
   },
   "file_extension": ".py",
   "mimetype": "text/x-python",
   "name": "python",
   "nbconvert_exporter": "python",
   "pygments_lexer": "ipython3",
   "version": "3.11.7"
  },
  "nbTranslate": {
   "displayLangs": [
    "*"
   ],
   "hotkey": "alt-t",
   "langInMainMenu": true,
   "sourceLang": "en",
   "targetLang": "fr",
   "useGoogleTranslate": true
  }
 },
 "nbformat": 4,
 "nbformat_minor": 5
}
