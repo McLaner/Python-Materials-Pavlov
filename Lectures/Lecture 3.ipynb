{
 "cells": [
  {
   "cell_type": "markdown",
   "id": "e3d58c96",
   "metadata": {},
   "source": [
    "# Paradigms of Programming "
   ]
  },
  {
   "cell_type": "markdown",
   "id": "d034da9d",
   "metadata": {},
   "source": [
    "## What is a programming paradigm?\n",
    "\n",
    "A programming paradigm is a way of thinking about and structuring computer programs. It's like having different strategies for solving problems. \n",
    "\n",
    "There are two major programming paradigms:\n",
    "\n",
    "1. **Imperative Programming**:\n",
    "Imperative programming is a paradigm where the program describes the computational process in terms of statements that change the program's state. It focuses on defining a sequence of commands or instructions for the computer to execute. The programmer explicitly specifies how to perform a task step by step.\n",
    "\n",
    "2. **Declarative Programming**:\n",
    "Declarative programming is a paradigm where the program specifies the desired result or outcome, rather than explicitly defining the control flow. The programmer declares what should be done, and the language implementation (compiler, interpreter, or runtime) determines how to accomplish it.\n",
    "\n",
    "**There is no one paradigm that fits everywhere, it is important to remember this. Different paradigms are useful for different types of problems and can sometimes be combined within one program.**\n",
    "\n",
    "## The Imperative Programming includes:"
   ]
  },
  {
   "cell_type": "markdown",
   "id": "02ac3119",
   "metadata": {},
   "source": [
    "### Procedural Programming:\n",
    "Procedural programming follows a top-down approach. It revolves around breaking down a complex problem into a set of procedures or functions, each performing a specific task. The program's control flow is linear, and data is manipulated through variables and function calls.\n",
    "Pros:\n",
    "- Simple and easy to understand, especially for beginners.\n",
    "- Well-suited for problems that can be broken down into a series of steps.\n",
    "- Provides a clear control flow and sequence of operations.\n",
    "- Efficient for certain types of problems, such as data processing and system programming.\n",
    "\n",
    "Cons:\n",
    "- Lack of code reusability and modularity can lead to duplication and maintenance issues.\n",
    "- Difficult to manage complexity in large-scale applications.\n",
    "- Procedural code can become harder to reason about as the codebase grows.\n",
    "- Limited support for abstraction and data-oriented programming."
   ]
  },
  {
   "cell_type": "code",
   "execution_count": 1,
   "id": "7f2b8c2a",
   "metadata": {},
   "outputs": [
    {
     "name": "stdout",
     "output_type": "stream",
     "text": [
      "15\n"
     ]
    }
   ],
   "source": [
    "# Procedural programming to calculate the sum of numbers in a list\n",
    "def sum_list(numbers):\n",
    "    total = 0\n",
    "    for num in numbers:\n",
    "        total += num\n",
    "    return total\n",
    "\n",
    "numbers = [1, 2, 3, 4, 5]\n",
    "result = sum_list(numbers)\n",
    "print(result)  # Output: 15"
   ]
  },
  {
   "cell_type": "markdown",
   "id": "607a5674",
   "metadata": {},
   "source": [
    "### Object-Oriented Programming (OOP):\n",
    "Paradigm that models real-world entities as objects, which encapsulate data (properties) and behavior (methods). It focuses on creating reusable code by organizing data and functions into classes and objects. Key principles include encapsulation, inheritance, and polymorphism.\n",
    "Pros:\n",
    "- Promotes code reusability through inheritance and encapsulation.\n",
    "- Supports modularity and organization of code into logical units (classes and objects).\n",
    "- Facilitates maintainability and scalability of large codebases.\n",
    "- Provides abstraction and data hiding, which can improve code readability and security.\n",
    "\n",
    "Cons:\n",
    "- Overhead of creating and managing objects can impact performance in certain scenarios.\n",
    "- Inheritance can introduce complexity and potential issues like the \"fragile base class\" problem.\n",
    "- Overuse of inheritance or deep inheritance hierarchies can make code harder to understand and maintain.\n",
    "- Shift in mindset from procedural programming may have a learning curve."
   ]
  },
  {
   "cell_type": "code",
   "execution_count": 2,
   "id": "92fc94d7",
   "metadata": {},
   "outputs": [
    {
     "name": "stdout",
     "output_type": "stream",
     "text": [
      "15\n"
     ]
    }
   ],
   "source": [
    "class Rectangle:\n",
    "    def __init__(self, length, width):\n",
    "        self.length = length\n",
    "        self.width = width\n",
    "\n",
    "    def area(self):\n",
    "        return self.length * self.width\n",
    "\n",
    "rect = Rectangle(5, 3)\n",
    "print(rect.area())  # Output: 15"
   ]
  },
  {
   "cell_type": "markdown",
   "id": "ca58f6f2",
   "metadata": {},
   "source": [
    "### Parallel Processing:\n",
    "Focuses on executing multiple computations simultaneously, leveraging multiple processors or cores. It can improve performance by dividing a task into smaller sub-tasks that can be executed concurrently.\n",
    "Pros:\n",
    "- Improved performance by leveraging multiple processors or cores.\n",
    "- Suitable for problems that can be divided into independent tasks or data partitions.\n",
    "- Enables efficient utilization of modern hardware and distributed systems.\n",
    "- Supports concurrent and asynchronous programming models.\n",
    "\n",
    "Cons:\n",
    "- Increased complexity in managing shared resources, synchronization, and avoiding race conditions.\n",
    "- Potential for deadlocks, livelocks, and other concurrency issues if not handled properly.\n",
    "- Overhead of task distribution and communication between processes or threads.\n",
    "- Debugging and testing parallel code can be more challenging."
   ]
  },
  {
   "cell_type": "code",
   "execution_count": null,
   "id": "26eee029",
   "metadata": {},
   "outputs": [
    {
     "name": "stderr",
     "output_type": "stream",
     "text": [
      "Process SpawnPoolWorker-1:\n",
      "Traceback (most recent call last):\n",
      "Process SpawnPoolWorker-2:\n",
      "Traceback (most recent call last):\n",
      "  File \"/opt/anaconda3/lib/python3.11/multiprocessing/process.py\", line 314, in _bootstrap\n",
      "    self.run()\n",
      "  File \"/opt/anaconda3/lib/python3.11/multiprocessing/process.py\", line 108, in run\n",
      "    self._target(*self._args, **self._kwargs)\n",
      "  File \"/opt/anaconda3/lib/python3.11/multiprocessing/pool.py\", line 114, in worker\n",
      "    task = get()\n",
      "           ^^^^^\n",
      "  File \"/opt/anaconda3/lib/python3.11/multiprocessing/queues.py\", line 367, in get\n",
      "    return _ForkingPickler.loads(res)\n",
      "           ^^^^^^^^^^^^^^^^^^^^^^^^^^\n",
      "AttributeError: Can't get attribute 'square' on <module '__main__' (built-in)>\n",
      "Process SpawnPoolWorker-3:\n",
      "  File \"/opt/anaconda3/lib/python3.11/multiprocessing/process.py\", line 314, in _bootstrap\n",
      "    self.run()\n",
      "  File \"/opt/anaconda3/lib/python3.11/multiprocessing/process.py\", line 108, in run\n",
      "    self._target(*self._args, **self._kwargs)\n",
      "  File \"/opt/anaconda3/lib/python3.11/multiprocessing/pool.py\", line 114, in worker\n",
      "    task = get()\n",
      "           ^^^^^\n",
      "  File \"/opt/anaconda3/lib/python3.11/multiprocessing/queues.py\", line 367, in get\n",
      "    return _ForkingPickler.loads(res)\n",
      "           ^^^^^^^^^^^^^^^^^^^^^^^^^^\n",
      "AttributeError: Can't get attribute 'square' on <module '__main__' (built-in)>\n",
      "Traceback (most recent call last):\n",
      "Process SpawnPoolWorker-4:\n",
      "  File \"/opt/anaconda3/lib/python3.11/multiprocessing/process.py\", line 314, in _bootstrap\n",
      "    self.run()\n",
      "  File \"/opt/anaconda3/lib/python3.11/multiprocessing/process.py\", line 108, in run\n",
      "    self._target(*self._args, **self._kwargs)\n",
      "  File \"/opt/anaconda3/lib/python3.11/multiprocessing/pool.py\", line 114, in worker\n",
      "    task = get()\n",
      "           ^^^^^\n",
      "  File \"/opt/anaconda3/lib/python3.11/multiprocessing/queues.py\", line 367, in get\n",
      "    return _ForkingPickler.loads(res)\n",
      "           ^^^^^^^^^^^^^^^^^^^^^^^^^^\n",
      "AttributeError: Can't get attribute 'square' on <module '__main__' (built-in)>\n",
      "Traceback (most recent call last):\n",
      "  File \"/opt/anaconda3/lib/python3.11/multiprocessing/process.py\", line 314, in _bootstrap\n",
      "    self.run()\n",
      "  File \"/opt/anaconda3/lib/python3.11/multiprocessing/process.py\", line 108, in run\n",
      "    self._target(*self._args, **self._kwargs)\n",
      "  File \"/opt/anaconda3/lib/python3.11/multiprocessing/pool.py\", line 114, in worker\n",
      "    task = get()\n",
      "           ^^^^^\n",
      "  File \"/opt/anaconda3/lib/python3.11/multiprocessing/queues.py\", line 367, in get\n",
      "    return _ForkingPickler.loads(res)\n",
      "           ^^^^^^^^^^^^^^^^^^^^^^^^^^\n",
      "AttributeError: Can't get attribute 'square' on <module '__main__' (built-in)>\n",
      "Process SpawnPoolWorker-5:\n",
      "Traceback (most recent call last):\n",
      "  File \"/opt/anaconda3/lib/python3.11/multiprocessing/process.py\", line 314, in _bootstrap\n",
      "    self.run()\n",
      "  File \"/opt/anaconda3/lib/python3.11/multiprocessing/process.py\", line 108, in run\n",
      "    self._target(*self._args, **self._kwargs)\n",
      "  File \"/opt/anaconda3/lib/python3.11/multiprocessing/pool.py\", line 114, in worker\n",
      "    task = get()\n",
      "           ^^^^^\n",
      "  File \"/opt/anaconda3/lib/python3.11/multiprocessing/queues.py\", line 367, in get\n",
      "    return _ForkingPickler.loads(res)\n",
      "           ^^^^^^^^^^^^^^^^^^^^^^^^^^\n",
      "AttributeError: Can't get attribute 'square' on <module '__main__' (built-in)>\n",
      "Process SpawnPoolWorker-6:\n",
      "Traceback (most recent call last):\n",
      "Process SpawnPoolWorker-7:\n",
      "Traceback (most recent call last):\n",
      "  File \"/opt/anaconda3/lib/python3.11/multiprocessing/process.py\", line 314, in _bootstrap\n",
      "    self.run()\n",
      "  File \"/opt/anaconda3/lib/python3.11/multiprocessing/process.py\", line 108, in run\n",
      "    self._target(*self._args, **self._kwargs)\n",
      "  File \"/opt/anaconda3/lib/python3.11/multiprocessing/pool.py\", line 114, in worker\n",
      "    task = get()\n",
      "           ^^^^^\n",
      "  File \"/opt/anaconda3/lib/python3.11/multiprocessing/queues.py\", line 367, in get\n",
      "    return _ForkingPickler.loads(res)\n",
      "           ^^^^^^^^^^^^^^^^^^^^^^^^^^\n",
      "AttributeError: Can't get attribute 'square' on <module '__main__' (built-in)>\n",
      "  File \"/opt/anaconda3/lib/python3.11/multiprocessing/process.py\", line 314, in _bootstrap\n",
      "    self.run()\n",
      "  File \"/opt/anaconda3/lib/python3.11/multiprocessing/process.py\", line 108, in run\n",
      "    self._target(*self._args, **self._kwargs)\n",
      "  File \"/opt/anaconda3/lib/python3.11/multiprocessing/pool.py\", line 114, in worker\n",
      "    task = get()\n",
      "           ^^^^^\n",
      "  File \"/opt/anaconda3/lib/python3.11/multiprocessing/queues.py\", line 367, in get\n",
      "    return _ForkingPickler.loads(res)\n",
      "           ^^^^^^^^^^^^^^^^^^^^^^^^^^\n",
      "AttributeError: Can't get attribute 'square' on <module '__main__' (built-in)>\n",
      "Process SpawnPoolWorker-8:\n",
      "Traceback (most recent call last):\n",
      "  File \"/opt/anaconda3/lib/python3.11/multiprocessing/process.py\", line 314, in _bootstrap\n",
      "    self.run()\n",
      "  File \"/opt/anaconda3/lib/python3.11/multiprocessing/process.py\", line 108, in run\n",
      "    self._target(*self._args, **self._kwargs)\n",
      "  File \"/opt/anaconda3/lib/python3.11/multiprocessing/pool.py\", line 114, in worker\n",
      "    task = get()\n",
      "           ^^^^^\n",
      "  File \"/opt/anaconda3/lib/python3.11/multiprocessing/queues.py\", line 367, in get\n",
      "    return _ForkingPickler.loads(res)\n",
      "           ^^^^^^^^^^^^^^^^^^^^^^^^^^\n",
      "AttributeError: Can't get attribute 'square' on <module '__main__' (built-in)>\n"
     ]
    }
   ],
   "source": [
    "import multiprocessing\n",
    "\n",
    "def square(x):\n",
    "    return x ** 2\n",
    "\n",
    "if __name__ == \"__main__\":\n",
    "    pool = multiprocessing.Pool(processes=4)\n",
    "    numbers = [1, 2, 3, 4, 5, 6, 7, 8]\n",
    "    results = pool.map(square, numbers)\n",
    "    print(results)  # Output: [1, 4, 9, 16, 25, 36, 49, 64]"
   ]
  },
  {
   "cell_type": "markdown",
   "id": "111ca7d0",
   "metadata": {},
   "source": [
    "## The Declarative Programming includes:"
   ]
  },
  {
   "cell_type": "markdown",
   "id": "fe0198cd",
   "metadata": {},
   "source": [
    "### Logic Programming:\n",
    "Expresses the logic of a computation without describing its control flow. It uses a set of facts and rules to represent knowledge, and a query is solved by attempting to derive a conclusion from the available information.\n",
    "Pros:\n",
    "- Declarative nature makes it easier to model and reason about complex problems.\n",
    "- Well-suited for problems that involve symbolic reasoning, knowledge representation, and inference.\n",
    "- Supports backtracking and constraint solving.\n",
    "- Encourages concise and expressive code.\n",
    "\n",
    "Cons:\n",
    "- Limited performance and scalability for certain types of problems.\n",
    "- Steep learning curve due to the different paradigm and syntax.\n",
    "- Limited tooling and library support compared to more mainstream paradigms.\n",
    "- May not be suitable for problems that require extensive data manipulation or numerical computations."
   ]
  },
  {
   "cell_type": "code",
   "execution_count": null,
   "id": "86101b70",
   "metadata": {},
   "outputs": [],
   "source": [
    "from pylogic import run_prolog\n",
    "\n",
    "prolog_code = \"\"\"\n",
    "parent(john, bob).\n",
    "parent(jane, bob).\n",
    "grandparent(X, Y) :- parent(X, Z), parent(Z, Y).\n",
    "\"\"\"\n",
    "\n",
    "query = \"grandparent(john, bob)\"\n",
    "solution = run_prolog(prolog_code, query)\n",
    "print(solution)  # Output: False"
   ]
  },
  {
   "cell_type": "markdown",
   "id": "ba232566",
   "metadata": {},
   "source": [
    "### Functional Programming:\n",
    "Treats computation as the evaluation of mathematical functions. It emphasizes immutable data, pure functions (without side effects), and higher-order functions (functions that take or return other functions). Functional code is often more concise and easier to reason about.\n",
    "Pros:\n",
    "- Encourages writing pure functions, which are easier to reason about and test.\n",
    "- Supports immutable data, reducing the risk of unintended side effects.\n",
    "- Facilitates parallelism and concurrency due to the lack of shared state.\n",
    "- Provides higher-order functions and lazy evaluation, which can lead to more expressive and concise code.\n",
    "\n",
    "Cons:\n",
    "- Shift in mindset from imperative programming can have a learning curve.\n",
    "- Handling mutable state and side effects may require additional techniques or libraries.\n",
    "- Performance overhead for certain operations compared to imperative approaches.\n",
    "- Limited support for functional programming in some languages or domains."
   ]
  },
  {
   "cell_type": "code",
   "execution_count": null,
   "id": "e70bae23",
   "metadata": {},
   "outputs": [],
   "source": [
    "# Functional programming to calculate the sum of squares of even numbers in a list\n",
    "numbers = [1, 2, 3, 4, 5]\n",
    "even_numbers = filter(lambda x: x % 2 == 0, numbers)\n",
    "squared_evens = map(lambda x: x ** 2, even_numbers)\n",
    "result = sum(squared_evens)\n",
    "print(result)  # Output: 20"
   ]
  },
  {
   "cell_type": "markdown",
   "id": "0a9c7df8",
   "metadata": {},
   "source": [
    "### Database Processing:\n",
    "Database processing involves interacting with databases to store, retrieve, and manipulate data. Different programming languages and frameworks provide APIs or libraries for interfacing with databases.\n",
    "Pros:\n",
    "- Provides a structured and efficient way to store and retrieve data.\n",
    "- Supports data integrity and consistency through transactions and constraints.\n",
    "- Enables querying and manipulation of large datasets using declarative languages like SQL.\n",
    "- Facilitates data sharing and collaboration across applications and users.\n",
    "\n",
    "Cons:\n",
    "- Overhead of setting up and maintaining a database system.\n",
    "- Potential performance bottlenecks for certain types of queries or workloads.\n",
    "- Risk of data loss or corruption if not properly administered and backed up.\n",
    "- Learning curve for understanding database concepts and query languages like SQL."
   ]
  },
  {
   "cell_type": "code",
   "execution_count": null,
   "id": "c1f7cd5d",
   "metadata": {},
   "outputs": [],
   "source": [
    "import sqlite3\n",
    "\n",
    "# Create a new SQLite database\n",
    "conn = sqlite3.connect('example.db')\n",
    "c = conn.cursor()\n",
    "\n",
    "# Create a table\n",
    "c.execute('''CREATE TABLE employees\n",
    "             (id INTEGER PRIMARY KEY, name TEXT, salary REAL)''')\n",
    "\n",
    "# Insert data\n",
    "c.execute(\"INSERT INTO employees (name, salary) VALUES ('John', 50000)\")\n",
    "c.execute(\"INSERT INTO employees (name, salary) VALUES ('Jane', 60000)\")\n",
    "\n",
    "# Query the database\n",
    "c.execute(\"SELECT * FROM employees\")\n",
    "results = c.fetchall()\n",
    "for row in results:\n",
    "    print(row)\n",
    "\n",
    "# Commit changes and close the connection\n",
    "conn.commit()\n",
    "conn.close()"
   ]
  },
  {
   "cell_type": "markdown",
   "id": "0dd909b5",
   "metadata": {},
   "source": [
    "This is a general view of programming paradigms. We will take a closer look at the topic of Functional Programming and OOP."
   ]
  },
  {
   "cell_type": "markdown",
   "id": "71b27e40",
   "metadata": {},
   "source": [
    "# Functional Programming"
   ]
  },
  {
   "cell_type": "markdown",
   "id": "4db752bb",
   "metadata": {},
   "source": [
    "Functional programming, created by John McCarthy with LISP in the late 1950s, is nearly as old as imperative programming. The key idea is expressing programs through functions and expressions, without intermediate variables, assignment operators, or loops. Programs are sequences of function descriptions and expressions.\n",
    "\n",
    "### Benefits of Functional Programming\n",
    "1. **Easier to read**: Code is more straightforward and concise.\n",
    "2. **Easier to debug and maintain**: Functions don't rely on external state.\n",
    "3. **Formal correctness**: Algorithms are easier to prove correct.\n",
    "4. **Decomposition and testing**: Elementary actions can be developed and verified efficiently.\n",
    "5. **Parallelization**: Functional programs can be automatically parallelized due to the absence of side-effects."
   ]
  },
  {
   "cell_type": "markdown",
   "id": "2e527130",
   "metadata": {},
   "source": [
    "## 2. Iterators and Generators\n",
    "\n",
    "### 2.1 Creating Iterators\n",
    "\n",
    "An iterator is an object with an internal state and a `__next__` method to move to the next state. Here's an example of creating an iterator from a list:"
   ]
  },
  {
   "cell_type": "code",
   "execution_count": null,
   "id": "6f4ed81e",
   "metadata": {},
   "outputs": [],
   "source": [
    "myList = [4, 5, 6]\n",
    "\n",
    "for i in iter(myList):\n",
    "    print(i)\n",
    "\n",
    "for i in myList:\n",
    "    print(i)"
   ]
  },
  {
   "cell_type": "markdown",
   "id": "fad9c567",
   "metadata": {},
   "source": [
    "Iterators and For loop"
   ]
  },
  {
   "cell_type": "code",
   "execution_count": null,
   "id": "5651c537",
   "metadata": {},
   "outputs": [],
   "source": [
    "for i in range(5):\n",
    "    print(i)\n",
    "\n",
    "for element in [1, 2, 3]:\n",
    "    print(element)\n",
    "\n",
    "for element in (1, 2, 3):\n",
    "    print(element)\n",
    "\n",
    "for key in {'one': 1, 'two': 2}:\n",
    "    print(key)\n",
    "\n",
    "for char in \"123\":\n",
    "    print(char)\n",
    "\n",
    "for line in open(\"text.txt\"):\n",
    "    print(line, end='')"
   ]
  },
  {
   "cell_type": "markdown",
   "id": "60072d89",
   "metadata": {},
   "source": [
    "Functions 'iter' and 'next'"
   ]
  },
  {
   "cell_type": "code",
   "execution_count": null,
   "id": "f16a9962",
   "metadata": {},
   "outputs": [],
   "source": [
    "s = 'abc'\n",
    "\n",
    "for letter in s:\n",
    "  pass\n",
    "\n",
    "it = iter(s)\n",
    "print(it)\n",
    "\n",
    "print(next(it))\n",
    "print(next(it))\n",
    "print(next(it))"
   ]
  },
  {
   "cell_type": "markdown",
   "id": "11528cae",
   "metadata": {},
   "source": [
    "### 2.2 Creating Generators\n",
    "\n",
    "Generators create iterators using the `yield` statement to return values one at a time, pausing execution until the next value is requested. Here's a simple generator:"
   ]
  },
  {
   "cell_type": "code",
   "execution_count": null,
   "id": "1b980825",
   "metadata": {},
   "outputs": [],
   "source": [
    "def myRange(n):\n",
    "    i = 1\n",
    "    while i <= n:\n",
    "        yield i\n",
    "        i += 1\n",
    "\n",
    "for i in myRange(5):\n",
    "    print(i)"
   ]
  },
  {
   "cell_type": "code",
   "execution_count": null,
   "id": "f2b9af8e",
   "metadata": {},
   "outputs": [],
   "source": [
    "def reverse(data):\n",
    "    for index in range(len(data)-1, -1, -1):\n",
    "        yield data[index]\n",
    "\n",
    "print(reverse)\n",
    "\n",
    "for char in reverse('golf'):\n",
    "    print(char)"
   ]
  },
  {
   "cell_type": "code",
   "execution_count": null,
   "id": "32de0dea",
   "metadata": {},
   "outputs": [],
   "source": [
    "def squares(n):\n",
    "    for i in range(n):\n",
    "        yield i ** 2\n",
    "\n",
    "\n",
    "for x in squares(10):\n",
    "    print(x)"
   ]
  },
  {
   "cell_type": "code",
   "execution_count": null,
   "id": "0da689af",
   "metadata": {},
   "outputs": [],
   "source": [
    "def fact(n):\n",
    "    f = 1\n",
    "    for i in range(1, n):\n",
    "        f *= i\n",
    "        yield f\n",
    "for x in fact(10):\n",
    "    print(x)"
   ]
  },
  {
   "cell_type": "markdown",
   "id": "ac99efa0",
   "metadata": {},
   "source": [
    "Generators can have complex recursive structures, like this generator that produces numbers of a given length where digits don't decrease:"
   ]
  },
  {
   "cell_type": "code",
   "execution_count": null,
   "id": "37570c45",
   "metadata": {},
   "outputs": [],
   "source": [
    "def genDecDigs(cntDigits, maxDigit):\n",
    "    if cntDigits > 0:\n",
    "        for nowDigit in range(maxDigit, -1, -1):\n",
    "            for tail in genDecDigs(cntDigits - 1, nowDigit):\n",
    "                yield nowDigit * 10 ** (cntDigits - 1) + tail\n",
    "    else:\n",
    "        yield 0\n",
    "\n",
    "print(*genDecDigs(3, 5))"
   ]
  },
  {
   "cell_type": "markdown",
   "id": "1afe4ce9",
   "metadata": {},
   "source": [
    "And a few more generator expressions"
   ]
  },
  {
   "cell_type": "code",
   "execution_count": null,
   "id": "09412c37",
   "metadata": {},
   "outputs": [],
   "source": [
    "for i in (x*x for x in range(10)):\n",
    "    print(i)"
   ]
  },
  {
   "cell_type": "code",
   "execution_count": null,
   "id": "8b9f62dc",
   "metadata": {},
   "outputs": [],
   "source": [
    "import math\n",
    "for i in (x for x in range(10) if math.sqrt(x) - math.trunc(math.sqrt(x)) == 0): # Filter only perfect squares\n",
    "    print(i)"
   ]
  },
  {
   "cell_type": "code",
   "execution_count": null,
   "id": "1d21878e",
   "metadata": {},
   "outputs": [],
   "source": [
    "print([x + y for x in 'abc' for y in 'lmn'])"
   ]
  },
  {
   "cell_type": "markdown",
   "id": "1d178fa6",
   "metadata": {},
   "source": [
    "## 3. Built-in Functions for Sequences\n",
    "\n",
    "Python provides several built-in functions that work with iterables, making functional programming more expressive:\n",
    "\n",
    "### 3.1 `sum`, `min`, and `max`\n",
    "\n",
    "These functions summarize, find the minimum, and find the maximum of elements in an iterable, respectively.\n",
    "\n",
    "### 3.2 `map` and `filter`\n",
    "\n",
    "- `map(function, iterable, ...)` applies a function to all items in an iterable.\n",
    "- `filter(predicate, iterable)` filters items out of an iterable where the predicate is `False`.\n",
    "\n",
    "Example of finding the maximum positive element in a list:"
   ]
  },
  {
   "cell_type": "code",
   "execution_count": null,
   "id": "52e39a09",
   "metadata": {},
   "outputs": [],
   "source": [
    "print(max(filter(lambda x: x > 0, map(int, input().split()))))"
   ]
  },
  {
   "cell_type": "code",
   "execution_count": null,
   "id": "39b213a8",
   "metadata": {},
   "outputs": [],
   "source": [
    "print(*filter(lambda x: x % 2 != 0, range(10))) #Lambda function to filter odd numbers"
   ]
  },
  {
   "cell_type": "code",
   "execution_count": null,
   "id": "ebd4e332",
   "metadata": {},
   "outputs": [],
   "source": [
    "import math\n",
    "# Print perfect squares from 0 to 99\n",
    "print(*filter(lambda x: math.sqrt(x) - int(math.sqrt(x)) == 0, range(100))) # Filter for perfect squares"
   ]
  },
  {
   "cell_type": "code",
   "execution_count": null,
   "id": "497ec8d9",
   "metadata": {},
   "outputs": [],
   "source": [
    "print(*map(lambda c: '_' + c.upper() + '_' , 'hello'))"
   ]
  },
  {
   "cell_type": "markdown",
   "id": "a56c252a",
   "metadata": {},
   "source": [
    "### 3.3 `any` and `all`\n",
    "\n",
    "- `any(iterable)` returns `True` if at least one element of the iterable is true.\n",
    "- `all(iterable)` returns `True` if all elements of the iterable are true.\n",
    "\n",
    "Example of checking if any element in a sequence has an absolute value greater than 500:"
   ]
  },
  {
   "cell_type": "code",
   "execution_count": null,
   "id": "c1cc4db0",
   "metadata": {},
   "outputs": [],
   "source": [
    "print(any(map(lambda x: abs(int(x)) > 500, input().split())))"
   ]
  },
  {
   "cell_type": "markdown",
   "id": "fcd32224",
   "metadata": {},
   "source": [
    "### 3.4 `zip`\n",
    "\n",
    "`zip(*iterables)` aggregates elements from each iterable into tuples:"
   ]
  },
  {
   "cell_type": "code",
   "execution_count": null,
   "id": "31716c3e",
   "metadata": {},
   "outputs": [],
   "source": [
    "region = ['London', 'Paris', 'Berlin']\n",
    "temperature = [15, 18, 20]\n",
    "pressure = [1010, 1005, 1012]\n",
    "weather = zip(region, temperature, pressure)\n",
    "print(*weather)"
   ]
  },
  {
   "cell_type": "code",
   "execution_count": null,
   "id": "a01fd772",
   "metadata": {},
   "outputs": [],
   "source": [
    "x_list = [10, 20, 30]\n",
    "y_list = [7, 5, 3]\n",
    "s = sum(x*y for x, y in zip(x_list, y_list))\n",
    "print(s)"
   ]
  },
  {
   "cell_type": "markdown",
   "id": "81dc3da6",
   "metadata": {},
   "source": [
    "### 3.5 `enumerate`\n",
    "\n",
    "The `enumerate` function is used to loop through collections with an index:"
   ]
  },
  {
   "cell_type": "code",
   "execution_count": null,
   "id": "9ebb6055",
   "metadata": {},
   "outputs": [],
   "source": [
    "list_a = [10, 20, 30, 40, 50, 60, 70, 80]\n",
    "list_d = [(i, x) for i, x in enumerate(list_a)]\n",
    "print(list_d)"
   ]
  },
  {
   "cell_type": "code",
   "execution_count": null,
   "id": "6ae0fcb3",
   "metadata": {},
   "outputs": [],
   "source": [
    "for i, x in enumerate(x * x for x in range(10)):\n",
    "    print(i, \" * \", i, \" = \", x)"
   ]
  },
  {
   "cell_type": "markdown",
   "id": "9b95d2a7",
   "metadata": {},
   "source": [
    "## 4. Combinatorial Object Generation\n",
    "\n",
    "The `itertools` module provides functions to generate combinatorial objects:\n",
    "\n",
    "- `itertools.combinations(iterable, r)` generates r-length tuples of all possible combinations of elements in `iterable`.\n",
    "- `itertools.permutations(iterable)` generates all possible permutations of elements in `iterable`.\n",
    "- `itertools.combinations_with_replacement(iterable, r)` generates r-length tuples of all possible combinations of elements in `iterable`, allowing individual elements to be repeated.\n",
    "\n",
    "Example of finding four numbers in a sequence giving the largest product using combinations:"
   ]
  },
  {
   "cell_type": "code",
   "execution_count": null,
   "id": "ccbf2517",
   "metadata": {},
   "outputs": [],
   "source": [
    "from itertools import combinations\n",
    "\n",
    "nums = list(map(int, input().split()))\n",
    "combs = combinations(range(len(nums)), 4)\n",
    "print(max(map(lambda x: nums[x[0]] * nums[x[1]] * nums[x[2]] * nums[x[3]], combs)))"
   ]
  },
  {
   "cell_type": "code",
   "execution_count": null,
   "id": "3a1c3733",
   "metadata": {},
   "outputs": [],
   "source": [
    "import itertools\n",
    "\n",
    "print(*(itertools.combinations('123456', 2)), sep='\\n')"
   ]
  },
  {
   "cell_type": "markdown",
   "id": "7c456269",
   "metadata": {},
   "source": [
    "## 5. The `functools` Module\n",
    "\n",
    "The `functools` module provides higher-order functions for working with other functions and callable objects:\n",
    "\n",
    "### 5.1 `functools.partial`\n",
    "\n",
    "This function fixes a certain number of arguments of a function and generates a new function:"
   ]
  },
  {
   "cell_type": "code",
   "execution_count": null,
   "id": "74399d29",
   "metadata": {},
   "outputs": [],
   "source": [
    "from functools import partial\n",
    "\n",
    "hexStrToInt = partial(int, base=16)\n",
    "print(hexStrToInt('A2F'))"
   ]
  },
  {
   "cell_type": "code",
   "execution_count": null,
   "id": "4203122d",
   "metadata": {},
   "outputs": [],
   "source": [
    "from functools import partial\n",
    "\n",
    "binStrToInt = partial(int, base=2)\n",
    "print(binStrToInt('10010'))"
   ]
  },
  {
   "cell_type": "markdown",
   "id": "a4223024",
   "metadata": {},
   "source": [
    "### 5.2 `functools.reduce`\n",
    "\n",
    "`reduce(function, iterable)` applies a function cumulatively to the items of an iterable:"
   ]
  },
  {
   "cell_type": "code",
   "execution_count": null,
   "id": "66e3e361",
   "metadata": {},
   "outputs": [],
   "source": [
    "import functools\n",
    "\n",
    "myList = ['A', 'B', 'C', 'D']\n",
    "def f(str1, str2):\n",
    "    return str1 + str2\n",
    "\n",
    "print(functools.reduce(f, myList))"
   ]
  },
  {
   "cell_type": "markdown",
   "id": "d367d7d9",
   "metadata": {},
   "source": [
    "### 5.3 `itertools.accumulate`\n",
    "\n",
    "`accumulate(iterable, func)` returns accumulated results of binary function `func`:"
   ]
  },
  {
   "cell_type": "code",
   "execution_count": null,
   "id": "bd9e58eb",
   "metadata": {},
   "outputs": [],
   "source": [
    "from itertools import accumulate\n",
    "\n",
    "print(*accumulate(map(int, input().split()), min))\n",
    "# input: 9 3 7 1 5 4 8 2"
   ]
  }
 ],
 "metadata": {
  "kernelspec": {
   "display_name": "Python 3 (ipykernel)",
   "language": "python",
   "name": "python3"
  },
  "language_info": {
   "codemirror_mode": {
    "name": "ipython",
    "version": 3
   },
   "file_extension": ".py",
   "mimetype": "text/x-python",
   "name": "python",
   "nbconvert_exporter": "python",
   "pygments_lexer": "ipython3",
   "version": "3.11.7"
  },
  "nbTranslate": {
   "displayLangs": [
    "*"
   ],
   "hotkey": "alt-t",
   "langInMainMenu": true,
   "sourceLang": "en",
   "targetLang": "fr",
   "useGoogleTranslate": true
  }
 },
 "nbformat": 4,
 "nbformat_minor": 5
}
