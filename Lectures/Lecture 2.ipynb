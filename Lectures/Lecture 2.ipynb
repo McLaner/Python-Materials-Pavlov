{
 "cells": [
  {
   "cell_type": "markdown",
   "id": "2b043e3e",
   "metadata": {},
   "source": [
    "# Working with Files in Python\n",
    "\n",
    "In the last lesson, we discussed input and output, but only manual, in this lecture we will look in detail at file input and output.\n",
    "\n",
    "## 1. Why work with files?\n",
    "I mean, really, why? We had a normal life! Well, you should! And here's why: \n",
    "Look at the programs you use. Did you look? Carefully? How many of them don't work with files at all? Zero. Games take textures or save information from files, text editors take text, graphics editors take image data. Almost all serious programs read/write information to files in one way or another.\n",
    "## 2. How to work with files?\n",
    "The good news is that working with files at a basic level is not difficult at all! It will be almost no different from reading and outputting data to the console.\n",
    "The algorithm is simple. Let's understand it.\n",
    "\n",
    "Python provides a built-in open() function to work with files. This function is used to open a file and create a file object, which can then be used to perform various operations such as reading, writing, or modifying the file.\n",
    "### Opening a File\n",
    "To open a file, you need to use the open() function and provide the file path and the mode in which you want to open the file. The file path can be either an absolute path (the complete path from the root directory) or a relative path (the path relative to the current working directory)."
   ]
  },
  {
   "cell_type": "code",
   "execution_count": 3,
   "id": "188727ab",
   "metadata": {},
   "outputs": [],
   "source": [
    "file = open('file.txt', 'r')"
   ]
  },
  {
   "cell_type": "markdown",
   "id": "0510117d",
   "metadata": {},
   "source": [
    "In the above example, 'r' is the mode, which stands for read mode. Other common modes include:\n",
    "\n",
    "* 'w': Write mode (overwrites the file if it exists, creates a new file if it doesn't)\n",
    "* 'a': Append mode (opens the file for appending, creates a new file if it doesn't exist)\n",
    "* 'x': Exclusive creation mode (creates a new file but raises an error if the file already exists)\n",
    "* 'b': Binary mode (used for non-text files like images, videos, etc.)\n",
    "\n",
    "### Reading from a File\n",
    "There are several ways to read data from a file: read to read the entire content, readline to read one line, and readlines to read all lines into a list."
   ]
  },
  {
   "cell_type": "code",
   "execution_count": null,
   "id": "07f3cf1d",
   "metadata": {},
   "outputs": [],
   "source": [
    "# Read the entire file\n",
    "contents = file.read()\n",
    "\n",
    "# Read a single line\n",
    "line = file.readline()\n",
    "\n",
    "# Read multiple lines\n",
    "lines = file.readlines()"
   ]
  },
  {
   "cell_type": "markdown",
   "id": "e8d90bae",
   "metadata": {},
   "source": [
    "### Writing to a File\n",
    "To write to a file, you need to open it in write ('w') or append ('a') mode:"
   ]
  },
  {
   "cell_type": "code",
   "execution_count": 9,
   "id": "58c16cc8",
   "metadata": {},
   "outputs": [],
   "source": [
    "file = open('example.txt', 'w')  # Open the file for writing\n",
    "\n",
    "text= '''\n",
    "Beautiful is better than ugly.\n",
    "Explicit is better than implicit.\n",
    "Simple is better than complex.\n",
    "Complex is better than complicated.\n",
    "Flat is better than nested.\n",
    "Sparse is better than dense.\n",
    "Readability counts.\n",
    "Special cases aren't special enough to break the rules.\n",
    "Although practicality beats purity.\n",
    "Errors should never pass silently.\n",
    "Unless explicitly silenced.\n",
    "In the face of ambiguity, refuse the temptation to guess.\n",
    "There should be one-- and preferably only one --obvious way to do it.\n",
    "Although that way may not be obvious at first unless you're Dutch.\n",
    "Now is better than never.\n",
    "Although never is often better than *right* now.\n",
    "If the implementation is hard to explain, it's a bad idea.\n",
    "If the implementation is easy to explain, it may be a good idea.\n",
    "Namespaces are one honking great idea — let's do more of those!\n",
    "'''\n",
    "file.write(text)  # Write a string to the file\n",
    "file.close()"
   ]
  },
  {
   "cell_type": "markdown",
   "id": "bfb45192",
   "metadata": {},
   "source": [
    "### Closing a File\n",
    "It's important to close a file after you've finished working with it to release system resources and ensure that any buffered data is written to the file:"
   ]
  },
  {
   "cell_type": "code",
   "execution_count": null,
   "id": "d3c02f8c",
   "metadata": {},
   "outputs": [],
   "source": [
    "file.close()"
   ]
  },
  {
   "cell_type": "markdown",
   "id": "b3239b1f",
   "metadata": {},
   "source": [
    "**Now we also know how to record with print**"
   ]
  },
  {
   "cell_type": "code",
   "execution_count": 6,
   "id": "e8443df1",
   "metadata": {},
   "outputs": [
    {
     "name": "stdout",
     "output_type": "stream",
     "text": [
      "Do it\r\n"
     ]
    }
   ],
   "source": [
    "print(\"Do it\", file=open(\"new_file.txt\", \"w\"))\n",
    "!cat new_file.txt #cat utility check if there's anything there"
   ]
  },
  {
   "cell_type": "markdown",
   "id": "5deb9464",
   "metadata": {},
   "source": [
    "But let's read it again"
   ]
  },
  {
   "cell_type": "code",
   "execution_count": 7,
   "id": "fc13c006",
   "metadata": {},
   "outputs": [
    {
     "data": {
      "text/plain": [
       "'Do it\\n'"
      ]
     },
     "execution_count": 7,
     "metadata": {},
     "output_type": "execute_result"
    }
   ],
   "source": [
    "f_new = open(\"new_file.txt\", 'r')\n",
    "f_new.read()"
   ]
  },
  {
   "cell_type": "markdown",
   "id": "5fbbeae6",
   "metadata": {},
   "source": [
    "And once again"
   ]
  },
  {
   "cell_type": "code",
   "execution_count": 8,
   "id": "2d0df796",
   "metadata": {},
   "outputs": [
    {
     "data": {
      "text/plain": [
       "''"
      ]
     },
     "execution_count": 8,
     "metadata": {},
     "output_type": "execute_result"
    }
   ],
   "source": [
    "f_new.read()"
   ]
  },
  {
   "cell_type": "markdown",
   "id": "0c11cc25",
   "metadata": {},
   "source": [
    "**_Why is there nothing?_**\n",
    "\n",
    "The reason is that reading works in the following way:\n",
    "\n",
    "We essentially create a cursor that moves through the file and reads it element by element, moving this cursor. Any call to `read` reads this entire part and stays at the end.\n",
    "\n",
    "Therefore, if you call it twice in a row, you won't read anything the second time (the cursor can't go back now), which is a problem.\n",
    "\n",
    "Let's learn how to move the cursor the way we want. This is handled by:\n",
    "\n",
    "1. `read(n)` - read `n` characters from the cursor position\n",
    "\n",
    "2. `tell()` - tell us which character we're currently at\n",
    "\n",
    "3. `seek(offset)` - move to the `offset` position relative to the beginning of the file"
   ]
  },
  {
   "cell_type": "code",
   "execution_count": 10,
   "id": "e50d885c",
   "metadata": {},
   "outputs": [
    {
     "name": "stdout",
     "output_type": "stream",
     "text": [
      "0\n",
      "\n",
      "Beautiful\n",
      "10\n",
      "5\n",
      "5\n",
      "tiful\n",
      "10\n"
     ]
    }
   ],
   "source": [
    "with open(\"example.txt\", \"r\") as f:  # with allows you to open a file and use it only within the loop, after which the file will be closed\n",
    "    print(f.tell())\n",
    "    print(f.read(10))  # read not the entire text, but only the first 10 characters\n",
    "    print(f.tell())  # tell us where our cursor is currently\n",
    "    print(f.seek(5))  # take the beginning of the file and move 5 characters\n",
    "    print(f.tell())\n",
    "    print(f.read(5))\n",
    "    print(f.tell())"
   ]
  },
  {
   "cell_type": "markdown",
   "id": "087b2f3f",
   "metadata": {},
   "source": [
    "How can we move not relative to the beginning of the file, but relative to the current position?"
   ]
  },
  {
   "cell_type": "code",
   "execution_count": null,
   "id": "0d5a64b7",
   "metadata": {},
   "outputs": [],
   "source": [
    "with open(\"example.txt\", \"r\") as f:\n",
    "    print(f.read(10))\n",
    "    print(f.tell())\n",
    "    print(f.seek(f.tell() - 5))  # you can pass tell() directly!\n",
    "    print(f.tell())"
   ]
  },
  {
   "cell_type": "markdown",
   "id": "33e185db",
   "metadata": {},
   "source": [
    "What else do we see as a problem? The fact that newline characters (and other characters like tabs, etc.) are displayed as separate characters.\n",
    "\n",
    "What if we try to read line by line?"
   ]
  },
  {
   "cell_type": "code",
   "execution_count": null,
   "id": "af833bbc",
   "metadata": {},
   "outputs": [],
   "source": [
    "with open(\"example.txt\", \"r\") as f:\n",
    "    for line in f:  # reads line by line until a newline\n",
    "        print(line.strip())\n",
    "    print('-' * 30)"
   ]
  },
  {
   "cell_type": "markdown",
   "id": "58ac4ab0",
   "metadata": {},
   "source": [
    "We can also print and read from the same place:\n",
    "\n",
    "**Learning to print and read from the same place**"
   ]
  },
  {
   "cell_type": "code",
   "execution_count": 12,
   "id": "697ffe32",
   "metadata": {},
   "outputs": [
    {
     "name": "stdout",
     "output_type": "stream",
     "text": [
      "is be\n",
      "16\n",
      "\n",
      "Beautiful Zenbetter than ugly.\n",
      "Explicit is better than implicit.\n",
      "Simple is better than complex.\n",
      "Complex is better than complicated.\n",
      "Flat is better than nested.\n",
      "Sparse is better than dense.\n",
      "Readability counts.\n",
      "Special cases aren't special enough to break the rules.\n",
      "Although practicality beats purity.\n",
      "Errors should never pass silently.\n",
      "Unless explicitly silenced.\n",
      "In the face of ambiguity, refuse the temptation to guess.\n",
      "There should be one-- and preferably only one --obvious way to do it.\n",
      "Although that way may not be obvious at first unless you're Dutch.\n",
      "Now is better than never.\n",
      "Although never is often better than *right* now.\n",
      "If the implementation is hard to explain, it's a bad idea.\n",
      "If the implementation is easy to explain, it may be a good idea.\n",
      "Namespaces are one honking great idea — let's do more of those!\n",
      "\n"
     ]
    }
   ],
   "source": [
    "fh = open('example.txt', 'r+')  # 'r+' allows both writing and reading\n",
    "fh.seek(11)\n",
    "print(fh.read(5))\n",
    "print(fh.tell())\n",
    "fh.seek(11)\n",
    "fh.write('Zen')\n",
    "fh.seek(0)\n",
    "content = fh.read()\n",
    "print(content)\n",
    "fh.close()"
   ]
  },
  {
   "cell_type": "markdown",
   "id": "77683013",
   "metadata": {},
   "source": [
    "## Context Managers (with statement)\n",
    "Python provides a convenient way to open and close files using the with statement, which automatically takes care of closing the file, even if an exception occurs:"
   ]
  },
  {
   "cell_type": "code",
   "execution_count": null,
   "id": "840a8cba",
   "metadata": {},
   "outputs": [],
   "source": [
    "with open('path/to/file.txt', 'r') as file:\n",
    "    contents = file.read()"
   ]
  },
  {
   "cell_type": "markdown",
   "id": "d9f3a368",
   "metadata": {},
   "source": [
    "## File Modes\n",
    "Python supports various file modes that control how the file is opened and accessed. Here are some common file modes:\n",
    "\n",
    "- 'r': Read mode (default mode)\n",
    "- 'w': Write mode (overwrites the file if it exists, creates a new file if it doesn't)\n",
    "- 'a': Append mode (opens the file for appending, creates a new file if it doesn't exist)\n",
    "- 'x': Exclusive creation mode (creates a new file but raises an error if the file already exists)\n",
    "- 'b': Binary mode (used for non-text files like images, videos, etc.)\n",
    "- 't': Text mode (default mode, used for text files)\n",
    "- '+': Updating mode (allows both reading and writing)\n",
    "\n",
    "You can combine modes like 'rb' (read binary mode) or 'w+b' (write and read binary mode).\n",
    "## File Operations\n",
    "Python provides several built-in functions and methods for performing various operations on files:\n",
    "### Renaming and Moving Files\n",
    "To rename or move a file, you can use the os.rename() function from the os module:"
   ]
  },
  {
   "cell_type": "code",
   "execution_count": null,
   "id": "04ee11a2",
   "metadata": {},
   "outputs": [],
   "source": [
    "import os\n",
    "\n",
    "source_path = 'path/to/source.txt'\n",
    "destination_path = 'path/to/destination.txt'\n",
    "os.rename(source_path, destination_path)"
   ]
  },
  {
   "cell_type": "markdown",
   "id": "4d0b5e7d",
   "metadata": {},
   "source": [
    "### Deleting Files\n",
    "To delete a file, you can use the os.remove() function from the os module:"
   ]
  },
  {
   "cell_type": "code",
   "execution_count": null,
   "id": "f7ee7caa",
   "metadata": {},
   "outputs": [],
   "source": [
    "import os\n",
    "\n",
    "file_path = 'path/to/file.txt'\n",
    "os.remove(file_path)"
   ]
  },
  {
   "cell_type": "markdown",
   "id": "41fff517",
   "metadata": {},
   "source": [
    "### Getting File Information\n",
    "Python provides several functions to retrieve information about files, such as os.path.exists(), os.path.isfile(), os.path.isdir(), os.path.getsize(), and os.path.getmtime()."
   ]
  },
  {
   "cell_type": "code",
   "execution_count": null,
   "id": "942ce4fe",
   "metadata": {},
   "outputs": [],
   "source": [
    "import os\n",
    "\n",
    "file_path = 'path/to/file.txt'\n",
    "\n",
    "# Check if the file exists\n",
    "if os.path.exists(file_path):\n",
    "    # Check if it's a regular file\n",
    "    if os.path.isfile(file_path):\n",
    "        # Get the file size\n",
    "        file_size = os.path.getsize(file_path)\n",
    "        print(f'File size: {file_size} bytes')\n",
    "\n",
    "        # Get the last modification time\n",
    "        last_modified = os.path.getmtime(file_path)\n",
    "        print(f'Last modified: {last_modified}')"
   ]
  },
  {
   "cell_type": "markdown",
   "id": "a1f61b47",
   "metadata": {},
   "source": [
    "### File Paths and Directories\n",
    "Python provides the os.path module for working with file paths and directories. You can use functions like os.path.join(), os.path.split(), os.path.dirname(), and os.path.basename() to manipulate file paths."
   ]
  },
  {
   "cell_type": "code",
   "execution_count": null,
   "id": "c9c3e612",
   "metadata": {},
   "outputs": [],
   "source": [
    "import os\n",
    "\n",
    "# Join multiple path components\n",
    "path = os.path.join('path', 'to', 'file.txt')  # path/to/file.txt\n",
    "\n",
    "# Split a path into components\n",
    "head, tail = os.path.split(path)  # ('path/to', 'file.txt')\n",
    "\n",
    "# Get the directory name\n",
    "dirname = os.path.dirname(path)  # 'path/to'\n",
    "\n",
    "# Get the basename\n",
    "basename = os.path.basename(path)  # 'file.txt'"
   ]
  },
  {
   "cell_type": "markdown",
   "id": "95e16192",
   "metadata": {},
   "source": [
    "## Example Program\n",
    "Let's look at an example program that reads two numbers from a file 'input.txt', adds them, and writes the result to a file 'output.txt'."
   ]
  },
  {
   "cell_type": "code",
   "execution_count": null,
   "id": "157d804b",
   "metadata": {},
   "outputs": [],
   "source": [
    "# Open files for reading and writing\n",
    "with open('input.txt', 'r') as fin, open('output.txt', 'w') as fout:\n",
    "    # Read two numbers from the file\n",
    "    a = int(fin.readline())\n",
    "    b = int(fin.readline())\n",
    "    \n",
    "    # Write the sum of the numbers to the file\n",
    "    fout.write(str(a + b))"
   ]
  },
  {
   "cell_type": "markdown",
   "id": "f9405b68",
   "metadata": {},
   "source": [
    "## Error Handling\n",
    "To safely handle files, you can use a 'try...except' block to catch potential errors."
   ]
  },
  {
   "cell_type": "code",
   "execution_count": null,
   "id": "a3f7fb06",
   "metadata": {},
   "outputs": [],
   "source": [
    "try:\n",
    "    with open('input.txt', 'r') as fin, open('output.txt', 'w') as fout:\n",
    "        a = int(fin.readline())\n",
    "        b = int(fin.readline())\n",
    "        fout.write(str(a + b))\n",
    "except FileNotFoundError:\n",
    "    print(\"File not found.\")\n",
    "except ValueError:\n",
    "    print(\"Error reading a number from the file.\")"
   ]
  },
  {
   "cell_type": "markdown",
   "id": "febd1c17",
   "metadata": {},
   "source": [
    "Working with files in Python is simple and intuitive. It's important to remember to close files after using them and to handle potential errors to ensure your program runs reliably."
   ]
  },
  {
   "cell_type": "markdown",
   "id": "a62b834c",
   "metadata": {},
   "source": [
    "You probably noticed all sorts of import math and import os and wondered what it is?"
   ]
  },
  {
   "cell_type": "markdown",
   "id": "2589f9b1",
   "metadata": {},
   "source": [
    "### MODULES IN PYTHON\n",
    "\n",
    "A module is a standalone file containing Python code, which can define variables, functions, classes, and other Python objects. Modules are used to organize and reuse code across different parts of a program or across multiple programs.\n",
    "A package is a collection of modules organized in a directory hierarchy. Packages allow for better organization and structuring of larger code bases by grouping related modules together.\n",
    "\n",
    "#### Importing Modules and Packages\n",
    "\n",
    "**Option 1:**\n",
    "```python\n",
    "import sys\n",
    "sys.getsizeof(36)\n",
    "```\n",
    "\n",
    "**Option 2:**\n",
    "```python\n",
    "from sys import getsizeof\n",
    "getsizeof(36)\n",
    "```\n",
    "\n",
    "The output for both options is `14`."
   ]
  },
  {
   "cell_type": "markdown",
   "id": "4e340c73",
   "metadata": {},
   "source": [
    "### PYTHON STANDARD LIBRARY\n",
    "\n",
    "- **sys** - functions and constants for interacting with the interpreter\n",
    "- **datetime** – handling date and time\n",
    "- **os** - interface to basic operating system services\n",
    "- **os.path** – platform-independent file path manipulation\n",
    "- **string** – extended string operations\n",
    "- **re** – working with regular expressions\n",
    "- **csv** – working with CSV (Comma Separated Values) tabular format\n",
    "- **gzip** – creating and working with .gzip archives\n",
    "- **zipfile** – creating and working with .zip archives\n",
    "- **ConfigParser** - working with configuration (ini) files\n",
    "- And many others (hashlib, sockets, smtplib, sqlite3, etc.)\n",
    "\n",
    "For more information:\n",
    "- [Official Documentation](https://docs.python.org/3/library/index.html)\n",
    "- [Wikipedia Article](https://en.wikipedia.org/wiki/Python_Standard_Library)"
   ]
  },
  {
   "cell_type": "markdown",
   "id": "188d46c6",
   "metadata": {},
   "source": [
    "The springboard for exploring new topics and the turning point is the **functions**."
   ]
  },
  {
   "cell_type": "markdown",
   "id": "eedb755c",
   "metadata": {},
   "source": [
    "# FUNCTIONS\n",
    "Functions are named blocks of code (subroutines) that can be called from another part of a program.\n",
    "Syntax: \n",
    "```\n",
    "def function_name(parameters):\n",
    "    ...\n",
    "    function body\n",
    "    ...\n",
    "    return return_value\n",
    "```\n",
    "\n",
    "**Arguments** of a function are the data that you pass to the function to perform the operation.\n",
    "\n",
    "*The *Body** of a function is a block of code that performs a specific task.\n",
    "\n",
    "**The return value** is what the function returns after performing the operation.\n",
    "\n",
    "**Function parameters** are the names of the variables that you use in the function definition to work with the passed data (arguments).\n",
    "\n",
    "**A function call** is a place in the code where you use the function name and pass values for the arguments."
   ]
  },
  {
   "cell_type": "code",
   "execution_count": null,
   "id": "0d868fc4",
   "metadata": {},
   "outputs": [],
   "source": [
    "# Example\n",
    "def hello(n):\n",
    "    print(\"Hello, I am a function\")\n",
    "    print(n)\n",
    "    \n",
    "# Function Call \n",
    "def main():\n",
    "    print(\"Now we will call the function\")\n",
    "    hello(5)"
   ]
  },
  {
   "cell_type": "markdown",
   "id": "3519cecb",
   "metadata": {},
   "source": [
    "**Return** operator"
   ]
  },
  {
   "cell_type": "code",
   "execution_count": null,
   "id": "73b0276e",
   "metadata": {},
   "outputs": [],
   "source": [
    "def test():\n",
    "    print(\"Returning a value\")\n",
    "    return 667\n",
    "    \n",
    "#To call function:\n",
    "a = test()"
   ]
  },
  {
   "cell_type": "markdown",
   "id": "c64dbe10",
   "metadata": {},
   "source": [
    "How to call this function?"
   ]
  },
  {
   "cell_type": "code",
   "execution_count": null,
   "id": "c3c815a1",
   "metadata": {},
   "outputs": [],
   "source": [
    "def multi_ret():\n",
    "    print(\"This curious function\")\n",
    "    print(\"returns three values\")\n",
    "    return 1, 'test', [796, 69, 15]\n",
    "#This way\n",
    "a, b, c = multi_ret()"
   ]
  },
  {
   "cell_type": "markdown",
   "id": "99c9224a",
   "metadata": {},
   "source": [
    "**What happens when we call a function?**\n",
    "\n",
    "Arguments `num1` and `num2` are passed to the function and assigned to the local variables `a` and `b` respectively.\n",
    "\n",
    "`a = num1, b = num2`\n",
    "\n",
    "Next, transformations are performed on these local variables.\n",
    "\n",
    "After the `return` keyword, we specify what value the function should return.\n",
    "\n",
    "So, `sum_nums_sqrt = ans`\n",
    "\n",
    "(Lines after the `return` statement are not executed, acting like a `break` for loops)\n",
    "\n",
    "The order of the passed arguments is important! Let's look at another function and compare the results."
   ]
  },
  {
   "cell_type": "code",
   "execution_count": null,
   "id": "15d76ece",
   "metadata": {},
   "outputs": [],
   "source": [
    "def sum_sqrt(a, b):\n",
    "    return a**2 + b**2\n",
    "\n",
    "num1 = 5\n",
    "num2 = 2\n",
    "print(sum_sqrt(num1, num2))  # 5**2 + 2**2 = 25 + 4\n",
    "print(sum_sqrt(num2, num1))  # 2**2 + 5**2 = 4 + 25"
   ]
  },
  {
   "cell_type": "markdown",
   "id": "83e506a4",
   "metadata": {},
   "source": [
    "We can also set default values for parameters, meaning that we can input fewer data, and the remaining ones will be assigned default values. Arguments with default values are called **keyword arguments**, while the others are called **positional arguments**."
   ]
  },
  {
   "cell_type": "code",
   "execution_count": null,
   "id": "1661a65a",
   "metadata": {},
   "outputs": [],
   "source": [
    "def salute(person, salutation=\"Howdy\"):\n",
    "    return f\"{salutation}, {person}!\"\n",
    "\n",
    "print(salute(\"Charlie\"))\n",
    "print(salute(\"Daisy\", \"Greetings\"))\n"
   ]
  },
  {
   "cell_type": "markdown",
   "id": "c1994507",
   "metadata": {},
   "source": [
    "But attention, we always put the parameters with the default value at the end, otherwise there will be an error"
   ]
  },
  {
   "cell_type": "code",
   "execution_count": 14,
   "id": "f0c57d0d",
   "metadata": {
    "scrolled": true
   },
   "outputs": [
    {
     "ename": "SyntaxError",
     "evalue": "non-default argument follows default argument (2310667371.py, line 1)",
     "output_type": "error",
     "traceback": [
      "\u001b[0;36m  Cell \u001b[0;32mIn[14], line 1\u001b[0;36m\u001b[0m\n\u001b[0;31m    def salute(salutation=\"Howdy\", person):\u001b[0m\n\u001b[0m                                   ^\u001b[0m\n\u001b[0;31mSyntaxError\u001b[0m\u001b[0;31m:\u001b[0m non-default argument follows default argument\n"
     ]
    }
   ],
   "source": [
    "def salute(salutation=\"Howdy\", person):\n",
    "    return f\"{salutation}, {person}!\"\n",
    "\n",
    "print(salute(\"Charlie\"))\n",
    "print(salute(\"Daisy\", \"Greetings\"))"
   ]
  },
  {
   "cell_type": "markdown",
   "id": "d9846393",
   "metadata": {},
   "source": [
    "Let's go back to functions with several parameters"
   ]
  },
  {
   "cell_type": "code",
   "execution_count": 17,
   "id": "f4b1bf30",
   "metadata": {},
   "outputs": [
    {
     "name": "stdout",
     "output_type": "stream",
     "text": [
      "64.8\n",
      "108.0\n",
      "106.0\n"
     ]
    }
   ],
   "source": [
    "# Function to calculate the total cost of items with a tax rate\n",
    "def compute_total_cost(amount, units=3, vat_rate=0.08):\n",
    "    subtotal = amount * units\n",
    "    subtotal += subtotal * vat_rate\n",
    "    return subtotal\n",
    "\n",
    "print(compute_total_cost(20))\n",
    "print(compute_total_cost(20, 5))\n",
    "print(compute_total_cost(20, 5, 0.06))"
   ]
  },
  {
   "cell_type": "markdown",
   "id": "40f9fb14",
   "metadata": {},
   "source": [
    "But what if we want to use a specific parameter value while using defaults for others, or we don't remember the order of the parameters? We can explicitly specify parameter values."
   ]
  },
  {
   "cell_type": "code",
   "execution_count": null,
   "id": "f4f73e46",
   "metadata": {},
   "outputs": [],
   "source": [
    "print(compute_total_cost(20, vat_rate=0.06))"
   ]
  },
  {
   "cell_type": "code",
   "execution_count": 18,
   "id": "50a55bb9",
   "metadata": {},
   "outputs": [
    {
     "ename": "SyntaxError",
     "evalue": "positional argument follows keyword argument (20307214.py, line 2)",
     "output_type": "error",
     "traceback": [
      "\u001b[0;36m  Cell \u001b[0;32mIn[18], line 2\u001b[0;36m\u001b[0m\n\u001b[0;31m    print(compute_total_cost(vat_rate=0.06, 20))\u001b[0m\n\u001b[0m                                              ^\u001b[0m\n\u001b[0;31mSyntaxError\u001b[0m\u001b[0;31m:\u001b[0m positional argument follows keyword argument\n"
     ]
    }
   ],
   "source": [
    "# The following won't work because 20 is a positional argument\n",
    "print(compute_total_cost(vat_rate=0.06, 20))"
   ]
  },
  {
   "cell_type": "code",
   "execution_count": null,
   "id": "7911d59e",
   "metadata": {},
   "outputs": [],
   "source": [
    "# But we can rewrite it like this, and it will work\n",
    "print(compute_total_cost(vat_rate=0.06, amount=20))"
   ]
  },
  {
   "cell_type": "markdown",
   "id": "ee7e98de",
   "metadata": {},
   "source": [
    "## WHEN THERE ARE A LOT OF PARAMETERS\n",
    "`*args` and `**kwargs` are special parameters that can be used in Python to pass a variable number of arguments to a function. They allow a function to accept an arbitrary number of positional arguments and an arbitrary number of keyword arguments, respectively.\n",
    "\n",
    "+ `*args`:\n",
    "- The `*args` parameter allows you to pass an arbitrary number of positional arguments to a function.\n",
    "- The `*` symbol before the parameter name indicates that all arguments passed after it will be collected into a tuple and passed to this parameter. It's as if we're unpacking the tuple.\n",
    "\n",
    "+ `**kwargs`:\n",
    "- The `**kwargs` parameter allows you to pass an arbitrary number of keyword arguments to a function.\n",
    "- The `**` symbol before the parameter name indicates that all keyword arguments passed will be collected into a dictionary and passed to this parameter. It's as if we're unpacking the dictionary, which turns it into a list of key-value pairs, and then we unpack those pairs again."
   ]
  },
  {
   "cell_type": "markdown",
   "id": "0aa30643",
   "metadata": {},
   "source": [
    "Arbitrary Number of Parameters"
   ]
  },
  {
   "cell_type": "code",
   "execution_count": null,
   "id": "bbd04b18",
   "metadata": {},
   "outputs": [],
   "source": [
    "def f1(*args):\n",
    "    for item in args:\n",
    "        print(item)\n",
    "\n",
    "f1('hello', 'world', 42, True)"
   ]
  },
  {
   "cell_type": "markdown",
   "id": "da90a9fc",
   "metadata": {},
   "source": [
    "Arbitrary Number of Keyword Parameters"
   ]
  },
  {
   "cell_type": "code",
   "execution_count": 22,
   "id": "8b98f9bc",
   "metadata": {},
   "outputs": [
    {
     "name": "stdout",
     "output_type": "stream",
     "text": [
      "asdf = hello\n",
      "qwerty = 42\n"
     ]
    }
   ],
   "source": [
    "def f2(**kwargs):\n",
    "    for key, value in kwargs.items():\n",
    "        print(f\"{key} = {value}\")\n",
    "\n",
    "# This will raise an error because f2 only accepts keyword arguments\n",
    "#f2(3, 'asd')\n",
    "\n",
    "f2(asdf='hello', qwerty=42)"
   ]
  },
  {
   "cell_type": "markdown",
   "id": "76686e60",
   "metadata": {},
   "source": [
    "You can pass both `*args` and `**kwargs`, and ordinary positional and name arguments."
   ]
  },
  {
   "cell_type": "code",
   "execution_count": 21,
   "id": "2b66076b",
   "metadata": {
    "scrolled": true
   },
   "outputs": [
    {
     "name": "stdout",
     "output_type": "stream",
     "text": [
      "hello\n",
      "world\n",
      "42\n",
      "True\n",
      "asdf = hello\n",
      "qwerty = 42\n",
      "name: Alice, age: 25\n",
      "Python\n",
      "Developer\n",
      "city = NYC\n",
      "language = English\n"
     ]
    }
   ],
   "source": [
    "def f1(*args, **kwargs):\n",
    "    for item in args:\n",
    "        print(item)\n",
    "    for key, value in kwargs.items():\n",
    "        print(f\"{key} = {value}\")\n",
    "\n",
    "f1('hello', 'world', 42, True, asdf='hello', qwerty=42)\n",
    "\n",
    "def f2(name, age=30, *args, **kwargs):\n",
    "    print(f\"name: {name}, age: {age}\")\n",
    "    for item in args:\n",
    "        print(item)\n",
    "    for key, value in kwargs.items():\n",
    "        print(f\"{key} = {value}\")\n",
    "\n",
    "f2('Alice', 25, 'Python', 'Developer', city='NYC', language='English')\n"
   ]
  },
  {
   "cell_type": "markdown",
   "id": "48e34f07",
   "metadata": {},
   "source": [
    "## Lambda functions"
   ]
  },
  {
   "cell_type": "markdown",
   "id": "1d909249",
   "metadata": {},
   "source": [
    "When functions consist of only a single line with `return`, it's very convenient to use lambda functions.\n",
    "\n",
    "For example:\n",
    "\n",
    "```python\n",
    "sum = lambda a, b, c: a + b + c\n",
    "print(sum(1, 3, 5))  # Output: 9\n",
    "```\n",
    "\n",
    "This lambda function takes three arguments `a`, `b`, and `c`, and returns their sum.\n",
    "\n",
    "Alternatively, you could write this as a regular function:\n",
    "\n",
    "```python\n",
    "def sum(a, b, c):\n",
    "    return a + b + c\n",
    "\n",
    "print(sum(1, 3, 5))  # Output: 9\n",
    "```\n",
    "\n",
    "However, when the function logic is simple and can be expressed in a single line, the lambda function syntax is more concise and readable."
   ]
  },
  {
   "cell_type": "code",
   "execution_count": null,
   "id": "548efd25",
   "metadata": {},
   "outputs": [],
   "source": [
    "# Regular function\n",
    "def square(x):\n",
    "    return x ** 2\n",
    "\n",
    "# Lambda function\n",
    "square = lambda x: x ** 2\n",
    "\n",
    "print(square(5))  # Output: 25"
   ]
  },
  {
   "cell_type": "code",
   "execution_count": null,
   "id": "15c79839",
   "metadata": {},
   "outputs": [],
   "source": [
    "multiply = lambda x, y: x * y\n",
    "print(multiply(3, 4))  # Output: 12"
   ]
  },
  {
   "cell_type": "code",
   "execution_count": null,
   "id": "6b68ca1a",
   "metadata": {},
   "outputs": [],
   "source": [
    "# Lambda function to sort a list of tuples by the second element\n",
    "students = [('John', 22), ('Emily', 19), ('Michael', 21), ('Jessica', 20)]\n",
    "sorted_students = sorted(students, key=lambda x: x[1])\n",
    "print(sorted_students)  # Output: [('Emily', 19), ('Jessica', 20), ('Michael', 21), ('John', 22)]"
   ]
  }
 ],
 "metadata": {
  "kernelspec": {
   "display_name": "Python 3 (ipykernel)",
   "language": "python",
   "name": "python3"
  },
  "language_info": {
   "codemirror_mode": {
    "name": "ipython",
    "version": 3
   },
   "file_extension": ".py",
   "mimetype": "text/x-python",
   "name": "python",
   "nbconvert_exporter": "python",
   "pygments_lexer": "ipython3",
   "version": "3.11.7"
  },
  "nbTranslate": {
   "displayLangs": [
    "*"
   ],
   "hotkey": "alt-t",
   "langInMainMenu": true,
   "sourceLang": "en",
   "targetLang": "fr",
   "useGoogleTranslate": true
  }
 },
 "nbformat": 4,
 "nbformat_minor": 5
}
