{
 "cells": [
  {
   "cell_type": "markdown",
   "id": "a66453da",
   "metadata": {},
   "source": [
    "# OOP"
   ]
  },
  {
   "cell_type": "markdown",
   "id": "37bd9913",
   "metadata": {},
   "source": [
    "**Object-Oriented Programming (OOP)** is a way of writing code where we think of our program objects as real-world objects.\n",
    "\n",
    "Every object has its own characteristics (e.g. color, size) and can do certain things (e.g. move, make sounds). In OOP, we try to create program objects that behave similarly to real-world objects.\n",
    "\n",
    "For example, if we are writing a program about a zoo, we might have objects like \"animal\", \"bird\", etc. Each animal can have its own color, size, and abilities such as running or jumping.\n",
    "\n",
    "OOP helps us organize our code to be clean, structured, and easy to understand. We can create templates (classes) that describe how to create our objects, and use those templates to create many objects with different characteristics and abilities."
   ]
  },
  {
   "cell_type": "markdown",
   "id": "81f2ce22",
   "metadata": {},
   "source": [
    "## CLASSES\n",
    "\n",
    "A class is a type of abstract data in OOP.\n",
    "\n",
    "It consists of:\n",
    "\n",
    "- Properties: variables that belong to the class or an object of this class.\n",
    "- Methods: functions that belong to the class or an object of this class.\n",
    "\n",
    "Syntax:\n",
    "\n",
    "```python\n",
    "class <class_name>:\n",
    "\n",
    "    <class_element_1>\n",
    "\n",
    "    <class_element_2>\n",
    "\n",
    "    ...\n",
    "\n",
    "    <class_element_N>\n",
    "```\n",
    "\n",
    "#### SELF\n",
    "\n",
    "`self` is a pointer to \"itself\".\n",
    "\n",
    "- Present in all objects.\n",
    "- When declaring class methods, it is specified first (in all methods except static ones).\n",
    "- All class properties are accessed through it.\n",
    "\n",
    "#### CLASS CONSTRUCTOR\n",
    "\n",
    "- A method named `__init__`.\n",
    "- Executed when an object is created.\n",
    "- The first parameter is always `self`.\n",
    "- Subsequent parameters are used to create the object.\n",
    "\n",
    "Example"
   ]
  },
  {
   "cell_type": "code",
   "execution_count": null,
   "id": "726711da",
   "metadata": {},
   "outputs": [],
   "source": [
    "class Human:\n",
    "\n",
    "    def __init__(self, name, age, iq):\n",
    "        self.name = name\n",
    "        self.age = age\n",
    "        if self.age < 0:\n",
    "            print('Oops, necromancer detected =)')\n",
    "        self.iq = iq"
   ]
  },
  {
   "cell_type": "markdown",
   "id": "0ddae129",
   "metadata": {},
   "source": [
    "#### STATIC CLASS PROPERTIES\n",
    "\n",
    "- The same value for all class objects.\n",
    "- Accessed not through `self`, but through the class name (e.g., `Human.legs = 4`).\n",
    "- If the value is changed in one object, it changes in all existing objects.\n",
    "- `self.legs = 5` creates an independent copy of the `legs` variable; changing it will not affect other objects."
   ]
  },
  {
   "cell_type": "code",
   "execution_count": null,
   "id": "b0496a59",
   "metadata": {},
   "outputs": [],
   "source": [
    "class Human:\n",
    "    legs = 2    # Static property\n",
    "    head = 1    # Static property\n",
    "\n",
    "    def __init__(self, name):\n",
    "        self.name = name"
   ]
  },
  {
   "cell_type": "markdown",
   "id": "78eb11ae",
   "metadata": {},
   "source": [
    "#### CLASSES - EXAMPLE"
   ]
  },
  {
   "cell_type": "code",
   "execution_count": null,
   "id": "3ee5ac62",
   "metadata": {},
   "outputs": [],
   "source": [
    "class Point:\n",
    "    amount = 0  # static field\n",
    "\n",
    "    def __init__(self, *args):  # constructor\n",
    "        if len(args) == 2:\n",
    "            self.x = args[0]\n",
    "            self.y = args[1]\n",
    "        else:\n",
    "            self.x = self.y = 0\n",
    "        Point.amount += 1\n",
    "\n",
    "    def __del__(self):  # destructor\n",
    "        Point.amount -= 1\n",
    "\n",
    "    def distance(self):\n",
    "        return (self.x ** 2 + self.y ** 2) ** 0.5\n",
    "\n",
    "    def __str__(self):  # string conversion operator\n",
    "        return '({}; {})'.format(self.x, self.y)\n",
    "\n",
    "p = Point(36, 42)\n",
    "print(p)"
   ]
  },
  {
   "cell_type": "markdown",
   "id": "72928477",
   "metadata": {},
   "source": [
    "### TASK\n",
    "\n",
    "Develop a class \"circle on a plane\". Properties:\n",
    "\n",
    "- center point\n",
    "- radius\n",
    "\n",
    "Provide methods:\n",
    "\n",
    "- circumference\n",
    "- area of the circle\n",
    "- moving the center\n",
    "- distance from the origin"
   ]
  },
  {
   "cell_type": "code",
   "execution_count": null,
   "id": "0ed5f1aa",
   "metadata": {},
   "outputs": [],
   "source": []
  },
  {
   "cell_type": "code",
   "execution_count": null,
   "id": "788b8e65",
   "metadata": {},
   "outputs": [],
   "source": []
  },
  {
   "cell_type": "markdown",
   "id": "272b96e3",
   "metadata": {},
   "source": [
    "### SOLUTION ( you really tried to solve it, didn't you?:) )"
   ]
  },
  {
   "cell_type": "code",
   "execution_count": null,
   "id": "9e5302ea",
   "metadata": {},
   "outputs": [],
   "source": [
    "from math import sqrt, pi\n",
    "\n",
    "class Circle:\n",
    "\n",
    "    def __init__(self, x, y, radius):\n",
    "        self.center = Point(x, y)\n",
    "        self.radius = radius\n",
    "\n",
    "    def length(self):\n",
    "        return 2 * pi * self.radius\n",
    "\n",
    "    def square(self):\n",
    "        return pi * self.radius ** 2\n",
    "\n",
    "    def distance(self):\n",
    "        return sqrt(self.center.x ** 2 + self.center.y ** 2)\n",
    "\n",
    "    def move(self, x, y):\n",
    "        self.center.x = x\n",
    "        self.center.y = y\n",
    "\n",
    "    def __str__(self):\n",
    "        return \"Circle: center: {}; radius: {}\".format(self.center, self.radius)"
   ]
  },
  {
   "cell_type": "markdown",
   "id": "2e56b97d",
   "metadata": {},
   "source": [
    "### Special Methods\n",
    "\n",
    "- `__new__` - Used to create new instances of a class, it is called before the `__init__` method. It is useful, for example, if you need to set up an object before its initialization or change the way the object is created based on certain conditions.\n",
    "\n",
    "- `__init__` - The class constructor.\n",
    "\n",
    "- `__del__` - The class destructor (called when an object is deleted, it cleans up any used memory).\n",
    "\n",
    "- `__str__` - String representation of the object.\n",
    "\n",
    "- `__repr__` - Official string representation of the object.\n"
   ]
  },
  {
   "cell_type": "code",
   "execution_count": null,
   "id": "609228f6",
   "metadata": {},
   "outputs": [],
   "source": [
    "class Point:\n",
    "    def __new__(cls, *args, **kwargs):\n",
    "        print(\"Creating a new Point instance\")\n",
    "        return super(Point, cls).__new__(cls)\n",
    "\n",
    "    def __init__(self, x, y):\n",
    "        self.x = x\n",
    "        self.y = y\n",
    "\n",
    "    def __str__(self):\n",
    "        return f'Point at ({self.x}, {self.y})'\n",
    "\n",
    "    def __repr__(self):\n",
    "        return f'Point({self.x}, {self.y})'\n",
    "\n",
    "    def __del__(self):\n",
    "        print(f'Point at ({self.x}, {self.y}) is being deleted')\n",
    "\n",
    "# Example usage\n",
    "p = Point(1, 2)\n",
    "print(p)            # Output: Point at (1, 2)\n",
    "print(repr(p))      # Output: Point(1, 2)\n",
    "del p               # Triggers the destructor message\n"
   ]
  },
  {
   "cell_type": "markdown",
   "id": "0b74b51f",
   "metadata": {},
   "source": [
    "#### EXCEPTIONS\n",
    "\n",
    "An exception is an error in the program that makes further execution of the algorithm impossible or meaningless.\n",
    "\n",
    "When such an error occurs, all functions running at that moment are interrupted.\n",
    "\n",
    "Exception handling is a language mechanism intended to describe the program's response to exceptions (\"what to do to stay afloat\").\n",
    "\n",
    "#### SYNTAX\n",
    "\n",
    "Raising an exception:\n",
    "\n",
    "```python\n",
    "raise exception_type;\n",
    "```\n",
    "\n",
    "```python\n",
    "try:\n",
    "    # Code that may contain an error\n",
    "except exception_type_1:\n",
    "    # Exception handler code\n",
    "except exception_type_2:\n",
    "    # Exception handler code\n",
    "else:\n",
    "    # If everything went well\n",
    "finally:\n",
    "    # Code that always runs\n",
    "```\n",
    "\n",
    "#### ATTENTION\n",
    "\n",
    "If an exception is generated but not caught, the program will terminate abruptly."
   ]
  },
  {
   "cell_type": "code",
   "execution_count": null,
   "id": "15e9a7d7",
   "metadata": {},
   "outputs": [],
   "source": [
    "a = int(input())    # Enter 5\n",
    "b = int(input())    # Enter 0\n",
    "c = a / b"
   ]
  },
  {
   "cell_type": "markdown",
   "id": "85e90559",
   "metadata": {},
   "source": [
    "#### SOLUTION\n",
    "\n",
    "- Provide for the possibility of an error situation.\n",
    "- Develop a \"Plan B\"."
   ]
  },
  {
   "cell_type": "code",
   "execution_count": null,
   "id": "5c6a2c69",
   "metadata": {},
   "outputs": [],
   "source": [
    "a = int(input())\n",
    "b = int(input())\n",
    "\n",
    "try:\n",
    "    c = a / b\n",
    "except ZeroDivisionError:\n",
    "    print('This is a real bad idea')\n",
    "    c = 42"
   ]
  },
  {
   "cell_type": "markdown",
   "id": "bf0dd849",
   "metadata": {},
   "source": [
    "#### TYPES OF EXCEPTIONS\n",
    "\n",
    "- `ZeroDivisionError`: division by zero\n",
    "- `KeyboardInterrupt`: attempt to interrupt the program (when pressing Ctrl+C)\n",
    "- `AttributeError`: the object does not have this attribute (value or method)\n",
    "- `NotImplementedError`: a method was called, the code of which is not written (stub)\n",
    "- `TypeError`: the operation is applied to an object of an inappropriate type\n",
    "- `ValueError`: the function receives an argument of the correct type, but of an incorrect value"
   ]
  },
  {
   "cell_type": "markdown",
   "id": "c217f07c",
   "metadata": {},
   "source": [
    "## Static Methods"
   ]
  },
  {
   "cell_type": "markdown",
   "id": "8fbbcaeb",
   "metadata": {},
   "source": [
    "**Static Methods** in Python are class methods that don't require access to an instance object (`self`) or the class itself. They can be called directly from the class without creating an instance, and they execute in the context of the class, not a specific object instance. Static methods are useful when there's no need for a connection to an object.\n",
    "\n",
    "To declare a static method, we use the `@staticmethod` decorator before the function definition."
   ]
  },
  {
   "cell_type": "code",
   "execution_count": null,
   "id": "33f07df9",
   "metadata": {},
   "outputs": [],
   "source": [
    "class Calculator:\n",
    "    @staticmethod\n",
    "    def add(x, y):\n",
    "        return x + y\n",
    "\n",
    "    @staticmethod\n",
    "    def multiply(x, y):\n",
    "        return x * y\n",
    "\n",
    "result = Calculator.add(3, 4)  # 7\n",
    "result = Calculator.multiply(5, 6)  # 30"
   ]
  },
  {
   "cell_type": "markdown",
   "id": "33f8e523",
   "metadata": {},
   "source": [
    "There's also the `@classmethod` decorator in Python. It's used for working with class attributes or performing operations related to the class as a whole, rather than specific instances. Instead of `self`, the class itself (`cls`) is passed as the first argument."
   ]
  },
  {
   "cell_type": "code",
   "execution_count": null,
   "id": "40ac4b5c",
   "metadata": {},
   "outputs": [],
   "source": [
    "class Student:\n",
    "    school_name = \"ABC School\"\n",
    "\n",
    "    def __init__(self, name, grade):\n",
    "        self.name = name\n",
    "        self.grade = grade\n",
    "\n",
    "    @classmethod\n",
    "    def change_school_name(cls, new_name):\n",
    "        cls.school_name = new_name\n",
    "\n",
    "    @classmethod\n",
    "    def from_info(cls, info_string):\n",
    "        name, grade = info_string.split(\"-\")\n",
    "        return cls(name, int(grade))\n",
    "\n",
    "student1 = Student(\"Alice\", 10)\n",
    "print(student1.school_name)  # Output: ABC School\n",
    "\n",
    "Student.change_school_name(\"BAKA School\")\n",
    "print(student1.school_name)  # Output: BAKA School\n",
    "\n",
    "student2 = Student.from_info(\"Bob-12\")\n",
    "print(student2.name, student2.grade)  # Output: Bob 12"
   ]
  },
  {
   "cell_type": "markdown",
   "id": "319bc65e",
   "metadata": {},
   "source": [
    "## Getter, Setter, Property"
   ]
  },
  {
   "cell_type": "markdown",
   "id": "48bf5cbf",
   "metadata": {},
   "source": [
    "**Getters** and **Setters** in Python are methods used to retrieve (read) and set (write) the values of object attributes, respectively. They are used to control access to attributes and allow for additional actions to be performed when accessing attributes.\n",
    "\n",
    "1. **Getter**: This is a method used to retrieve the value of an object's attribute. It is typically intended for reading attribute values and returns the current value of the attribute.\n",
    "\n",
    "2. **Setter**: This is a method used to set a new value for an object's attribute. It is typically intended for writing attribute values and sets a new value for the attribute.\n",
    "\n",
    "3. **Property** allows you to create object attributes with automatic method calls when they are accessed, assigned, or deleted. This enables you to create attributes that appear like regular attributes but actually invoke specific methods when used.\n",
    "\n",
    "Properties are used to control access to object attributes, validate values before setting them, compute values on-the-fly, and perform other related tasks.\n",
    "\n",
    "Here are some code examples:\n",
    "\n",
    "1. **Using getters and setters**:"
   ]
  },
  {
   "cell_type": "code",
   "execution_count": null,
   "id": "7e873981",
   "metadata": {},
   "outputs": [],
   "source": [
    "class Person:\n",
    "    def __init__(self, name):\n",
    "        self._name = name  # Protected attribute\n",
    "\n",
    "    def get_name(self):\n",
    "        return self._name\n",
    "\n",
    "    def set_name(self, new_name):\n",
    "        if new_name.isalpha():\n",
    "            self._name = new_name\n",
    "        else:\n",
    "            print(\"Name must contain only alphabetic characters.\")\n",
    "\n",
    "person = Person(\"Alice\")\n",
    "print(person.get_name())  # Output: Alice\n",
    "\n",
    "person.set_name(\"Bob\")\n",
    "print(person.get_name())  # Output: Bob\n",
    "\n",
    "person.set_name(\"123\")  # Output: Name must contain only alphabetic characters."
   ]
  },
  {
   "cell_type": "markdown",
   "id": "1c6ed251",
   "metadata": {},
   "source": [
    "2. **Using properties**:"
   ]
  },
  {
   "cell_type": "code",
   "execution_count": null,
   "id": "f20a0a6f",
   "metadata": {},
   "outputs": [],
   "source": [
    "class Rectangle:\n",
    "    def __init__(self, width, height):\n",
    "        self._width = width\n",
    "        self._height = height\n",
    "\n",
    "    @property\n",
    "    def area(self):\n",
    "        return self._width * self._height\n",
    "\n",
    "    @area.setter\n",
    "    def area(self, new_area):\n",
    "        if new_area <= 0:\n",
    "            print(\"Area must be positive.\")\n",
    "        else:\n",
    "            self._width = new_area / self._height\n",
    "\n",
    "rect = Rectangle(4, 5)\n",
    "print(rect.area)  # Output: 20\n",
    "\n",
    "rect.area = 30\n",
    "print(rect.area)  # Output: 30\n",
    "\n",
    "rect.area = -10  # Output: Area must be positive."
   ]
  },
  {
   "cell_type": "markdown",
   "id": "5d6f4dca",
   "metadata": {},
   "source": [
    "Now let's move on to inheritance"
   ]
  },
  {
   "cell_type": "markdown",
   "id": "196409a9",
   "metadata": {},
   "source": [
    "#### INHERITANCE\n",
    "\n",
    "Inheritance is a fundamental concept in object-oriented programming (OOP) that allows a new class to be based on an existing class, inheriting its attributes and methods. This promotes code reuse and facilitates the creation of hierarchical relationships between classes.\n",
    "\n",
    "- **Base class**: The class that serves as a prototype for the created classes (also known as the parent class).\n",
    "- **Derived class**: The class created based on the base class.\n",
    "\n",
    "Syntax:\n",
    "\n",
    "```python\n",
    "class NewClassName(BaseClassName):\n",
    "    description of the new class\n",
    "```\n",
    "\n",
    "#### EXAMPLE"
   ]
  },
  {
   "cell_type": "code",
   "execution_count": null,
   "id": "1d3a64d4",
   "metadata": {},
   "outputs": [],
   "source": [
    "class SpaceShip:\n",
    "    def __init__(self):\n",
    "        self.hp = 100\n",
    "        self.speed = 13000\n",
    "        self.crew = 64\n",
    "        self.power_reserve = 56000\n",
    "\n",
    "    def __str__(self):\n",
    "        return \"SpaceShip: {}; {}; {}; {}\".format(\n",
    "            self.hp, self.speed, self.crew, self.power_reserve\n",
    "        )\n",
    "\n",
    "    def draw(self):\n",
    "        print('+-|--------|-+')\n",
    "        print('+     ПП     +')\n",
    "        print('+     ПП     +')\n",
    "        print('+--П------П--+')"
   ]
  },
  {
   "cell_type": "code",
   "execution_count": null,
   "id": "a0fcbae4",
   "metadata": {},
   "outputs": [],
   "source": [
    "class StarDestroyer(SpaceShip):\n",
    "    def __init__(self):\n",
    "        super().__init__()            # Call to the base class constructor\n",
    "        self.shields = 100\n",
    "        self.shields_enabled = False\n",
    "        self.weapons = [100]*15\n",
    "\n",
    "    def __str__(self):\n",
    "        return \"StarDestroyer: {}; {}\".format(self.shields, self.weapons)\n",
    "\n",
    "    def shields_on(self):\n",
    "        self.shields_enabled = True\n",
    "\n",
    "    def shields_off(self):\n",
    "        self.shields_enabled = False\n",
    "\n",
    "    def hit(self):\n",
    "        if self.shields_enabled:\n",
    "            self.shields -= 10\n",
    "        else:\n",
    "            self.hp -= 10\n",
    "\n",
    "    def draw(self):\n",
    "        print(\"       /\\\\ \")\n",
    "        print(\"      /  \\\\ \")\n",
    "        print(\"     /    \\\\ \")\n",
    "        print(\"    / |  | \\\\ \")\n",
    "        print(\"   /        \\\\ \")\n",
    "        print(\"  /   /..\\\\ \\\\ \")\n",
    "        print(\" /   +----+   \\\\ \")\n",
    "        print(\"+---+-+--+-+---+\")\n",
    "        print(\"    |_|  |_|    \""
   ]
  },
  {
   "cell_type": "markdown",
   "id": "88d3a2a0",
   "metadata": {},
   "source": [
    "**Multiple Inheritance** occurs when a class inherits from multiple base classes. In this scenario, the derived class inherits attributes and methods from all of its parent classes, similar to how a child inherits traits from both parents in real life."
   ]
  },
  {
   "cell_type": "code",
   "execution_count": 1,
   "id": "438e30f0",
   "metadata": {},
   "outputs": [
    {
     "name": "stdout",
     "output_type": "stream",
     "text": [
      "Beethoven speaks\n",
      "Beethoven is walking\n",
      "Beethoven barks\n"
     ]
    }
   ],
   "source": [
    "class Animal:\n",
    "    def __init__(self, name):\n",
    "        self.name = name\n",
    "\n",
    "    def speak(self):\n",
    "        print(f\"{self.name} speaks\")\n",
    "\n",
    "\n",
    "class Walkable:\n",
    "    def walk(self):\n",
    "        print(f\"{self.name} is walking\")\n",
    "\n",
    "\n",
    "class Dog(Animal, Walkable):\n",
    "    def bark(self):\n",
    "        print(f\"{self.name} barks\")\n",
    "\n",
    "\n",
    "my_dog = Dog(\"Beethoven\")\n",
    "my_dog.speak()  # Output: Buddy speaks\n",
    "my_dog.walk()   # Output: Buddy is walking\n",
    "my_dog.bark()   # Output: Buddy barks\n"
   ]
  },
  {
   "cell_type": "markdown",
   "id": "80eb733d",
   "metadata": {},
   "source": [
    "## Polymorphism "
   ]
  },
  {
   "cell_type": "markdown",
   "id": "22628251",
   "metadata": {},
   "source": [
    "Polymorphism is a concept that allows objects of different classes to have the same interface (attributes, methods), but implement it differently. This means that the same method or function can have different implementations in different classes.\n",
    "In the context of polymorphism, methods with the same names and arguments can behave differently in different classes, allowing the code to be more flexible and modular.\n",
    "Polymorphism is often achieved through class inheritance and method overriding in derived classes. This allows for creating a common interface for different classes and providing different behaviors depending on the type of object."
   ]
  },
  {
   "cell_type": "code",
   "execution_count": null,
   "id": "dafa5efe",
   "metadata": {},
   "outputs": [],
   "source": [
    "class Animal:\n",
    "    def __init__(self, name):\n",
    "        self.name = name\n",
    "\n",
    "    def speak(self):\n",
    "        print(\"The animal speaks\")\n",
    "\n",
    "\n",
    "class Dog(Animal):\n",
    "    def speak(self):\n",
    "        print(\"The dog barks\")\n",
    "\n",
    "\n",
    "class Cat(Animal):\n",
    "    def speak(self):\n",
    "        print(\"The cat meows\")\n",
    "\n",
    "\n",
    "# Create instances of different animals\n",
    "animal = Animal(\"Generic Animal\")\n",
    "dog = Dog(\"Buddy\")\n",
    "cat = Cat(\"Whiskers\")\n",
    "\n",
    "# Call the speak() method on each instance\n",
    "animal.speak()  # Output: The animal speaks\n",
    "dog.speak()     # Output: The dog barks\n",
    "cat.speak()     # Output: The cat meows"
   ]
  }
 ],
 "metadata": {
  "kernelspec": {
   "display_name": "Python 3 (ipykernel)",
   "language": "python",
   "name": "python3"
  },
  "language_info": {
   "codemirror_mode": {
    "name": "ipython",
    "version": 3
   },
   "file_extension": ".py",
   "mimetype": "text/x-python",
   "name": "python",
   "nbconvert_exporter": "python",
   "pygments_lexer": "ipython3",
   "version": "3.11.7"
  },
  "nbTranslate": {
   "displayLangs": [
    "*"
   ],
   "hotkey": "alt-t",
   "langInMainMenu": true,
   "sourceLang": "en",
   "targetLang": "fr",
   "useGoogleTranslate": true
  }
 },
 "nbformat": 4,
 "nbformat_minor": 5
}
