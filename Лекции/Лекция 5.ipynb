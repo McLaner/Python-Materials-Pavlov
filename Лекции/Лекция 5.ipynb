{
 "cells": [
  {
   "cell_type": "markdown",
   "id": "48b0b7b3",
   "metadata": {},
   "source": [
    "# Создание бота в Telegram"
   ]
  },
  {
   "cell_type": "markdown",
   "id": "23b849df",
   "metadata": {},
   "source": [
    "Вы наверняка знаете, что такое Telegram. Мессенджер является одним из самых быстрорастущих приложений в мире по количеству пользователей. Поэтому использование различных инструментов, предоставляемых Telegram, очень актуально. Здесь мы обратимся к ботам.\n",
    "Боты в Telegram могут быть интегрированы в групповые чаты, каналы и личные беседы, предлагая широкий спектр функциональных возможностей. Они могут использоваться для решения таких задач, как отправка уведомлений, получение данных из внешних источников, автоматизация процессов, обеспечение поддержки клиентов и многое другое."
   ]
  },
  {
   "cell_type": "markdown",
   "id": "d4c2ec4f",
   "metadata": {},
   "source": [
    "### Установка необходимых библиотек\n",
    "Сначала установите библиотеку Telebot с помощью pip:\n",
    "\n",
    "```\n",
    "pip install pytelegrambotapi\n",
    "```"
   ]
  },
  {
   "cell_type": "markdown",
   "id": "eb398955",
   "metadata": {},
   "source": [
    "## Создание бота в Telegram"
   ]
  },
  {
   "cell_type": "markdown",
   "id": "55879c1b",
   "metadata": {},
   "source": [
    "Чтобы создать нового бота в Telegram, выполните следующие действия:\n",
    "\n",
    "1. Откройте Telegram и найдите BotFather (@BotFather).\n",
    "2. Начните чат с BotFather и отправьте команду `/start`.\n",
    "3. /newbot - команда для регистрации\n",
    "\n",
    "Входные данные\n",
    "▪ Имя бота (любое)\n",
    "▪ Имя пользователя бота (уникальное, оканчивающееся на bot)\n",
    "Выходные данные\n",
    "▪ Токен авторизации для бота\n",
    "\n",
    "Токен\n",
    "\n",
    "Пример токена: 1621840900:AAFzEyGvpfolq-rv03BDcCASyB-iVjvRapM\n",
    "\n",
    "**Внимание: Храните его в секрете, не передавайте никому!\n",
    "\n",
    "Если токен скомпрометирован, напишите боту @BotFather\n",
    "\n",
    "▪ Команда /revoke - отозвать старый токен\n",
    "\n",
    "▪ Команда /token - сгенерировать новый токен\n",
    "\n",
    "После регистрации\n",
    "\n",
    "▪ /setabouttext добавляет текстовое описание бота, которое пользователи могут просматривать в его профиле (до 200 символов);\n",
    "\n",
    "▪ /setdescription добавляет краткое описание (что делает бот) для бота, которое отображается при добавлении бота в список контактов на старте (до 512 символов); \n",
    "\n",
    "▪ /setuserpic устанавливает картинку, которую вы отправляете боту, в качестве аватарного изображения бота.\n",
    "\n",
    "Вся документация находится здесь: https://core.telegram.org/bots/api"
   ]
  },
  {
   "cell_type": "markdown",
   "id": "e8b255ef",
   "metadata": {},
   "source": [
    "## Инициализация"
   ]
  },
  {
   "cell_type": "code",
   "execution_count": null,
   "id": "f332583c",
   "metadata": {},
   "outputs": [],
   "source": [
    "import telebot\n",
    "\n",
    "API_TOKEN = 'YOUR_TELEGRAM_BOT_TOKEN'"
   ]
  },
  {
   "cell_type": "markdown",
   "id": "00b74ac3",
   "metadata": {},
   "source": [
    "Чтобы предотвратить спам, боты в Telegram не могут отправлять сообщения пользователю, пока тот не инициирует разговор с ботом хотя бы один раз.\n",
    "В этом случае для пользователя создается идентификатор чата, через который бот может отправлять сообщения этому пользователю.\n",
    "Для каждого типа сообщений или команд создается отдельная функция-обработчик."
   ]
  },
  {
   "cell_type": "code",
   "execution_count": null,
   "id": "fe5a7547",
   "metadata": {},
   "outputs": [],
   "source": [
    "@bot.message_handler(func=lambda message: True) \n",
    "#Эта лямбда-функция принимает параметр message и всегда возвращает True.\n",
    "def echo_all(message):\n",
    "    bot.reply_to(message, message.text)\n",
    "                #message->указание получателя сообщения\n",
    "                #message.text -> текст сообщения (просто echo bot)"
   ]
  },
  {
   "cell_type": "markdown",
   "id": "9edff3a2",
   "metadata": {},
   "source": [
    "### Запуск бота"
   ]
  },
  {
   "cell_type": "code",
   "execution_count": null,
   "id": "cc962628",
   "metadata": {},
   "outputs": [],
   "source": [
    "if __name__ == '__main__':\n",
    "    bot.polling(none_stop=True)"
   ]
  },
  {
   "cell_type": "code",
   "execution_count": null,
   "id": "f11e3a4c",
   "metadata": {},
   "outputs": [],
   "source": [
    "#FULL CODE\n",
    "import telebot\n",
    "\n",
    "API_TOKEN = 'YOUR_TELEGRAM_BOT_TOKEN'\n",
    "\n",
    "bot = telebot.TeleBot(API_TOKEN)\n",
    "\n",
    "@bot.message_handler(func=lambda message: True)\n",
    "def echo_all(message):\n",
    "    bot.reply_to(message, message.text)\n",
    "\n",
    "if __name__ == '__main__':\n",
    "    bot.polling(none_stop=True)"
   ]
  },
  {
   "cell_type": "markdown",
   "id": "532106fd",
   "metadata": {},
   "source": [
    "**Автоматическая подстановка команд** (например, /start или /help)\n",
    "Реализовано с помощью @botfather\n",
    "Команда /setcommands"
   ]
  },
  {
   "cell_type": "code",
   "execution_count": null,
   "id": "8b7f6c00",
   "metadata": {},
   "outputs": [],
   "source": [
    "import telebot\n",
    "\n",
    "API_TOKEN = 'YOUR_TELEGRAM_BOT_TOKEN'\n",
    "\n",
    "bot = telebot.TeleBot(API_TOKEN)\n",
    "\n",
    "@bot.message_handler(commands=['start', 'help'])\n",
    "def send_welcome(message):\n",
    "    bot.reply_to(message, \"Hello! How can I assist you?\")\n",
    "\n",
    "@bot.message_handler(func=lambda message: True)\n",
    "def echo_all(message):\n",
    "    bot.reply_to(message, message.text)\n",
    "\n",
    "if __name__ == '__main__':\n",
    "    bot.polling(none_stop=True)"
   ]
  },
  {
   "cell_type": "markdown",
   "id": "ffa947c3",
   "metadata": {},
   "source": [
    "И мы можем обрабатывать сообщения в соответствии с различными типами данных"
   ]
  },
  {
   "cell_type": "code",
   "execution_count": null,
   "id": "6d12dd43",
   "metadata": {},
   "outputs": [],
   "source": [
    "@bot.message_handler(content_types=['text']) #Text\n",
    "def handle_text(message):\n",
    "    bot.reply_to(message, f\"You said: {message.text}\")"
   ]
  },
  {
   "cell_type": "code",
   "execution_count": null,
   "id": "e430c481",
   "metadata": {},
   "outputs": [],
   "source": [
    "@bot.message_handler(content_types=['photo'])\n",
    "def handle_photo(message):\n",
    "    bot.reply_to(message, \"Nice photo!\")"
   ]
  },
  {
   "cell_type": "code",
   "execution_count": null,
   "id": "c155cbf6",
   "metadata": {},
   "outputs": [],
   "source": [
    "@bot.message_handler(content_types=['document'])\n",
    "def handle_document(message):\n",
    "    bot.reply_to(message, \"Thanks for the document!\")"
   ]
  },
  {
   "cell_type": "markdown",
   "id": "7195a3f7",
   "metadata": {},
   "source": [
    "Фильтр по типу содержимого:\n",
    "* текст\n",
    "* аудио\n",
    "* документ\n",
    "* фото\n",
    "* стикер\n",
    "* видео\n",
    "* голос\n",
    "* контакт\n",
    "* местоположение"
   ]
  },
  {
   "cell_type": "code",
   "execution_count": null,
   "id": "47337478",
   "metadata": {},
   "outputs": [],
   "source": [
    "@bot.message_handler(content_types=['text'])\n",
    "def recieve_message(message):\n",
    "     bot.send_message(message.chat.id, 'Welcome!')"
   ]
  },
  {
   "cell_type": "code",
   "execution_count": 1,
   "id": "35a8e980",
   "metadata": {
    "collapsed": true
   },
   "outputs": [
    {
     "ename": "NameError",
     "evalue": "name 'bot' is not defined",
     "output_type": "error",
     "traceback": [
      "\u001b[0;31m---------------------------------------------------------------------------\u001b[0m",
      "\u001b[0;31mNameError\u001b[0m                                 Traceback (most recent call last)",
      "Cell \u001b[0;32mIn[1], line 1\u001b[0m\n\u001b[0;32m----> 1\u001b[0m \u001b[38;5;129m@bot\u001b[39m\u001b[38;5;241m.\u001b[39mmessage_handler(\n\u001b[1;32m      2\u001b[0m     content_types\u001b[38;5;241m=\u001b[39m[\u001b[38;5;124m'\u001b[39m\u001b[38;5;124mtext\u001b[39m\u001b[38;5;124m'\u001b[39m, \u001b[38;5;124m'\u001b[39m\u001b[38;5;124mphoto\u001b[39m\u001b[38;5;124m'\u001b[39m])\n\u001b[1;32m      3\u001b[0m \u001b[38;5;28;01mdef\u001b[39;00m \u001b[38;5;21mrecieve_message\u001b[39m(message):\n\u001b[1;32m      4\u001b[0m     bot\u001b[38;5;241m.\u001b[39msend_message(\n\u001b[1;32m      5\u001b[0m          message\u001b[38;5;241m.\u001b[39mchat\u001b[38;5;241m.\u001b[39mid,\n\u001b[1;32m      6\u001b[0m          \u001b[38;5;124m'\u001b[39m\u001b[38;5;124mWelcome!\u001b[39m\u001b[38;5;124m'\u001b[39m\n\u001b[1;32m      7\u001b[0m )\n",
      "\u001b[0;31mNameError\u001b[0m: name 'bot' is not defined"
     ]
    }
   ],
   "source": [
    "@bot.message_handler(\n",
    "    content_types=['text', 'photo'])\n",
    "def recieve_message(message):\n",
    "    bot.send_message(\n",
    "         message.chat.id,\n",
    "         'Welcome!'\n",
    ")"
   ]
  },
  {
   "cell_type": "markdown",
   "id": "298a9206",
   "metadata": {},
   "source": [
    "Фильтр функции\n",
    "\n",
    "Позволяет начать выполнение обработчика только в том случае, если объект сообщения соответствует критерию, заданному функцией.\n",
    "\n",
    "Пример:"
   ]
  },
  {
   "cell_type": "code",
   "execution_count": null,
   "id": "5295c5f6",
   "metadata": {},
   "outputs": [],
   "source": [
    "def test(message):\n",
    "    return len(message.text) % 2 == 0\n",
    "@bot.message_handler(func=test) \n",
    "    def example(message):\n",
    "        bot.send_message( \n",
    "            message.chat.id,\n",
    "            'Reply to a message with an even line length'\n",
    "        )"
   ]
  },
  {
   "cell_type": "markdown",
   "id": "a2ca3954",
   "metadata": {},
   "source": [
    "Но мы можем заменить ее на лямбда-функцию.\n",
    "Если вы забыли:\n",
    "Лямбда-функция - это однострочная анонимная функция, единственной задачей которой является «получить выход из входных данных».\n",
    "Синтаксис:\n",
    "\n",
    "lambda <входные параметры>: <формула для вычисления результата>.\n",
    "\n",
    "Пример:"
   ]
  },
  {
   "cell_type": "code",
   "execution_count": null,
   "id": "f4bc0a0c",
   "metadata": {},
   "outputs": [],
   "source": [
    "lambda number: number % 2 == 0 # charity determination of a number"
   ]
  },
  {
   "cell_type": "markdown",
   "id": "f515bad4",
   "metadata": {},
   "source": [
    "И мы получаем"
   ]
  },
  {
   "cell_type": "code",
   "execution_count": null,
   "id": "4f2e8fc2",
   "metadata": {},
   "outputs": [],
   "source": [
    "@bot.message_handler(func=lambda m: len(m.text) % 2 == 0) def example(message):\n",
    "     bot.send_message(\n",
    "         message.chat.id,\n",
    "            'Reply to a message with an even line length'\n",
    "     )"
   ]
  },
  {
   "cell_type": "markdown",
   "id": "4c414eca",
   "metadata": {},
   "source": [
    "А объединив его с обработчиком сообщений, мы можем получить функцию, которой бот будет отвечать на каждый запрос к себе."
   ]
  },
  {
   "cell_type": "code",
   "execution_count": null,
   "id": "34f9ebeb",
   "metadata": {},
   "outputs": [],
   "source": [
    "@bot.message_handler(func=lambda m: m.text.find('bot') != -1)\n",
    "def bot_call(message):\n",
    "    bot.send_message(message.chat.id, 'Did someone say bot???')"
   ]
  },
  {
   "cell_type": "markdown",
   "id": "fb5576e6",
   "metadata": {},
   "source": [
    "## Regex\n",
    "Regex (регулярное выражение) - это язык формирования строк, предназначенный для поиска строк по повторяющимся последовательностям символов.\n",
    "### Основные правила\n",
    "\n",
    "#### Шаблон | Описание\n",
    "\n",
    "- `.` \n",
    "  - Любой символ, кроме `\\n`.\n",
    "- `?` \n",
    "  - Предшествующий символ встречается 0 или 1 раз\n",
    "- `+` \n",
    "  - Предшествующий символ встречается 1 или более раз\n",
    "- `*` \n",
    "  - Предшествующий символ встречается 0 или более раз\n",
    "- `{N}` \n",
    "  - Предшествующий символ повторяется N раз\n",
    "- `{N,M}` \n",
    "  - Предшествующий символ повторяется от N до M раз\n",
    "- `a|b` \n",
    "  - Либо символ `a`, либо символ `b`.\n",
    "- `[abc]` \n",
    "  - Любой из символов `a`, `b` или `c` в квадратных скобках.\n",
    "  \n",
    "Пример:\n",
    "- [012] - любая из цифр 0, 1 или 2\n",
    "- [012]{2} - любая из следующих цифр: 00, 01, 02, 10, 11, 12, 20, 21, 22\n",
    "\n",
    "### Специальные символы\n",
    "\n",
    "#### Шаблон | Описание\n",
    "- `^` | Начало строки\n",
    "- `$` | Конец строки\n",
    "- `\\w` | Любая цифра или буква\n",
    "- `\\d` | Любая цифра ([0-9])\n",
    "- `\\s` | Любой пробельный символ\n",
    "- `\\\\\\` | Исключение символа после \\\n",
    "\n",
    "### Другие примеры\n",
    "\n",
    "- **IP-адрес**: `[1-2][\\d]{2}\\.[1-2][\\d]{2}\\.[1-2][\\d]{2}\\.[1-2][\\d]{2}`\n",
    "- **Email**: [http://www.ex-parrot.com/~pdw/Mail-RFC822-Address.html](http://www.ex-parrot.com/~pdw/Mail-RFC822-Address.html)\n",
    "\n",
    "Таким образом, используя это, мы можем создать новые обработчики."
   ]
  },
  {
   "cell_type": "code",
   "execution_count": null,
   "id": "1f794791",
   "metadata": {},
   "outputs": [],
   "source": [
    " @bot.message_handler(regexp='^https?://') \n",
    "def func(msg):\n",
    "    bot.send_message(msg.chat.id, 'Oh, the link!')\n",
    "        \n",
    "@bot.message_handler(regexp='^.*bot.*$')\n",
    "def func(msg):\n",
    "    bot.send_message(msg.chat.id, 'Someone definitely said bot!')\n",
    " "
   ]
  },
  {
   "cell_type": "markdown",
   "id": "ecef7c65",
   "metadata": {},
   "source": [
    "### Важное замечание!\n",
    "\n",
    "Если сообщение соответствует нескольким обработчикам, будет применен первый! Поэтому лучше всего обрабатывать конкретные случаи (команды) в начале, а более общие - в конце (когда все остальные обработчики не подходят)."
   ]
  },
  {
   "cell_type": "markdown",
   "id": "ab3b2ac7",
   "metadata": {},
   "source": [
    "### Виртуальные клавиатуры\n",
    "\n",
    "Отображаются на экране в виде панели с кнопками. Они предназначены для упрощения ввода предопределенных сообщений.\n",
    "\n",
    "#### Импорт:"
   ]
  },
  {
   "cell_type": "code",
   "execution_count": null,
   "id": "9e595ef0",
   "metadata": {},
   "outputs": [],
   "source": [
    "from telebot.types import ReplyKeyboardMarkup, KeyboardButton, ReplyKeyboardRemove"
   ]
  },
  {
   "cell_type": "markdown",
   "id": "dd0489bf",
   "metadata": {},
   "source": [
    "Создание объекта клавиатуры\n",
    "Вы можете создать обычную клавиатуру"
   ]
  },
  {
   "cell_type": "code",
   "execution_count": null,
   "id": "88ba54f3",
   "metadata": {},
   "outputs": [],
   "source": [
    "keyboard = ReplyKeyboardMarkup()\n",
    "keyboard.add(\n",
    "    KeyboardButton('Spring'),\n",
    "    KeyboardButton('Summer'),\n",
    "    KeyboardButton('Autumn'),\n",
    "    KeyboardButton('Winter')\n",
    ")"
   ]
  },
  {
   "cell_type": "markdown",
   "id": "a691c2a3",
   "metadata": {},
   "source": [
    "или создать клавиатуру с несколькими строками"
   ]
  },
  {
   "cell_type": "code",
   "execution_count": null,
   "id": "4c069304",
   "metadata": {},
   "outputs": [],
   "source": [
    "keyboard = ReplyKeyboardMarkup()\n",
    "keyboard.row(\n",
    "    KeyboardButton('Spring'),\n",
    "    KeyboardButton('Summer')\n",
    ")\n",
    "keyboard.row(\n",
    "    KeyboardButton('Autumn'),\n",
    "    KeyboardButton('Winter')\n",
    ")"
   ]
  },
  {
   "cell_type": "markdown",
   "id": "f4fbe70a",
   "metadata": {},
   "source": [
    "И чтобы показать его"
   ]
  },
  {
   "cell_type": "code",
   "execution_count": null,
   "id": "d6271f92",
   "metadata": {},
   "outputs": [],
   "source": [
    "bot.send_message(chat_id, \"What's your favorite time of year?\", reply_markup=keyboard)"
   ]
  },
  {
   "cell_type": "markdown",
   "id": "5dee66a6",
   "metadata": {},
   "source": [
    "Клавиатура остается на экране после отправки сообщения. Это раздражает. Чтобы убрать ее, нужно создать новый объект клавиатуры:"
   ]
  },
  {
   "cell_type": "code",
   "execution_count": null,
   "id": "6b7ae585",
   "metadata": {},
   "outputs": [],
   "source": [
    "@bot.message_handler(regexp='Spring|Summer|Autumn|Winter')\n",
    "def year_answer_handler(message):\n",
    "    keyboard = ReplyKeyboardRemove()\n",
    "    bot.send_message(\n",
    "        message.chat.id, 'Thank you for your answer!', reply_markup=keyboard\n",
    "    )"
   ]
  },
  {
   "cell_type": "markdown",
   "id": "175a2a7e",
   "metadata": {},
   "source": [
    "## Домашнее задание\n",
    "Реализуйте бота, который будет:\n",
    "- Обрабатывать команду `/help`. В ответ на эту команду он будет выводить фамилию автора бота.\n",
    "- Обрабатывать любое числовое сообщение. В ответ бот преобразует число в его словесное представление. Например, 123 -> One hundred twenty-three. Для любого нечислового сообщения ответом будет «Invalid number»."
   ]
  }
 ],
 "metadata": {
  "kernelspec": {
   "display_name": "Python 3 (ipykernel)",
   "language": "python",
   "name": "python3"
  },
  "language_info": {
   "codemirror_mode": {
    "name": "ipython",
    "version": 3
   },
   "file_extension": ".py",
   "mimetype": "text/x-python",
   "name": "python",
   "nbconvert_exporter": "python",
   "pygments_lexer": "ipython3",
   "version": "3.11.7"
  },
  "nbTranslate": {
   "displayLangs": [
    "*"
   ],
   "hotkey": "alt-t",
   "langInMainMenu": true,
   "sourceLang": "en",
   "targetLang": "fr",
   "useGoogleTranslate": true
  }
 },
 "nbformat": 4,
 "nbformat_minor": 5
}
