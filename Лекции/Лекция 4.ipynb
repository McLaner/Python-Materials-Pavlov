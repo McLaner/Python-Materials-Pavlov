{
 "cells": [
  {
   "cell_type": "markdown",
   "id": "a66453da",
   "metadata": {},
   "source": [
    "# ООП"
   ]
  },
  {
   "cell_type": "markdown",
   "id": "a7c4c454",
   "metadata": {
    "lang": "ru"
   },
   "source": [
    "**Объектно-ориентированное программирование (ООП)** — это способ написания кода, при котором мы воспринимаем объекты нашей программы как объекты реального мира.\n",
    "\n",
    "Каждый объект имеет свои характеристики (например, цвет, размер) и может выполнять определенные действия (например, двигаться, издавать звуки). В ООП мы пытаемся создавать программные объекты, которые ведут себя аналогично объектам реального мира.\n",
    "\n",
    "Например, если мы пишем программу о зоопарке, у нас могут быть такие объекты, как «животное», «птица» и т. д. Каждое животное может иметь свой цвет, размер и способности, такие как бег или прыжки.\n",
    "\n",
    "ООП помогает нам организовать наш код так, чтобы он был чистым, структурированным и простым для понимания. Мы можем создавать шаблоны (классы), описывающие, как создавать наши объекты, и использовать эти шаблоны для создания множества объектов с разными характеристиками и способностями."
   ]
  },
  {
   "cell_type": "markdown",
   "id": "37bd9913",
   "metadata": {
    "lang": "en"
   },
   "source": [
    "**Object-Oriented Programming (OOP)** is a way of writing code where we think of our program objects as real-world objects.\n",
    "\n",
    "Every object has its own characteristics (e.g. color, size) and can do certain things (e.g. move, make sounds). In OOP, we try to create program objects that behave similarly to real-world objects.\n",
    "\n",
    "For example, if we are writing a program about a zoo, we might have objects like \"animal\", \"bird\", etc. Each animal can have its own color, size, and abilities such as running or jumping.\n",
    "\n",
    "OOP helps us organize our code to be clean, structured, and easy to understand. We can create templates (classes) that describe how to create our objects, and use those templates to create many objects with different characteristics and abilities."
   ]
  },
  {
   "cell_type": "markdown",
   "id": "81f2ce22",
   "metadata": {
    "lang": "en"
   },
   "source": [
    "## КЛАССЫ\n",
    "\n",
    "Класс - это тип абстрактных данных в ООП.\n",
    "\n",
    "Он состоит из:\n",
    "\n",
    "- Свойства: переменные, принадлежащие классу или объекту этого класса.\n",
    "- Методы: функции, принадлежащие классу или объекту этого класса.\n",
    "\n",
    "Синтаксис:\n",
    "\n",
    "```python\n",
    "класс <имя_класса>:\n",
    "\n",
    "    <class_element_1>\n",
    "\n",
    "    <класс_элемент_2>\n",
    "\n",
    "    ...\n",
    "\n",
    "    <class_element_N>\n",
    "```\n",
    "\n",
    "#### SELF\n",
    "\n",
    "`self` - указатель на «самого себя».\n",
    "\n",
    "- Присутствует во всех объектах.\n",
    "- При объявлении методов класса указывается первым (во всех методах, кроме статических).\n",
    "- Через него осуществляется доступ ко всем свойствам класса.\n",
    "\n",
    "#### КОНСТРУКТОР КЛАССА\n",
    "\n",
    "- Метод с именем `__init__`.\n",
    "- Выполняется при создании объекта.\n",
    "- Первым параметром всегда является `self`.\n",
    "- Последующие параметры используются для создания объекта.\n",
    "\n",
    "Пример"
   ]
  },
  {
   "cell_type": "code",
   "execution_count": null,
   "id": "726711da",
   "metadata": {},
   "outputs": [],
   "source": [
    "class Human:\n",
    "\n",
    "    def __init__(self, name, age, iq):\n",
    "        self.name = name\n",
    "        self.age = age\n",
    "        if self.age < 0:\n",
    "            print('Упс, обнаружен некромант =)')\n",
    "        self.iq = iq"
   ]
  },
  {
   "cell_type": "markdown",
   "id": "0ddae129",
   "metadata": {
    "lang": "en"
   },
   "source": [
    "#### СТАТИЧЕСКИЕ СВОЙСТВА КЛАССА\n",
    "\n",
    "- Одно и то же значение для всех объектов класса.\n",
    "- Доступ к нему осуществляется не через `self`, а через имя класса (например, `Human.legs = 4`).\n",
    "- Если значение изменяется в одном объекте, оно изменяется во всех существующих объектах.\n",
    "- `self.legs = 5` создает независимую копию переменной `legs`; ее изменение не повлияет на другие объекты."
   ]
  },
  {
   "cell_type": "code",
   "execution_count": null,
   "id": "b0496a59",
   "metadata": {},
   "outputs": [],
   "source": [
    "class Human:\n",
    "    legs = 2    # Статическое свойство\n",
    "    head = 1    # Статическое свойство\n",
    "\n",
    "    def __init__(self, name):\n",
    "        self.name = name"
   ]
  },
  {
   "cell_type": "markdown",
   "id": "7f71b4f7",
   "metadata": {
    "lang": "ru"
   },
   "source": [
    "#### КЛАССЫ – ПРИМЕР"
   ]
  },
  {
   "cell_type": "code",
   "execution_count": null,
   "id": "3ee5ac62",
   "metadata": {},
   "outputs": [],
   "source": [
    "class Point:\n",
    "    amount = 0 # статическое поле\n",
    "\n",
    "    def __init__(self, *args):  # конструктор\n",
    "        if len(args) == 2:\n",
    "            self.x = args[0]\n",
    "            self.y = args[1]\n",
    "        else:\n",
    "            self.x = self.y = 0\n",
    "        Point.amount += 1\n",
    "\n",
    "    def __del__(self):  # деструктор\n",
    "        Point.amount -= 1\n",
    "\n",
    "    def distance(self):\n",
    "        return (self.x ** 2 + self.y ** 2) ** 0.5\n",
    "\n",
    "    def __str__(self):  # оператор преобразования строк\n",
    "        return '({}; {})'.format(self.x, self.y)\n",
    "\n",
    "p = Point(36, 42)\n",
    "print(p)"
   ]
  },
  {
   "cell_type": "markdown",
   "id": "72928477",
   "metadata": {
    "lang": "en"
   },
   "source": [
    "### ЗАДАНИЕ\n",
    "\n",
    "Разработать занятие «Круг». Свойства:\n",
    "\n",
    "- центральная точка\n",
    "- радиус\n",
    "\n",
    "Методы:\n",
    "\n",
    "- окружность\n",
    "- площадь круга\n",
    "- перемещение центра\n",
    "- расстояние от начала координат"
   ]
  },
  {
   "cell_type": "code",
   "execution_count": null,
   "id": "0ed5f1aa",
   "metadata": {},
   "outputs": [],
   "source": []
  },
  {
   "cell_type": "code",
   "execution_count": null,
   "id": "788b8e65",
   "metadata": {},
   "outputs": [],
   "source": []
  },
  {
   "cell_type": "markdown",
   "id": "272b96e3",
   "metadata": {},
   "source": [
    "### РЕШЕНИЕ (вы действительно пытались решить, не так ли?:) )"
   ]
  },
  {
   "cell_type": "code",
   "execution_count": null,
   "id": "9e5302ea",
   "metadata": {},
   "outputs": [],
   "source": [
    "from math import sqrt, pi\n",
    "\n",
    "class Circle:\n",
    "\n",
    "    def __init__(self, x, y, radius):\n",
    "        self.center = Point(x, y)\n",
    "        self.radius = radius\n",
    "\n",
    "    def length(self):\n",
    "        return 2 * pi * self.radius\n",
    "\n",
    "    def square(self):\n",
    "        return pi * self.radius ** 2\n",
    "\n",
    "    def distance(self):\n",
    "        return sqrt(self.center.x ** 2 + self.center.y ** 2)\n",
    "\n",
    "    def move(self, x, y):\n",
    "        self.center.x = x\n",
    "        self.center.y = y\n",
    "\n",
    "    def __str__(self):\n",
    "        return \"Circle: center: {}; radius: {}\".format(self.center, self.radius)"
   ]
  },
  {
   "cell_type": "markdown",
   "id": "2e56b97d",
   "metadata": {},
   "source": [
    "### Специальные методы\n",
    "\n",
    "- `__new__` - используется для создания новых экземпляров класса, вызывается перед методом `__init__`. Он полезен, например, если вам нужно настроить объект до его инициализации или изменить способ создания объекта на основе определенных условий.\n",
    "\n",
    "- `__init__` - Конструктор класса.\n",
    "\n",
    "- `__del__` - Деструктор класса (вызывается при удалении объекта и очищает всю использованную память).\n",
    "\n",
    "- `__str__` - Строковое представление объекта.\n",
    "\n",
    "- `__repr__` - Официальное строковое представление объекта."
   ]
  },
  {
   "cell_type": "code",
   "execution_count": null,
   "id": "609228f6",
   "metadata": {},
   "outputs": [],
   "source": [
    "class Point:\n",
    "    def __new__(cls, *args, **kwargs):\n",
    "        print(\"Creating a new Point instance\")\n",
    "        return super(Point, cls).__new__(cls)\n",
    "\n",
    "    def __init__(self, x, y):\n",
    "        self.x = x\n",
    "        self.y = y\n",
    "\n",
    "    def __str__(self):\n",
    "        return f'Point at ({self.x}, {self.y})'\n",
    "\n",
    "    def __repr__(self):\n",
    "        return f'Point({self.x}, {self.y})'\n",
    "\n",
    "    def __del__(self):\n",
    "        print(f'Point at ({self.x}, {self.y}) is being deleted')\n",
    "\n",
    "p = Point(1, 2)\n",
    "print(p)            \n",
    "print(repr(p))      \n",
    "del p               # Деструктор\n"
   ]
  },
  {
   "cell_type": "markdown",
   "id": "0b74b51f",
   "metadata": {},
   "source": [
    "#### ИСКЛЮЧЕНИЯ\n",
    "\n",
    "Исключение - это ошибка в программе, которая делает дальнейшее выполнение алгоритма невозможным или бессмысленным.\n",
    "\n",
    "При возникновении такой ошибки все функции, выполняющиеся в этот момент, прерываются.\n",
    "\n",
    "Обработка исключений - это языковой механизм, предназначенный для описания реакции программы на исключения («что делать, чтобы остаться на плаву»).\n",
    "\n",
    "#### SYNTAX\n",
    "\n",
    "Возбуждение исключения:\n",
    "\n",
    "```python\n",
    "raise exception_type;\n",
    "```\n",
    "\n",
    "```python\n",
    "try:\n",
    "    # Код, который может содержать ошибку\n",
    "except exception_type_1:\n",
    "    # Код обработчика исключений\n",
    "except exception_type_2:\n",
    "    # Код обработчика исключений\n",
    "else:\n",
    "    # Если все прошло хорошо\n",
    "finally:\n",
    "    # Код, который выполняется всегда\n",
    "```\n",
    "\n",
    "#### ВНИМАНИЕ\n",
    "\n",
    "Если исключение сгенерировано, но не поймано, программа резко завершится."
   ]
  },
  {
   "cell_type": "code",
   "execution_count": null,
   "id": "15e9a7d7",
   "metadata": {},
   "outputs": [],
   "source": [
    "a = int(input())    # Введите 5\n",
    "b = int(input())    # Введите 0\n",
    "c = a / b"
   ]
  },
  {
   "cell_type": "markdown",
   "id": "eab6ca72",
   "metadata": {
    "lang": "ru"
   },
   "source": [
    "#### РЕШЕНИЕ\n",
    "\n",
    "- Предусмотреть возможность возникновения ошибочной ситуации.\n",
    "- Разработайте «План Б»."
   ]
  },
  {
   "cell_type": "code",
   "execution_count": null,
   "id": "5c6a2c69",
   "metadata": {},
   "outputs": [],
   "source": [
    "a = int(input())\n",
    "b = int(input())\n",
    "\n",
    "try:\n",
    "    c = a / b\n",
    "except ZeroDivisionError:\n",
    "    print('Это действительно плохая идея')\n",
    "    c = 42"
   ]
  },
  {
   "cell_type": "markdown",
   "id": "e2b52794",
   "metadata": {
    "lang": "ru"
   },
   "source": [
    "#### ТИПЫ ИСКЛЮЧЕНИЙ\n",
    "\n",
    "- `ZeroDivisionError`: деление на ноль.\n",
    "- `KeyboardInterrupt`: попытка прервать программу (при нажатии Ctrl+C)\n",
    "- `AttributeError`: у объекта нет этого атрибута (значения или метода).\n",
    "- `NotImplementedError`: был вызван метод, код которого не написан (заглушка)\n",
    "- `TypeError`: операция применяется к объекту неподходящего типа.\n",
    "- `ValueError`: функция получает аргумент правильного типа, но неверного значения."
   ]
  },
  {
   "cell_type": "markdown",
   "id": "60df16d5",
   "metadata": {
    "lang": "ru"
   },
   "source": [
    "## Статические методы"
   ]
  },
  {
   "cell_type": "markdown",
   "id": "8fbbcaeb",
   "metadata": {
    "lang": "en"
   },
   "source": [
    "**Статические методы** в Python - это методы класса, которые не требуют доступа к объекту экземпляра (`self`) или самому классу. Их можно вызывать непосредственно из класса без создания экземпляра, и они выполняются в контексте класса, а не конкретного экземпляра объекта. Статические методы полезны, когда нет необходимости в связи с объектом.\n",
    "\n",
    "Чтобы объявить статический метод, мы используем декоратор `@staticmethod` перед определением функции."
   ]
  },
  {
   "cell_type": "code",
   "execution_count": null,
   "id": "33f07df9",
   "metadata": {},
   "outputs": [],
   "source": [
    "class Calculator:\n",
    "    @staticmethod\n",
    "    def add(x, y):\n",
    "        return x + y\n",
    "\n",
    "    @staticmethod\n",
    "    def multiply(x, y):\n",
    "        return x * y\n",
    "\n",
    "result = Calculator.add(3, 4)  # 7\n",
    "result = Calculator.multiply(5, 6)  # 30"
   ]
  },
  {
   "cell_type": "markdown",
   "id": "33f8e523",
   "metadata": {},
   "source": [
    "В Python также есть декоратор `@classmethod`. Он используется для работы с атрибутами класса или выполнения операций, связанных с классом в целом, а не с конкретными экземплярами. Вместо `self` в качестве первого аргумента передается сам класс (`cls`)."
   ]
  },
  {
   "cell_type": "code",
   "execution_count": null,
   "id": "40ac4b5c",
   "metadata": {},
   "outputs": [],
   "source": [
    "class Student:\n",
    "    school_name = \"ABC School\"\n",
    "\n",
    "    def __init__(self, name, grade):\n",
    "        self.name = name\n",
    "        self.grade = grade\n",
    "\n",
    "    @classmethod\n",
    "    def change_school_name(cls, new_name):\n",
    "        cls.school_name = new_name\n",
    "\n",
    "    @classmethod\n",
    "    def from_info(cls, info_string):\n",
    "        name, grade = info_string.split(\"-\")\n",
    "        return cls(name, int(grade))\n",
    "\n",
    "student1 = Student(\"Alice\", 10)\n",
    "print(student1.school_name)  \n",
    "\n",
    "Student.change_school_name(\"BAKA School\")\n",
    "print(student1.school_name)  \n",
    "\n",
    "student2 = Student.from_info(\"Bob-12\")\n",
    "print(student2.name, student2.grade) "
   ]
  },
  {
   "cell_type": "markdown",
   "id": "319bc65e",
   "metadata": {},
   "source": [
    "## Геттеры, Сеттеры"
   ]
  },
  {
   "cell_type": "markdown",
   "id": "48bf5cbf",
   "metadata": {},
   "source": [
    "**Getters** и **Setters** в Python - это методы, используемые для получения (чтения) и установки (записи) значений атрибутов объектов соответственно. Они используются для контроля доступа к атрибутам и позволяют выполнять дополнительные действия при обращении к атрибутам.\n",
    "\n",
    "1. **Геттер**: Это метод, используемый для получения значения атрибута объекта. Обычно он предназначен для чтения значений атрибутов и возвращает текущее значение атрибута.\n",
    "\n",
    "2. **Setter**: Это метод, используемый для установки нового значения атрибута объекта. Обычно он предназначен для записи значений атрибутов и устанавливает новое значение для атрибута.\n",
    "\n",
    "3. **Property** позволяет создавать атрибуты объектов с автоматическим вызовом методов при обращении к ним, присвоении или удалении. Это позволяет создавать атрибуты, которые выглядят как обычные атрибуты, но на самом деле вызывают определенные методы при использовании.\n",
    "\n",
    "Свойства используются для контроля доступа к атрибутам объектов, проверки значений перед их установкой, вычисления значений «на лету» и выполнения других связанных с этим задач.\n",
    "\n",
    "Вот несколько примеров кода:\n",
    "\n",
    "1. **Использование геттеров и сеттеров**:"
   ]
  },
  {
   "cell_type": "code",
   "execution_count": null,
   "id": "7e873981",
   "metadata": {},
   "outputs": [],
   "source": [
    "class Person:\n",
    "    def __init__(self, name):\n",
    "        self._name = name  # Защищенный атрибут\n",
    "\n",
    "    def get_name(self):\n",
    "        return self._name\n",
    "\n",
    "    def set_name(self, new_name):\n",
    "        if new_name.isalpha():\n",
    "            self._name = new_name\n",
    "        else:\n",
    "            print(\"Имя должно содержать только алфавитные символы.\")\n",
    "\n",
    "person = Person(\"Alice\")\n",
    "print(person.get_name())  \n",
    "\n",
    "person.set_name(\"Bob\")\n",
    "print(person.get_name())  \n",
    "\n",
    "person.set_name(\"123\")  "
   ]
  },
  {
   "cell_type": "markdown",
   "id": "0e12ada9",
   "metadata": {
    "lang": "ru"
   },
   "source": [
    "2. **Использование свойств**:"
   ]
  },
  {
   "cell_type": "code",
   "execution_count": null,
   "id": "f20a0a6f",
   "metadata": {},
   "outputs": [],
   "source": [
    "class Rectangle:\n",
    "    def __init__(self, width, height):\n",
    "        self._width = width\n",
    "        self._height = height\n",
    "\n",
    "    @property\n",
    "    def area(self):\n",
    "        return self._width * self._height\n",
    "\n",
    "    @area.setter\n",
    "    def area(self, new_area):\n",
    "        if new_area <= 0:\n",
    "            print(\"Площадь должна быть положительной.\")\n",
    "        else:\n",
    "            self._width = new_area / self._height\n",
    "\n",
    "rect = Rectangle(4, 5)\n",
    "print(rect.area) \n",
    "\n",
    "rect.area = 30\n",
    "print(rect.area)  \n",
    "\n",
    "rect.area = -10  "
   ]
  },
  {
   "cell_type": "markdown",
   "id": "66d4fae6",
   "metadata": {
    "lang": "ru"
   },
   "source": [
    "Теперь перейдем к наследованию"
   ]
  },
  {
   "cell_type": "markdown",
   "id": "196409a9",
   "metadata": {},
   "source": [
    "#### НАСЛЕДОВАНИЕ\n",
    "\n",
    "Наследование - это фундаментальная концепция объектно-ориентированного программирования (ООП), которая позволяет новому классу основываться на существующем, наследуя его атрибуты и методы. Это способствует повторному использованию кода и облегчает создание иерархических отношений между классами.\n",
    "\n",
    "- **Базовый класс**: Класс, который служит прототипом для создаваемых классов (также известен как родительский класс).\n",
    "- **Производный класс**: Класс, созданный на основе базового класса.\n",
    "\n",
    "Синтаксис:\n",
    "\n",
    "```python\n",
    "class NewClassName(BaseClassName):\n",
    "    описание нового класса\n",
    "```\n",
    "\n",
    "#### ПРИМЕР"
   ]
  },
  {
   "cell_type": "code",
   "execution_count": null,
   "id": "1d3a64d4",
   "metadata": {},
   "outputs": [],
   "source": [
    "class SpaceShip:\n",
    "    def __init__(self):\n",
    "        self.hp = 100\n",
    "        self.speed = 13000\n",
    "        self.crew = 64\n",
    "        self.power_reserve = 56000\n",
    "\n",
    "    def __str__(self):\n",
    "        return \"SpaceShip: {}; {}; {}; {}\".format(\n",
    "            self.hp, self.speed, self.crew, self.power_reserve\n",
    "        )\n",
    "\n",
    "    def draw(self):\n",
    "        print('+-|--------|-+')\n",
    "        print('+     ПП     +')\n",
    "        print('+     ПП     +')\n",
    "        print('+--П------П--+')"
   ]
  },
  {
   "cell_type": "code",
   "execution_count": null,
   "id": "a0fcbae4",
   "metadata": {},
   "outputs": [],
   "source": [
    "class StarDestroyer(SpaceShip):\n",
    "    def __init__(self):\n",
    "        super().__init__()            # Вызов конструктора базового класса\n",
    "        self.shields = 100\n",
    "        self.shields_enabled = False\n",
    "        self.weapons = [100]*15\n",
    "\n",
    "    def __str__(self):\n",
    "        return \"StarDestroyer: {}; {}\".format(self.shields, self.weapons)\n",
    "\n",
    "    def shields_on(self):\n",
    "        self.shields_enabled = True\n",
    "\n",
    "    def shields_off(self):\n",
    "        self.shields_enabled = False\n",
    "\n",
    "    def hit(self):\n",
    "        if self.shields_enabled:\n",
    "            self.shields -= 10\n",
    "        else:\n",
    "            self.hp -= 10\n",
    "\n",
    "    def draw(self):\n",
    "        print(\"       /\\\\ \")\n",
    "        print(\"      /  \\\\ \")\n",
    "        print(\"     /    \\\\ \")\n",
    "        print(\"    / |  | \\\\ \")\n",
    "        print(\"   /        \\\\ \")\n",
    "        print(\"  /   /..\\\\ \\\\ \")\n",
    "        print(\" /   +----+   \\\\ \")\n",
    "        print(\"+---+-+--+-+---+\")\n",
    "        print(\"    |_|  |_|    \""
   ]
  },
  {
   "cell_type": "markdown",
   "id": "480c3f53",
   "metadata": {
    "lang": "ru"
   },
   "source": [
    "**Множественное наследование** возникает, когда класс наследуется от нескольких базовых классов. В этом сценарии производный класс наследует атрибуты и методы всех своих родительских классов, подобно тому, как дочерний класс наследует черты обоих родителей в реальной жизни."
   ]
  },
  {
   "cell_type": "code",
   "execution_count": 1,
   "id": "438e30f0",
   "metadata": {},
   "outputs": [
    {
     "name": "stdout",
     "output_type": "stream",
     "text": [
      "Beethoven speaks\n",
      "Beethoven is walking\n",
      "Beethoven barks\n"
     ]
    }
   ],
   "source": [
    "class Animal:\n",
    "    def __init__(self, name):\n",
    "        self.name = name\n",
    "\n",
    "    def speak(self):\n",
    "        print(f\"{self.name} speaks\")\n",
    "\n",
    "\n",
    "class Walkable:\n",
    "    def walk(self):\n",
    "        print(f\"{self.name} is walking\")\n",
    "\n",
    "\n",
    "class Dog(Animal, Walkable):\n",
    "    def bark(self):\n",
    "        print(f\"{self.name} barks\")\n",
    "\n",
    "\n",
    "my_dog = Dog(\"Beethoven\")\n",
    "my_dog.speak()  \n",
    "my_dog.walk()   \n",
    "my_dog.bark()   "
   ]
  },
  {
   "cell_type": "markdown",
   "id": "39c94341",
   "metadata": {
    "lang": "ru"
   },
   "source": [
    "## Полиморфизм"
   ]
  },
  {
   "cell_type": "markdown",
   "id": "22628251",
   "metadata": {},
   "source": [
    "Полиморфизм - это концепция, позволяющая объектам разных классов иметь один и тот же интерфейс (атрибуты, методы), но реализовывать его по-разному. Это означает, что один и тот же метод или функция могут иметь разные реализации в разных классах. В контексте полиморфизма методы с одинаковыми именами и аргументами могут вести себя по-разному в разных классах, что позволяет сделать код более гибким и модульным. Полиморфизм часто достигается за счет наследования классов и переопределения методов в производных классах. Это позволяет создать общий интерфейс для разных классов и обеспечить различное поведение в зависимости от типа объекта."
   ]
  },
  {
   "cell_type": "code",
   "execution_count": null,
   "id": "dafa5efe",
   "metadata": {},
   "outputs": [],
   "source": [
    "class Animal:\n",
    "    def __init__(self, name):\n",
    "        self.name = name\n",
    "\n",
    "    def speak(self):\n",
    "        print(\"The animal speaks\")\n",
    "\n",
    "\n",
    "class Dog(Animal):\n",
    "    def speak(self):\n",
    "        print(\"The dog barks\")\n",
    "\n",
    "\n",
    "class Cat(Animal):\n",
    "    def speak(self):\n",
    "        print(\"The cat meows\")\n",
    "\n",
    "\n",
    "# Создаём экземпляры разных животных\n",
    "animal = Animal(\"Generic Animal\")\n",
    "dog = Dog(\"Buddy\")\n",
    "cat = Cat(\"Whiskers\")\n",
    "\n",
    "# Вызов метода speak() в каждом экземпляре\n",
    "animal.speak()  \n",
    "dog.speak()     \n",
    "cat.speak()     "
   ]
  }
 ],
 "metadata": {
  "kernelspec": {
   "display_name": "Python 3 (ipykernel)",
   "language": "python",
   "name": "python3"
  },
  "language_info": {
   "codemirror_mode": {
    "name": "ipython",
    "version": 3
   },
   "file_extension": ".py",
   "mimetype": "text/x-python",
   "name": "python",
   "nbconvert_exporter": "python",
   "pygments_lexer": "ipython3",
   "version": "3.11.7"
  },
  "nbTranslate": {
   "displayLangs": [
    "ru"
   ],
   "hotkey": "alt-t",
   "langInMainMenu": true,
   "sourceLang": "en",
   "targetLang": "ru",
   "useGoogleTranslate": true
  }
 },
 "nbformat": 4,
 "nbformat_minor": 5
}
