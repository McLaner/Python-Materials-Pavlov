{
 "cells": [
  {
   "cell_type": "markdown",
   "id": "2b043e3e",
   "metadata": {},
   "source": [
    "# Работа с файлами в Python\n",
    "\n",
    "В прошлом уроке мы обсуждали ввод и вывод, но только ручной, в этой лекции мы подробно рассмотрим ввод и вывод файлов.\n",
    "\n",
    "## 1. Зачем работать с файлами?\n",
    "Действительно, зачем? И до этого нормально жили! Но это действительно нужно! И вот почему: \n",
    "Посмотрите на программы, которые вы используете. Посмотрели? Внимательно? Сколько из них вообще не работают с файлами? Ноль. Игры берут текстуры или сохраняют информацию из файлов, текстовые редакторы берут текст, графические редакторы берут данные об изображениях. Почти все серьезные программы так или иначе читают/записывают информацию в файлы.\n",
    "## 2. Как работать с файлами?\n",
    "Хорошая новость заключается в том, что работа с файлами на базовом уровне совсем не сложна! Она практически ничем не будет отличаться от чтения и вывода данных в консоль.\n",
    "Алгоритм прост. Давайте разберемся в нем.\n",
    "\n",
    "Для работы с файлами в Python предусмотрена встроенная функция open(). Эта функция используется для открытия файла и создания объекта file, который затем может быть использован для выполнения различных операций, таких как чтение, запись или изменение файла.\n",
    "### Открытие файла\n",
    "Чтобы открыть файл, необходимо воспользоваться функцией open() и указать путь к файлу и режим, в котором вы хотите открыть файл. Путь к файлу может быть как абсолютным (полный путь от корневого каталога), так и относительным (путь относительно текущего рабочего каталога).\n",
    "\n",
    "Переведено с помощью DeepL.com (бесплатная версия)"
   ]
  },
  {
   "cell_type": "code",
   "execution_count": 3,
   "id": "188727ab",
   "metadata": {},
   "outputs": [],
   "source": [
    "file = open('file.txt', 'r')"
   ]
  },
  {
   "cell_type": "markdown",
   "id": "0510117d",
   "metadata": {},
   "source": [
    "В приведенном выше примере 'r' - это режим, который означает режим чтения. Другие распространенные режимы включают:\n",
    "\n",
    "* 'w': Режим записи (перезаписывает файл, если он существует, и создает новый файл, если его нет)\n",
    "* 'a': Режим добавления (открывает файл для добавления, создает новый файл, если он не существует)\n",
    "* 'x': Режим создания исключений (создает новый файл, но выдает ошибку, если файл уже существует)\n",
    "* 'b': Бинарный режим (используется для нетекстовых файлов, таких как изображения, видео и т. д.)\n",
    "\n",
    "### Чтение из файла\n",
    "Существует несколько способов чтения данных из файла: read - чтение всего содержимого, readline - чтение одной строки и readlines - чтение всех строк в список.\n",
    "\n",
    "Переведено с помощью DeepL.com (бесплатная версия)"
   ]
  },
  {
   "cell_type": "code",
   "execution_count": null,
   "id": "07f3cf1d",
   "metadata": {},
   "outputs": [],
   "source": [
    "# Чтение всего файл\n",
    "contents = file.read()\n",
    "\n",
    "# Чтение одной строку\n",
    "line = file.readline()\n",
    "\n",
    "# Чтение нескольких строк\n",
    "lines = file.readlines()"
   ]
  },
  {
   "cell_type": "markdown",
   "id": "e8d90bae",
   "metadata": {},
   "source": [
    "### Запись в файл\n",
    "Для записи в файл необходимо открыть его в режиме записи ('w') или добавления ('a'):"
   ]
  },
  {
   "cell_type": "code",
   "execution_count": 9,
   "id": "58c16cc8",
   "metadata": {},
   "outputs": [],
   "source": [
    "file = open('example.txt', 'w')  # Открытие файла для записи\n",
    "\n",
    "text= '''\n",
    "Beautiful is better than ugly.\n",
    "Explicit is better than implicit.\n",
    "Simple is better than complex.\n",
    "Complex is better than complicated.\n",
    "Flat is better than nested.\n",
    "Sparse is better than dense.\n",
    "Readability counts.\n",
    "Special cases aren't special enough to break the rules.\n",
    "Although practicality beats purity.\n",
    "Errors should never pass silently.\n",
    "Unless explicitly silenced.\n",
    "In the face of ambiguity, refuse the temptation to guess.\n",
    "There should be one-- and preferably only one --obvious way to do it.\n",
    "Although that way may not be obvious at first unless you're Dutch.\n",
    "Now is better than never.\n",
    "Although never is often better than *right* now.\n",
    "If the implementation is hard to explain, it's a bad idea.\n",
    "If the implementation is easy to explain, it may be a good idea.\n",
    "Namespaces are one honking great idea — let's do more of those!\n",
    "'''\n",
    "file.write(text)  # Запись строки в файл\n",
    "file.close()"
   ]
  },
  {
   "cell_type": "markdown",
   "id": "bfb45192",
   "metadata": {},
   "source": [
    "### Закрытие файла\n",
    "Важно закрыть файл после завершения работы с ним, чтобы освободить системные ресурсы и убедиться, что все буферизованные данные записаны в файл:"
   ]
  },
  {
   "cell_type": "code",
   "execution_count": null,
   "id": "d3c02f8c",
   "metadata": {},
   "outputs": [],
   "source": [
    "file.close()"
   ]
  },
  {
   "cell_type": "markdown",
   "id": "b3239b1f",
   "metadata": {},
   "source": [
    "**Теперь мы также знаем, как записывать с помощью команды print**."
   ]
  },
  {
   "cell_type": "code",
   "execution_count": 6,
   "id": "e8443df1",
   "metadata": {},
   "outputs": [
    {
     "name": "stdout",
     "output_type": "stream",
     "text": [
      "Do it\r\n"
     ]
    }
   ],
   "source": [
    "print(\"Do it\", file=open(\"new_file.txt\", \"w\"))\n",
    "!cat new_file.txt #cat utility check if there's anything there"
   ]
  },
  {
   "cell_type": "markdown",
   "id": "5deb9464",
   "metadata": {},
   "source": [
    "Но давайте считаем его еще раз"
   ]
  },
  {
   "cell_type": "code",
   "execution_count": 7,
   "id": "fc13c006",
   "metadata": {},
   "outputs": [
    {
     "data": {
      "text/plain": [
       "'Do it\\n'"
      ]
     },
     "execution_count": 7,
     "metadata": {},
     "output_type": "execute_result"
    }
   ],
   "source": [
    "f_new = open(\"new_file.txt\", 'r')\n",
    "f_new.read()"
   ]
  },
  {
   "cell_type": "markdown",
   "id": "5fbbeae6",
   "metadata": {},
   "source": [
    "И еще"
   ]
  },
  {
   "cell_type": "code",
   "execution_count": 8,
   "id": "2d0df796",
   "metadata": {},
   "outputs": [
    {
     "data": {
      "text/plain": [
       "''"
      ]
     },
     "execution_count": 8,
     "metadata": {},
     "output_type": "execute_result"
    }
   ],
   "source": [
    "f_new.read()"
   ]
  },
  {
   "cell_type": "markdown",
   "id": "0c11cc25",
   "metadata": {},
   "source": [
    "**_Почему там пусто?\n",
    "\n",
    "Причина в том, что чтение работает следующим образом:\n",
    "\n",
    "По сути, мы создаем курсор, который перемещается по файлу и читает его элемент за элементом, перемещая этот курсор. Любой вызов `read` читает всю эту часть и остается в конце.\n",
    "\n",
    "Поэтому, если вы вызовете `read` два раза подряд, то во второй раз вы ничего не прочитаете (курсор не может вернуться назад), что является проблемой.\n",
    "\n",
    "Давайте узнаем, как переместить курсор так, как нам нужно. Для этого необходимо:\n",
    "\n",
    "1. `read(n)` - чтение `n` символов из позиции курсора\n",
    "\n",
    "2. `tell()` - сообщает нам, на каком символе мы сейчас находимся\n",
    "\n",
    "3. `seek(offset)` - перейти на позицию `offset` относительно начала файла"
   ]
  },
  {
   "cell_type": "code",
   "execution_count": 10,
   "id": "e50d885c",
   "metadata": {},
   "outputs": [
    {
     "name": "stdout",
     "output_type": "stream",
     "text": [
      "0\n",
      "\n",
      "Beautiful\n",
      "10\n",
      "5\n",
      "5\n",
      "tiful\n",
      "10\n"
     ]
    }
   ],
   "source": [
    "with open(\"example.txt\", \"r\") as f:  # with позволяет открыть файл и использовать его только в цикле, после чего файл будет закрыт\n",
    "    print(f.tell())\n",
    "    print(f.read(10))  # считывает не весь текст, а только первые 10 символов\n",
    "    print(f.tell()) # сообщает нам, где в данный момент находится наш курсор\n",
    "    print(f.seek(5))  # берет начало файла и перемещается на 5 символов\n",
    "    print(f.tell())\n",
    "    print(f.read(5))\n",
    "    print(f.tell())"
   ]
  },
  {
   "cell_type": "markdown",
   "id": "087b2f3f",
   "metadata": {},
   "source": [
    "Как нам перемещаться не относительно начала файла, а относительно текущей позиции?"
   ]
  },
  {
   "cell_type": "code",
   "execution_count": null,
   "id": "0d5a64b7",
   "metadata": {},
   "outputs": [],
   "source": [
    "with open(\"example.txt\", \"r\") as f:\n",
    "    print(f.read(10))\n",
    "    print(f.tell())\n",
    "    print(f.seek(f.tell() - 5))  # вы можете передать tell() напрямую!\n",
    "    print(f.tell())"
   ]
  },
  {
   "cell_type": "markdown",
   "id": "33e185db",
   "metadata": {},
   "source": [
    "В чем еще мы видим проблему? В том, что символы новой строки (и другие символы, такие как табуляция и т. д.) отображаются как отдельные символы.\n",
    "\n",
    "А если попытаться читать строку за строкой?"
   ]
  },
  {
   "cell_type": "code",
   "execution_count": null,
   "id": "af833bbc",
   "metadata": {},
   "outputs": [],
   "source": [
    "with open(\"example.txt\", \"r\") as f:\n",
    "    for line in f:  # считывает строку за строкой до новой строки\n",
    "        print(line.strip())\n",
    "    print('-' * 30)"
   ]
  },
  {
   "cell_type": "markdown",
   "id": "58ac4ab0",
   "metadata": {},
   "source": [
    "Мы также можем печатать и читать из одного и того же места:\n",
    "\n",
    "**Учимся печатать и читать с одного и того же места**."
   ]
  },
  {
   "cell_type": "code",
   "execution_count": 12,
   "id": "697ffe32",
   "metadata": {},
   "outputs": [
    {
     "name": "stdout",
     "output_type": "stream",
     "text": [
      "is be\n",
      "16\n",
      "\n",
      "Beautiful Zenbetter than ugly.\n",
      "Explicit is better than implicit.\n",
      "Simple is better than complex.\n",
      "Complex is better than complicated.\n",
      "Flat is better than nested.\n",
      "Sparse is better than dense.\n",
      "Readability counts.\n",
      "Special cases aren't special enough to break the rules.\n",
      "Although practicality beats purity.\n",
      "Errors should never pass silently.\n",
      "Unless explicitly silenced.\n",
      "In the face of ambiguity, refuse the temptation to guess.\n",
      "There should be one-- and preferably only one --obvious way to do it.\n",
      "Although that way may not be obvious at first unless you're Dutch.\n",
      "Now is better than never.\n",
      "Although never is often better than *right* now.\n",
      "If the implementation is hard to explain, it's a bad idea.\n",
      "If the implementation is easy to explain, it may be a good idea.\n",
      "Namespaces are one honking great idea — let's do more of those!\n",
      "\n"
     ]
    }
   ],
   "source": [
    "fh = open('example.txt', 'r+')  # 'r+' позволяет как писать, так и читать\n",
    "fh.seek(11)\n",
    "print(fh.read(5))\n",
    "print(fh.tell())\n",
    "fh.seek(11)\n",
    "fh.write('Zen')\n",
    "fh.seek(0)\n",
    "content = fh.read()\n",
    "print(content)\n",
    "fh.close()"
   ]
  },
  {
   "cell_type": "markdown",
   "id": "77683013",
   "metadata": {},
   "source": [
    "## Контекстные менеджеры (оператор with)\n",
    "Python предоставляет удобный способ открытия и закрытия файлов с помощью оператора with, который автоматически позаботится о закрытии файла, даже если возникнет исключение:"
   ]
  },
  {
   "cell_type": "code",
   "execution_count": null,
   "id": "840a8cba",
   "metadata": {},
   "outputs": [],
   "source": [
    "with open('path/to/file.txt', 'r') as file:\n",
    "    contents = file.read()"
   ]
  },
  {
   "cell_type": "markdown",
   "id": "d9f3a368",
   "metadata": {},
   "source": [
    "## Режимы файлов\n",
    "Python поддерживает различные режимы работы с файлами, которые управляют открытием и доступом к файлу. Вот некоторые распространенные режимы файлов:\n",
    "\n",
    "- 'r': Режим чтения (режим по умолчанию)\n",
    "- 'w': Режим записи (перезаписывает файл, если он существует, создает новый файл, если его нет)\n",
    "- 'a': Режим добавления (открывает файл для добавления, создает новый файл, если он не существует)\n",
    "- 'x': Режим создания исключений (создает новый файл, но выдает ошибку, если файл уже существует)\n",
    "- 'b': Двоичный режим (используется для нетекстовых файлов, таких как изображения, видео и т. д.)\n",
    "- 't': Текстовый режим (режим по умолчанию, используется для текстовых файлов)\n",
    "- '+': Режим обновления (позволяет как читать, так и записывать).\n",
    "\n",
    "Вы можете комбинировать режимы, например 'rb' (бинарный режим чтения) или 'w+b' (бинарный режим записи и чтения).\n",
    "## Операции с файлами\n",
    "Python предоставляет несколько встроенных функций и методов для выполнения различных операций с файлами:\n",
    "### Переименование и перемещение файлов\n",
    "Чтобы переименовать или переместить файл, вы можете использовать функцию os.rename() из модуля os:"
   ]
  },
  {
   "cell_type": "code",
   "execution_count": null,
   "id": "04ee11a2",
   "metadata": {},
   "outputs": [],
   "source": [
    "import os\n",
    "\n",
    "source_path = 'path/to/source.txt'\n",
    "destination_path = 'path/to/destination.txt'\n",
    "os.rename(source_path, destination_path)"
   ]
  },
  {
   "cell_type": "markdown",
   "id": "4d0b5e7d",
   "metadata": {},
   "source": [
    "### Удаление файлов\n",
    "Чтобы удалить файл, вы можете воспользоваться функцией os.remove() из модуля os:"
   ]
  },
  {
   "cell_type": "code",
   "execution_count": null,
   "id": "f7ee7caa",
   "metadata": {},
   "outputs": [],
   "source": [
    "import os\n",
    "\n",
    "file_path = 'path/to/file.txt'\n",
    "os.remove(file_path)"
   ]
  },
  {
   "cell_type": "markdown",
   "id": "41fff517",
   "metadata": {},
   "source": [
    "### Получение информации о файлах\n",
    "Python предоставляет несколько функций для получения информации о файлах, таких как os.path.exists(), os.path.isfile(), os.path.isdir(), os.path.getsize() и os.path.getmtime()."
   ]
  },
  {
   "cell_type": "code",
   "execution_count": null,
   "id": "942ce4fe",
   "metadata": {},
   "outputs": [],
   "source": [
    "import os\n",
    "\n",
    "file_path = 'path/to/file.txt'\n",
    "\n",
    "# Проверяет, существует ли файл.\n",
    "if os.path.exists(file_path):\n",
    "    # Проверяет, является ли это обычным файлом.\n",
    "    if os.path.isfile(file_path):\n",
    "        # Получает размер файла\n",
    "        file_size = os.path.getsize(file_path)\n",
    "        print(f'File size: {file_size} bytes')\n",
    "\n",
    "        # Получает время последней модификации\n",
    "        last_modified = os.path.getmtime(file_path)\n",
    "        print(f'Last modified: {last_modified}')"
   ]
  },
  {
   "cell_type": "markdown",
   "id": "a1f61b47",
   "metadata": {},
   "source": [
    "### Пути и каталоги файлов\n",
    "Python предоставляет модуль os.path для работы с путями и каталогами файлов. Вы можете использовать такие функции, как os.path.join(), os.path.split(), os.path.dirname() и os.path.basename() для работы с путями файлов."
   ]
  },
  {
   "cell_type": "code",
   "execution_count": null,
   "id": "c9c3e612",
   "metadata": {},
   "outputs": [],
   "source": [
    "import os\n",
    "\n",
    "# Объединяет несколько компонентов пути\n",
    "path = os.path.join('path', 'to', 'file.txt') # path/to/file.txt\n",
    "\n",
    "# Разделяет путь на компоненты\n",
    "head, tail = os.path.split(path) # ('path/to', 'file.txt')\n",
    "\n",
    "# Получает имя каталога\n",
    "dirname = os.path.dirname(path) # 'path/to'\n",
    "\n",
    "# Получает основное имя\n",
    "basename = os.path.basename(path) # 'file.txt'"
   ]
  },
  {
   "cell_type": "markdown",
   "id": "95e16192",
   "metadata": {},
   "source": [
    "## Пример программы\n",
    "Рассмотрим пример программы, которая считывает два числа из файла 'input.txt', складывает их и записывает результат в файл 'output.txt'."
   ]
  },
  {
   "cell_type": "code",
   "execution_count": null,
   "id": "157d804b",
   "metadata": {},
   "outputs": [],
   "source": [
    "# Открывает файлы для чтения и записи\n",
    "with open('input.txt', 'r') as fin, open('output.txt', 'w') as fout:\n",
    "    # Считывает два числа из файла\n",
    "    a = int(fin.readline())\n",
    "    b = int(fin.readline())\n",
    "    \n",
    "    # Запишивает сумму чисел в файл\n",
    "    fout.write(str(a + b))"
   ]
  },
  {
   "cell_type": "markdown",
   "id": "f9405b68",
   "metadata": {},
   "source": [
    "## Обработка ошибок\n",
    "Для безопасной работы с файлами вы можете использовать блок 'try...except', чтобы отлавливать возможные ошибки."
   ]
  },
  {
   "cell_type": "code",
   "execution_count": null,
   "id": "a3f7fb06",
   "metadata": {},
   "outputs": [],
   "source": [
    "try:\n",
    "    with open('input.txt', 'r') as fin, open('output.txt', 'w') as fout:\n",
    "        a = int(fin.readline())\n",
    "        b = int(fin.readline())\n",
    "        fout.write(str(a + b))\n",
    "except FileNotFoundError:\n",
    "    print(\"File not found.\")\n",
    "except ValueError:\n",
    "    print(\"Error reading a number from the file.\")"
   ]
  },
  {
   "cell_type": "markdown",
   "id": "febd1c17",
   "metadata": {},
   "source": [
    "Работа с файлами в Python проста и интуитивно понятна. Важно не забывать закрывать файлы после их использования и обрабатывать возможные ошибки, чтобы ваша программа работала надежно."
   ]
  },
  {
   "cell_type": "markdown",
   "id": "a62b834c",
   "metadata": {},
   "source": [
    "Вы наверняка замечали всевозможные import math и import os и задавались вопросом, что это такое?"
   ]
  },
  {
   "cell_type": "markdown",
   "id": "2589f9b1",
   "metadata": {},
   "source": [
    "### МОДУЛИ В PYTHON\n",
    "\n",
    "Модуль - это отдельный файл, содержащий код на языке Python, который может определять переменные, функции, классы и другие объекты Python. Модули используются для организации и повторного использования кода в различных частях программы или в нескольких программах.\n",
    "Пакет - это коллекция модулей, организованных в иерархию каталогов. Пакеты позволяют лучше организовать и структурировать большие кодовые базы, группируя связанные модули вместе.\n",
    "\n",
    "#### Импорт модулей и пакетов\n",
    "\n",
    "**Вариант 1:**\n",
    "```python\n",
    "import sys\n",
    "sys.getsizeof(36)\n",
    "```\n",
    "\n",
    "**Вариант 2:**\n",
    "```python\n",
    "from sys import getsizeof\n",
    "getsizeof(36)\n",
    "```\n",
    "\n",
    "Вывод для обоих вариантов - `14`."
   ]
  },
  {
   "cell_type": "markdown",
   "id": "4e340c73",
   "metadata": {},
   "source": [
    "### СТАНДАРТНЫЕ БИБЛИОТЕКИ PYTHON\n",
    "\n",
    "- **sys** - функции и константы для взаимодействия с интерпретатором\n",
    "- **datetime** - работа с датой и временем\n",
    "- **os** - интерфейс к основным сервисам операционной системы\n",
    "- **os.path** - платформонезависимое манипулирование путями файлов\n",
    "- **string** - расширенные операции со строками\n",
    "- **re** - работа с регулярными выражениями\n",
    "- **csv** - работа с табличным форматом CSV (Comma Separated Values)\n",
    "- **gzip** - создание и работа с архивами .gzip\n",
    "- **zipfile** - создание и работа с архивами .zip\n",
    "- **ConfigParser** - работа с конфигурационными (ini) файлами\n",
    "- И многие другие (hashlib, sockets, smtplib, sqlite3 и т.д.).\n",
    "\n",
    "Дополнительная информация:\n",
    "- [Официальная документация](https://docs.python.org/3/library/index.html)\n",
    "- [Статья из Википедии](https://en.wikipedia.org/wiki/Python_Standard_Library)"
   ]
  },
  {
   "cell_type": "markdown",
   "id": "188d46c6",
   "metadata": {},
   "source": [
    "Трамплином для изучения новых тем и поворотным пунктом являются **функции**."
   ]
  },
  {
   "cell_type": "markdown",
   "id": "eedb755c",
   "metadata": {},
   "source": [
    "# ФУНКЦИИ\n",
    "Функции - это именованные блоки кода (подпрограммы), которые могут быть вызваны из другой части программы.\n",
    "Синтаксис: \n",
    "```\n",
    "def имя_функции(параметры):\n",
    "    ...\n",
    "    тело функции\n",
    "    ...\n",
    "    return возвращаемое_значение\n",
    "```\n",
    "\n",
    "**Аргументы** функции - это данные, которые вы передаете функции для выполнения операции.\n",
    "\n",
    "**Тело функции** функции - это блок кода, выполняющий определенную задачу.\n",
    "\n",
    "**Возвращаемое значение** - это то, что функция возвращает после выполнения операции.\n",
    "\n",
    "**Параметры функции** - это имена переменных, которые вы используете в определении функции для работы с переданными данными (аргументами).\n",
    "\n",
    "**Вызов функции** - это место в коде, где вы используете имя функции и передаете значения для аргументов."
   ]
  },
  {
   "cell_type": "code",
   "execution_count": null,
   "id": "0d868fc4",
   "metadata": {},
   "outputs": [],
   "source": [
    "# Приммер\n",
    "def hello(n):\n",
    "    print(\"Hello, I am a function\")\n",
    "    print(n)\n",
    "    \n",
    "# Вызов функции \n",
    "def main():\n",
    "    print(\"Now we will call the function\")\n",
    "    hello(5)"
   ]
  },
  {
   "cell_type": "markdown",
   "id": "3519cecb",
   "metadata": {},
   "source": [
    "**Возврат оператора**"
   ]
  },
  {
   "cell_type": "code",
   "execution_count": null,
   "id": "73b0276e",
   "metadata": {},
   "outputs": [],
   "source": [
    "def test():\n",
    "    print(\"Returning a value\")\n",
    "    return 667\n",
    "    \n",
    "#Вызов функции:\n",
    "a = test()"
   ]
  },
  {
   "cell_type": "markdown",
   "id": "c64dbe10",
   "metadata": {},
   "source": [
    "Как вызвать эту функцию?"
   ]
  },
  {
   "cell_type": "code",
   "execution_count": null,
   "id": "c3c815a1",
   "metadata": {},
   "outputs": [],
   "source": [
    "def multi_ret():\n",
    "    print(\"This curious function\")\n",
    "    print(\"returns three values\")\n",
    "    return 1, 'test', [796, 69, 15]\n",
    "#Таким образом\n",
    "a, b, c = multi_ret()"
   ]
  },
  {
   "cell_type": "markdown",
   "id": "99c9224a",
   "metadata": {},
   "source": [
    "**Что происходит, когда мы вызываем функцию?\n",
    "\n",
    "Аргументы `num1` и `num2` передаются в функцию и присваиваются локальным переменным `a` и `b` соответственно.\n",
    "\n",
    "`a = num1, b = num2`.\n",
    "\n",
    "Далее над этими локальными переменными выполняются преобразования.\n",
    "\n",
    "После ключевого слова `return` мы указываем, какое значение должна вернуть функция.\n",
    "\n",
    "Так, `sum_nums_sqrt = ans`.\n",
    "\n",
    "(Строки после оператора `return` не выполняются, действуя как `прерывание` для циклов)\n",
    "\n",
    "Порядок передаваемых аргументов очень важен! Давайте посмотрим на другую функцию и сравним результаты."
   ]
  },
  {
   "cell_type": "code",
   "execution_count": null,
   "id": "15d76ece",
   "metadata": {},
   "outputs": [],
   "source": [
    "def sum_sqrt(a, b):\n",
    "    return a**2 + b**2\n",
    "\n",
    "num1 = 5\n",
    "num2 = 2\n",
    "print(sum_sqrt(num1, num2))  # 5**2 + 2**2 = 25 + 4\n",
    "print(sum_sqrt(num2, num1))  # 2**2 + 5**2 = 4 + 25"
   ]
  },
  {
   "cell_type": "markdown",
   "id": "83e506a4",
   "metadata": {},
   "source": [
    "Мы также можем задать значения по умолчанию для параметров, то есть ввести меньшее количество данных, а оставшимся присвоить значения по умолчанию. Аргументы со значениями по умолчанию называются **ключевыми аргументами**, а остальные - **позиционными аргументами**."
   ]
  },
  {
   "cell_type": "code",
   "execution_count": null,
   "id": "1661a65a",
   "metadata": {},
   "outputs": [],
   "source": [
    "def salute(person, salutation=\"Howdy\"):\n",
    "    return f\"{salutation}, {person}!\"\n",
    "\n",
    "print(salute(\"Charlie\"))\n",
    "print(salute(\"Daisy\", \"Greetings\"))\n"
   ]
  },
  {
   "cell_type": "markdown",
   "id": "c1994507",
   "metadata": {},
   "source": [
    "Но внимание, мы всегда ставим в конец параметры со значением по умолчанию, иначе возникнет ошибка"
   ]
  },
  {
   "cell_type": "code",
   "execution_count": 14,
   "id": "f0c57d0d",
   "metadata": {
    "scrolled": true
   },
   "outputs": [
    {
     "ename": "SyntaxError",
     "evalue": "non-default argument follows default argument (2310667371.py, line 1)",
     "output_type": "error",
     "traceback": [
      "\u001b[0;36m  Cell \u001b[0;32mIn[14], line 1\u001b[0;36m\u001b[0m\n\u001b[0;31m    def salute(salutation=\"Howdy\", person):\u001b[0m\n\u001b[0m                                   ^\u001b[0m\n\u001b[0;31mSyntaxError\u001b[0m\u001b[0;31m:\u001b[0m non-default argument follows default argument\n"
     ]
    }
   ],
   "source": [
    "def salute(salutation=\"Howdy\", person):\n",
    "    return f\"{salutation}, {person}!\"\n",
    "\n",
    "print(salute(\"Charlie\"))\n",
    "print(salute(\"Daisy\", \"Greetings\"))"
   ]
  },
  {
   "cell_type": "markdown",
   "id": "d9846393",
   "metadata": {},
   "source": [
    "Вернемся к функциям с несколькими параметрами"
   ]
  },
  {
   "cell_type": "code",
   "execution_count": 17,
   "id": "f4b1bf30",
   "metadata": {},
   "outputs": [
    {
     "name": "stdout",
     "output_type": "stream",
     "text": [
      "64.8\n",
      "108.0\n",
      "106.0\n"
     ]
    }
   ],
   "source": [
    "# Function to calculate the total cost of items with a tax rate\n",
    "def compute_total_cost(amount, units=3, vat_rate=0.08):\n",
    "    subtotal = amount * units\n",
    "    subtotal += subtotal * vat_rate\n",
    "    return subtotal\n",
    "\n",
    "print(compute_total_cost(20))\n",
    "print(compute_total_cost(20, 5))\n",
    "print(compute_total_cost(20, 5, 0.06))"
   ]
  },
  {
   "cell_type": "markdown",
   "id": "40f9fb14",
   "metadata": {},
   "source": [
    "Но что делать, если мы хотим использовать конкретное значение параметра, а для других используем значения по умолчанию, или мы не помним порядок следования параметров? Мы можем явно указать значения параметров."
   ]
  },
  {
   "cell_type": "code",
   "execution_count": null,
   "id": "f4f73e46",
   "metadata": {},
   "outputs": [],
   "source": [
    "print(compute_total_cost(20, vat_rate=0.06))"
   ]
  },
  {
   "cell_type": "code",
   "execution_count": 18,
   "id": "50a55bb9",
   "metadata": {},
   "outputs": [
    {
     "ename": "SyntaxError",
     "evalue": "positional argument follows keyword argument (20307214.py, line 2)",
     "output_type": "error",
     "traceback": [
      "\u001b[0;36m  Cell \u001b[0;32mIn[18], line 2\u001b[0;36m\u001b[0m\n\u001b[0;31m    print(compute_total_cost(vat_rate=0.06, 20))\u001b[0m\n\u001b[0m                                              ^\u001b[0m\n\u001b[0;31mSyntaxError\u001b[0m\u001b[0;31m:\u001b[0m positional argument follows keyword argument\n"
     ]
    }
   ],
   "source": [
    "# Следующее не сработает, потому что 20 - это позиционный аргумент.\n",
    "print(compute_total_cost(vat_rate=0.06, 20))"
   ]
  },
  {
   "cell_type": "code",
   "execution_count": null,
   "id": "7911d59e",
   "metadata": {},
   "outputs": [],
   "source": [
    "# Но мы можем переписать его следующим образом, и он будет работать\n",
    "print(compute_total_cost(vat_rate=0.06, amount=20))"
   ]
  },
  {
   "cell_type": "markdown",
   "id": "ee7e98de",
   "metadata": {},
   "source": [
    "## КОГДА ПАРАМЕТРОВ МНОГО\n",
    "`*args` и `**kwargs` - это специальные параметры, которые можно использовать в Python для передачи переменного количества аргументов в функцию. Они позволяют функции принимать произвольное количество позиционных аргументов и произвольное количество аргументов в виде ключевых слов, соответственно.\n",
    "\n",
    "+ `*args`:\n",
    "- Параметр `*args` позволяет передавать в функцию произвольное количество позиционных аргументов.\n",
    "- Символ `*` перед именем параметра указывает на то, что все переданные после него аргументы будут собраны в кортеж и переданы в этот параметр. Мы как будто распаковываем кортеж.\n",
    "\n",
    "+ `**kwargs`:\n",
    "- Параметр `**kwargs` позволяет передавать в функцию произвольное количество аргументов-ключей.\n",
    "- Символ `**` перед именем параметра указывает, что все переданные аргументы ключевых слов будут собраны в словарь и переданы в этот параметр. Мы как будто распаковываем словарь, превращая его в список пар ключ-значение, а затем снова распаковываем эти пары."
   ]
  },
  {
   "cell_type": "markdown",
   "id": "0aa30643",
   "metadata": {},
   "source": [
    "Произвольное количество параметров "
   ]
  },
  {
   "cell_type": "code",
   "execution_count": null,
   "id": "bbd04b18",
   "metadata": {},
   "outputs": [],
   "source": [
    "def f1(*args):\n",
    "    for item in args:\n",
    "        print(item)\n",
    "\n",
    "f1('hello', 'world', 42, True)"
   ]
  },
  {
   "cell_type": "markdown",
   "id": "da90a9fc",
   "metadata": {},
   "source": [
    "Произвольное количество пар параметров "
   ]
  },
  {
   "cell_type": "code",
   "execution_count": 22,
   "id": "8b98f9bc",
   "metadata": {},
   "outputs": [
    {
     "name": "stdout",
     "output_type": "stream",
     "text": [
      "asdf = hello\n",
      "qwerty = 42\n"
     ]
    }
   ],
   "source": [
    "def f2(**kwargs):\n",
    "    for key, value in kwargs.items():\n",
    "        print(f\"{key} = {value}\")\n",
    "\n",
    "# Это приведет к ошибке, поскольку f2 принимает только аргументы в виде ключевых слов\n",
    "#f2(3, 'asd')\n",
    "\n",
    "f2(asdf='hello', qwerty=42)"
   ]
  },
  {
   "cell_type": "markdown",
   "id": "76686e60",
   "metadata": {},
   "source": [
    "Вы можете передавать как `*args`, так и `**kwargs`, а также обычные позиционные и именные аргументы."
   ]
  },
  {
   "cell_type": "code",
   "execution_count": 21,
   "id": "2b66076b",
   "metadata": {
    "scrolled": true
   },
   "outputs": [
    {
     "name": "stdout",
     "output_type": "stream",
     "text": [
      "hello\n",
      "world\n",
      "42\n",
      "True\n",
      "asdf = hello\n",
      "qwerty = 42\n",
      "name: Alice, age: 25\n",
      "Python\n",
      "Developer\n",
      "city = NYC\n",
      "language = English\n"
     ]
    }
   ],
   "source": [
    "def f1(*args, **kwargs):\n",
    "    for item in args:\n",
    "        print(item)\n",
    "    for key, value in kwargs.items():\n",
    "        print(f\"{key} = {value}\")\n",
    "\n",
    "f1('hello', 'world', 42, True, asdf='hello', qwerty=42)\n",
    "\n",
    "def f2(name, age=30, *args, **kwargs):\n",
    "    print(f\"name: {name}, age: {age}\")\n",
    "    for item in args:\n",
    "        print(item)\n",
    "    for key, value in kwargs.items():\n",
    "        print(f\"{key} = {value}\")\n",
    "\n",
    "f2('Alice', 25, 'Python', 'Developer', city='NYC', language='English')\n"
   ]
  },
  {
   "cell_type": "markdown",
   "id": "48e34f07",
   "metadata": {},
   "source": [
    "## Лямбда-функции"
   ]
  },
  {
   "cell_type": "markdown",
   "id": "1d909249",
   "metadata": {},
   "source": [
    "Когда функции состоят только из одной строки с `return`, очень удобно использовать лямбда-функции.\n",
    "\n",
    "Например:\n",
    "\n",
    "```python\n",
    "sum = lambda a, b, c: a + b + c\n",
    "print(sum(1, 3, 5))  # Вывод: 9\n",
    "```\n",
    "\n",
    "Эта лямбда-функция принимает три аргумента `a`, `b` и `c` и возвращает их сумму.\n",
    "\n",
    "В качестве альтернативы вы можете написать это как обычную функцию:\n",
    "\n",
    "```python\n",
    "def sum(a, b, c):\n",
    "    return a + b + c\n",
    "\n",
    "print(sum(1, 3, 5))  # Output: 9\n",
    "```\n",
    "\n",
    "Однако когда логика функции проста и может быть выражена в одной строке, синтаксис лямбда-функции более лаконичен и удобен для чтения."
   ]
  },
  {
   "cell_type": "code",
   "execution_count": null,
   "id": "548efd25",
   "metadata": {},
   "outputs": [],
   "source": [
    "# Обычная функция\n",
    "def square(x):\n",
    "    return x ** 2\n",
    "\n",
    "# Лямбда-функция\n",
    "square = lambda x: x ** 2\n",
    "\n",
    "print(square(5))  # Вывод: 25"
   ]
  },
  {
   "cell_type": "code",
   "execution_count": null,
   "id": "15c79839",
   "metadata": {},
   "outputs": [],
   "source": [
    "multiply = lambda x, y: x * y\n",
    "print(multiply(3, 4))  # Вывод: 12"
   ]
  },
  {
   "cell_type": "code",
   "execution_count": null,
   "id": "6b68ca1a",
   "metadata": {},
   "outputs": [],
   "source": [
    "# Лямбда-функция для сортировки списка кортежей по второму элементу\n",
    "students = [('John', 22), ('Emily', 19), ('Michael', 21), ('Jessica', 20)]\n",
    "sorted_students = sorted(students, key=lambda x: x[1])\n",
    "print(sorted_students)  # Вывод: [('Emily', 19), ('Jessica', 20), ('Michael', 21), ('John', 22)]"
   ]
  }
 ],
 "metadata": {
  "kernelspec": {
   "display_name": "Python 3 (ipykernel)",
   "language": "python",
   "name": "python3"
  },
  "language_info": {
   "codemirror_mode": {
    "name": "ipython",
    "version": 3
   },
   "file_extension": ".py",
   "mimetype": "text/x-python",
   "name": "python",
   "nbconvert_exporter": "python",
   "pygments_lexer": "ipython3",
   "version": "3.11.7"
  },
  "nbTranslate": {
   "displayLangs": [
    "*"
   ],
   "hotkey": "alt-t",
   "langInMainMenu": true,
   "sourceLang": "en",
   "targetLang": "fr",
   "useGoogleTranslate": true
  }
 },
 "nbformat": 4,
 "nbformat_minor": 5
}
