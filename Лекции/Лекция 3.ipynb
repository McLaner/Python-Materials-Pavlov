{
 "cells": [
  {
   "cell_type": "markdown",
   "id": "e3d58c96",
   "metadata": {},
   "source": [
    "# Парадигмы программирования "
   ]
  },
  {
   "cell_type": "markdown",
   "id": "d034da9d",
   "metadata": {},
   "source": [
    "## Что такое парадигма программирования?\n",
    "\n",
    "Парадигма программирования - это способ мышления и структурирования компьютерных программ. Это как наличие различных стратегий решения проблем. \n",
    "\n",
    "Существует две основные парадигмы программирования:\n",
    "\n",
    "1. **Императивное программирование**:\n",
    "Императивное программирование - это парадигма, в которой программа описывает вычислительный процесс в терминах утверждений, изменяющих состояние программы. Она фокусируется на определении последовательности команд или инструкций для выполнения компьютером. Программист явно указывает, как выполнять задачу шаг за шагом.\n",
    "\n",
    "2. **Декларативное программирование**:\n",
    "Декларативное программирование - это парадигма, в которой программа определяет желаемый результат или исход, а не явное определение потока управления. Программист объявляет, что должно быть сделано, а реализация языка (компилятор, интерпретатор или время выполнения) определяет, как это сделать.\n",
    "\n",
    "**Не существует одной парадигмы, которая бы подходила всем, и это важно помнить. Разные парадигмы полезны для разных типов задач и иногда могут сочетаться в одной программе.**\n",
    "\n",
    "## Императивное программирование включает в себя:"
   ]
  },
  {
   "cell_type": "markdown",
   "id": "02ac3119",
   "metadata": {},
   "source": [
    "### Процедурное программирование:\n",
    "Процедурное программирование использует подход «сверху вниз». Он заключается в разбиении сложной задачи на набор процедур или функций, каждая из которых выполняет определенную задачу. Поток управления в программе линеен, а манипуляции с данными осуществляются через переменные и вызовы функций.\n",
    "Плюсы:\n",
    "- Простота и легкость понимания, особенно для начинающих.\n",
    "- Хорошо подходит для решения задач, которые можно разбить на ряд шагов.\n",
    "- Обеспечивает четкий поток управления и последовательность операций.\n",
    "- Эффективен для решения определенных типов задач, таких как обработка данных и системное программирование.\n",
    "\n",
    "Минусы:\n",
    "- Отсутствие возможности повторного использования кода и модульности может привести к дублированию и проблемам с обслуживанием.\n",
    "- Сложность управления сложностью в крупномасштабных приложениях.\n",
    "- Процедурный код может становиться сложнее осмыслить по мере роста кодовой базы.\n",
    "- Ограниченная поддержка абстракции и программирования ориентированого на данные."
   ]
  },
  {
   "cell_type": "code",
   "execution_count": 1,
   "id": "7f2b8c2a",
   "metadata": {},
   "outputs": [
    {
     "name": "stdout",
     "output_type": "stream",
     "text": [
      "15\n"
     ]
    }
   ],
   "source": [
    "# Процедурное программирование для вычисления суммы чисел в списке\n",
    "def sum_list(numbers):\n",
    "    total = 0\n",
    "    for num in numbers:\n",
    "        total += num\n",
    "    return total\n",
    "\n",
    "numbers = [1, 2, 3, 4, 5]\n",
    "result = sum_list(numbers)\n",
    "print(result)  # Вывод: 15"
   ]
  },
  {
   "cell_type": "markdown",
   "id": "607a5674",
   "metadata": {},
   "source": [
    "### Объектно-ориентированное программирование (ООП):\n",
    "Парадигма, которая моделирует объекты реального мира как объекты, которые инкапсулируют данные (свойства) и поведение (методы). Она фокусируется на создании многократно используемого кода путем организации данных и функций в классы и объекты. Ключевые принципы включают инкапсуляцию, наследование и полиморфизм.\n",
    "Плюсы:\n",
    "- Способствует многократному использованию кода благодаря наследованию и инкапсуляции.\n",
    "- Поддерживает модульность и организацию кода в логические единицы (классы и объекты).\n",
    "- Облегчает сопровождение и масштабируемость больших кодовых баз.\n",
    "- Обеспечивает абстракцию и сокрытие данных, что может улучшить читаемость кода и безопасность.\n",
    "\n",
    "Минусы:\n",
    "- Накладные расходы на создание и управление объектами могут повлиять на производительность в некоторых сценариях.\n",
    "- Наследование может создавать сложности и потенциальные проблемы, такие как проблема «хрупкого базового класса».\n",
    "- Чрезмерное использование наследования или глубоких иерархий наследования может сделать код более сложным для понимания и сопровождения.\n",
    "- Переход от процедурного программирования может быть связан с необходимостью обучения."
   ]
  },
  {
   "cell_type": "code",
   "execution_count": 2,
   "id": "92fc94d7",
   "metadata": {},
   "outputs": [
    {
     "name": "stdout",
     "output_type": "stream",
     "text": [
      "15\n"
     ]
    }
   ],
   "source": [
    "class Rectangle:\n",
    "    def __init__(self, length, width):\n",
    "        self.length = length\n",
    "        self.width = width\n",
    "\n",
    "    def area(self):\n",
    "        return self.length * self.width\n",
    "\n",
    "rect = Rectangle(5, 3)\n",
    "print(rect.area())  # Вывод: 15"
   ]
  },
  {
   "cell_type": "markdown",
   "id": "ca58f6f2",
   "metadata": {},
   "source": [
    "### Параллельная обработка:\n",
    "Сфокусирована на одновременном выполнении нескольких вычислений с использованием нескольких процессоров или ядер. Она позволяет повысить производительность за счет разделения задачи на более мелкие подзадачи, которые могут выполняться параллельно.\n",
    "Плюсы:\n",
    "- Повышение производительности за счет использования нескольких процессоров или ядер.\n",
    "- Подходит для задач, которые можно разделить на независимые задачи или разделы данных.\n",
    "- Позволяет эффективно использовать современное оборудование и распределенные системы.\n",
    "- Поддерживает модели параллельного и асинхронного программирования.\n",
    "\n",
    "Минусы:\n",
    "- Повышенная сложность управления общими ресурсами, синхронизации и предотвращения условий гонки.\n",
    "- Возможность возникновения тупиковых ситуаций, блокировок и других проблем параллелизма при неправильном подходе.\n",
    "- Накладные расходы на распределение задач и связь между процессами или потоками.\n",
    "- Отладка и тестирование параллельного кода могут быть более сложными."
   ]
  },
  {
   "cell_type": "code",
   "execution_count": null,
   "id": "26eee029",
   "metadata": {},
   "outputs": [
    {
     "name": "stderr",
     "output_type": "stream",
     "text": [
      "Process SpawnPoolWorker-1:\n",
      "Traceback (most recent call last):\n",
      "Process SpawnPoolWorker-2:\n",
      "Traceback (most recent call last):\n",
      "  File \"/opt/anaconda3/lib/python3.11/multiprocessing/process.py\", line 314, in _bootstrap\n",
      "    self.run()\n",
      "  File \"/opt/anaconda3/lib/python3.11/multiprocessing/process.py\", line 108, in run\n",
      "    self._target(*self._args, **self._kwargs)\n",
      "  File \"/opt/anaconda3/lib/python3.11/multiprocessing/pool.py\", line 114, in worker\n",
      "    task = get()\n",
      "           ^^^^^\n",
      "  File \"/opt/anaconda3/lib/python3.11/multiprocessing/queues.py\", line 367, in get\n",
      "    return _ForkingPickler.loads(res)\n",
      "           ^^^^^^^^^^^^^^^^^^^^^^^^^^\n",
      "AttributeError: Can't get attribute 'square' on <module '__main__' (built-in)>\n",
      "Process SpawnPoolWorker-3:\n",
      "  File \"/opt/anaconda3/lib/python3.11/multiprocessing/process.py\", line 314, in _bootstrap\n",
      "    self.run()\n",
      "  File \"/opt/anaconda3/lib/python3.11/multiprocessing/process.py\", line 108, in run\n",
      "    self._target(*self._args, **self._kwargs)\n",
      "  File \"/opt/anaconda3/lib/python3.11/multiprocessing/pool.py\", line 114, in worker\n",
      "    task = get()\n",
      "           ^^^^^\n",
      "  File \"/opt/anaconda3/lib/python3.11/multiprocessing/queues.py\", line 367, in get\n",
      "    return _ForkingPickler.loads(res)\n",
      "           ^^^^^^^^^^^^^^^^^^^^^^^^^^\n",
      "AttributeError: Can't get attribute 'square' on <module '__main__' (built-in)>\n",
      "Traceback (most recent call last):\n",
      "Process SpawnPoolWorker-4:\n",
      "  File \"/opt/anaconda3/lib/python3.11/multiprocessing/process.py\", line 314, in _bootstrap\n",
      "    self.run()\n",
      "  File \"/opt/anaconda3/lib/python3.11/multiprocessing/process.py\", line 108, in run\n",
      "    self._target(*self._args, **self._kwargs)\n",
      "  File \"/opt/anaconda3/lib/python3.11/multiprocessing/pool.py\", line 114, in worker\n",
      "    task = get()\n",
      "           ^^^^^\n",
      "  File \"/opt/anaconda3/lib/python3.11/multiprocessing/queues.py\", line 367, in get\n",
      "    return _ForkingPickler.loads(res)\n",
      "           ^^^^^^^^^^^^^^^^^^^^^^^^^^\n",
      "AttributeError: Can't get attribute 'square' on <module '__main__' (built-in)>\n",
      "Traceback (most recent call last):\n",
      "  File \"/opt/anaconda3/lib/python3.11/multiprocessing/process.py\", line 314, in _bootstrap\n",
      "    self.run()\n",
      "  File \"/opt/anaconda3/lib/python3.11/multiprocessing/process.py\", line 108, in run\n",
      "    self._target(*self._args, **self._kwargs)\n",
      "  File \"/opt/anaconda3/lib/python3.11/multiprocessing/pool.py\", line 114, in worker\n",
      "    task = get()\n",
      "           ^^^^^\n",
      "  File \"/opt/anaconda3/lib/python3.11/multiprocessing/queues.py\", line 367, in get\n",
      "    return _ForkingPickler.loads(res)\n",
      "           ^^^^^^^^^^^^^^^^^^^^^^^^^^\n",
      "AttributeError: Can't get attribute 'square' on <module '__main__' (built-in)>\n",
      "Process SpawnPoolWorker-5:\n",
      "Traceback (most recent call last):\n",
      "  File \"/opt/anaconda3/lib/python3.11/multiprocessing/process.py\", line 314, in _bootstrap\n",
      "    self.run()\n",
      "  File \"/opt/anaconda3/lib/python3.11/multiprocessing/process.py\", line 108, in run\n",
      "    self._target(*self._args, **self._kwargs)\n",
      "  File \"/opt/anaconda3/lib/python3.11/multiprocessing/pool.py\", line 114, in worker\n",
      "    task = get()\n",
      "           ^^^^^\n",
      "  File \"/opt/anaconda3/lib/python3.11/multiprocessing/queues.py\", line 367, in get\n",
      "    return _ForkingPickler.loads(res)\n",
      "           ^^^^^^^^^^^^^^^^^^^^^^^^^^\n",
      "AttributeError: Can't get attribute 'square' on <module '__main__' (built-in)>\n",
      "Process SpawnPoolWorker-6:\n",
      "Traceback (most recent call last):\n",
      "Process SpawnPoolWorker-7:\n",
      "Traceback (most recent call last):\n",
      "  File \"/opt/anaconda3/lib/python3.11/multiprocessing/process.py\", line 314, in _bootstrap\n",
      "    self.run()\n",
      "  File \"/opt/anaconda3/lib/python3.11/multiprocessing/process.py\", line 108, in run\n",
      "    self._target(*self._args, **self._kwargs)\n",
      "  File \"/opt/anaconda3/lib/python3.11/multiprocessing/pool.py\", line 114, in worker\n",
      "    task = get()\n",
      "           ^^^^^\n",
      "  File \"/opt/anaconda3/lib/python3.11/multiprocessing/queues.py\", line 367, in get\n",
      "    return _ForkingPickler.loads(res)\n",
      "           ^^^^^^^^^^^^^^^^^^^^^^^^^^\n",
      "AttributeError: Can't get attribute 'square' on <module '__main__' (built-in)>\n",
      "  File \"/opt/anaconda3/lib/python3.11/multiprocessing/process.py\", line 314, in _bootstrap\n",
      "    self.run()\n",
      "  File \"/opt/anaconda3/lib/python3.11/multiprocessing/process.py\", line 108, in run\n",
      "    self._target(*self._args, **self._kwargs)\n",
      "  File \"/opt/anaconda3/lib/python3.11/multiprocessing/pool.py\", line 114, in worker\n",
      "    task = get()\n",
      "           ^^^^^\n",
      "  File \"/opt/anaconda3/lib/python3.11/multiprocessing/queues.py\", line 367, in get\n",
      "    return _ForkingPickler.loads(res)\n",
      "           ^^^^^^^^^^^^^^^^^^^^^^^^^^\n",
      "AttributeError: Can't get attribute 'square' on <module '__main__' (built-in)>\n",
      "Process SpawnPoolWorker-8:\n",
      "Traceback (most recent call last):\n",
      "  File \"/opt/anaconda3/lib/python3.11/multiprocessing/process.py\", line 314, in _bootstrap\n",
      "    self.run()\n",
      "  File \"/opt/anaconda3/lib/python3.11/multiprocessing/process.py\", line 108, in run\n",
      "    self._target(*self._args, **self._kwargs)\n",
      "  File \"/opt/anaconda3/lib/python3.11/multiprocessing/pool.py\", line 114, in worker\n",
      "    task = get()\n",
      "           ^^^^^\n",
      "  File \"/opt/anaconda3/lib/python3.11/multiprocessing/queues.py\", line 367, in get\n",
      "    return _ForkingPickler.loads(res)\n",
      "           ^^^^^^^^^^^^^^^^^^^^^^^^^^\n",
      "AttributeError: Can't get attribute 'square' on <module '__main__' (built-in)>\n"
     ]
    }
   ],
   "source": [
    "import multiprocessing\n",
    "\n",
    "def square(x):\n",
    "    return x ** 2\n",
    "\n",
    "if __name__ == \"__main__\":\n",
    "    pool = multiprocessing.Pool(processes=4)\n",
    "    numbers = [1, 2, 3, 4, 5, 6, 7, 8]\n",
    "    results = pool.map(square, numbers)\n",
    "    print(results)  # Вывод: [1, 4, 9, 16, 25, 36, 49, 64]"
   ]
  },
  {
   "cell_type": "markdown",
   "id": "111ca7d0",
   "metadata": {},
   "source": [
    "## Декларативное программирование включает в себя:"
   ]
  },
  {
   "cell_type": "markdown",
   "id": "fe0198cd",
   "metadata": {},
   "source": [
    "### Логическое программирование:\n",
    "Выражает логику вычислений без описания потока управления. В нем используется набор фактов и правил для представления знаний, а запрос решается путем попытки вывести заключение из имеющейся информации.\n",
    "Плюсы:\n",
    "- Декларативный характер облегчает моделирование и рассуждения о сложных проблемах.\n",
    "- Хорошо подходит для решения задач, связанных с символьными рассуждениями, представлением знаний и выводами.\n",
    "- Поддерживает обратный путь и решение ограничений.\n",
    "- Поощряет лаконичный и выразительный код.\n",
    "\n",
    "Минусы:\n",
    "- Ограниченная производительность и масштабируемость для некоторых типов задач.\n",
    "- Тяжелая кривая обучения из-за различий в парадигме и синтаксисе.\n",
    "- Ограниченная поддержка инструментов и библиотек по сравнению с более распространенными парадигмами.\n",
    "- Может не подойти для задач, требующих обширного манипулирования данными или численных вычислений."
   ]
  },
  {
   "cell_type": "code",
   "execution_count": null,
   "id": "86101b70",
   "metadata": {},
   "outputs": [],
   "source": [
    "from pylogic import run_prolog\n",
    "\n",
    "prolog_code = \"\"\"\n",
    "parent(john, bob).\n",
    "parent(jane, bob).\n",
    "grandparent(X, Y) :- parent(X, Z), parent(Z, Y).\n",
    "\"\"\"\n",
    "\n",
    "query = \"grandparent(john, bob)\"\n",
    "solution = run_prolog(prolog_code, query)\n",
    "print(solution)  # Вывод: False"
   ]
  },
  {
   "cell_type": "markdown",
   "id": "ba232566",
   "metadata": {},
   "source": [
    "### Функциональное программирование:\n",
    "Рассматривает вычисления как оценку математических функций. В нем особое внимание уделяется неизменяемым данным, чистым функциям (без побочных эффектов) и функциям высшего порядка (функциям, которые принимают или возвращают другие функции). Функциональный код часто более лаконичен, и в нем легче рассуждать.\n",
    "Плюсы:\n",
    "- Поощряет написание чистых функций, о которых легче рассуждать и тестировать.\n",
    "- Поддерживает неизменяемые данные, снижая риск непредвиденных побочных эффектов.\n",
    "- Облегчает параллелизм и параллельность благодаря отсутствию общего состояния.\n",
    "- Обеспечивает функции высшего порядка и ленивую оценку, что может привести к созданию более выразительного и лаконичного кода.\n",
    "\n",
    "Минусы:\n",
    "- Переход от императивного программирования может быть связан с необходимостью обучения.\n",
    "- Для работы с изменяемым состоянием и побочными эффектами могут потребоваться дополнительные техники или библиотеки.\n",
    "- Повышение производительности некоторых операций по сравнению с императивными подходами.\n",
    "- Ограниченная поддержка функционального программирования в некоторых языках или областях."
   ]
  },
  {
   "cell_type": "code",
   "execution_count": null,
   "id": "e70bae23",
   "metadata": {},
   "outputs": [],
   "source": [
    "# Функциональное программирование для вычисления суммы квадратов четных чисел в списке\n",
    "numbers = [1, 2, 3, 4, 5]\n",
    "even_numbers = filter(lambda x: x % 2 == 0, numbers)\n",
    "squared_evens = map(lambda x: x ** 2, even_numbers)\n",
    "result = sum(squared_evens)\n",
    "print(result)  # Вывод: 20"
   ]
  },
  {
   "cell_type": "markdown",
   "id": "0a9c7df8",
   "metadata": {},
   "source": [
    "### Обработка баз данных:\n",
    "Обработка баз данных включает в себя взаимодействие с базами данных для хранения, получения и манипулирования данными. Различные языки программирования и фреймворки предоставляют API или библиотеки для взаимодействия с базами данных.\n",
    "Плюсы:\n",
    "- Обеспечивает структурированный и эффективный способ хранения и получения данных.\n",
    "- Поддерживает целостность и непротиворечивость данных благодаря транзакциям и ограничениям.\n",
    "- Позволяет выполнять запросы и манипуляции с большими массивами данных с помощью декларативных языков, таких как SQL.\n",
    "- Облегчает обмен данными и совместную работу приложений и пользователей.\n",
    "\n",
    "Минусы:\n",
    "- Накладные расходы на настройку и обслуживание системы баз данных.\n",
    "- Потенциальные узкие места в производительности для определенных типов запросов или рабочих нагрузок.\n",
    "- Риск потери или повреждения данных при ненадлежащем администрировании и резервном копировании.\n",
    "- Кривая обучения для понимания концепций баз данных и языков запросов, таких как SQL."
   ]
  },
  {
   "cell_type": "code",
   "execution_count": null,
   "id": "c1f7cd5d",
   "metadata": {},
   "outputs": [],
   "source": [
    "import sqlite3\n",
    "\n",
    "# Создайте новую базу данных SQLite\n",
    "conn = sqlite3.connect('example.db')\n",
    "c = conn.cursor()\n",
    "\n",
    "# Создайте таблицу\n",
    "c.execute('''CREATE TABLE employees\n",
    "             (id INTEGER PRIMARY KEY, name TEXT, salary REAL)''')\n",
    "\n",
    "# Вставить данные\n",
    "c.execute(\"INSERT INTO employees (name, salary) VALUES ('John', 50000)\")\n",
    "c.execute(\"INSERT INTO employees (name, salary) VALUES ('Jane', 60000)\")\n",
    "\n",
    "# Запросить базу данных\n",
    "c.execute(\"SELECT * FROM employees\")\n",
    "results = c.fetchall()\n",
    "for row in results:\n",
    "    print(row)\n",
    "\n",
    "# Зафиксируйте изменения и закройте соединение\n",
    "conn.commit()\n",
    "conn.close()"
   ]
  },
  {
   "cell_type": "markdown",
   "id": "0dd909b5",
   "metadata": {},
   "source": [
    "Это общий взгляд на парадигмы программирования. Более подробно мы рассмотрим тему функционального программирования и ООП."
   ]
  },
  {
   "cell_type": "markdown",
   "id": "71b27e40",
   "metadata": {},
   "source": [
    "# Функциональное программирование"
   ]
  },
  {
   "cell_type": "markdown",
   "id": "4db752bb",
   "metadata": {},
   "source": [
    "Функциональное программирование, созданное Джоном Маккарти с помощью языка LISP в конце 1950-х годов, почти так же старо, как и императивное программирование. Ключевая идея - выражение программ через функции и выражения, без промежуточных переменных, операторов присваивания или циклов. Программы представляют собой последовательности описаний функций и выражений.\n",
    "\n",
    "### Преимущества функционального программирования\n",
    "1. **Проще читать**: Код более понятен и лаконичен.\n",
    "2. **Легче отлаживать и поддерживать**: Функции не зависят от внешнего состояния.\n",
    "3. **Формальная корректность**: Алгоритмы легче доказать корректность.\n",
    "4. **Декомпозиция и тестирование**: Элементарные действия могут быть разработаны и проверены эффективно.\n",
    "5. **Параллелизация**: Функциональные программы могут быть автоматически распараллелены благодаря отсутствию побочных эффектов."
   ]
  },
  {
   "cell_type": "markdown",
   "id": "2e527130",
   "metadata": {},
   "source": [
    "## 2. Итераторы и генераторы\n",
    "\n",
    "### 2.1 Создание итераторов\n",
    "\n",
    "Итератор - это объект с внутренним состоянием и методом `__next__` для перехода к следующему состоянию. Вот пример создания итератора из списка:"
   ]
  },
  {
   "cell_type": "code",
   "execution_count": null,
   "id": "6f4ed81e",
   "metadata": {},
   "outputs": [],
   "source": [
    "myList = [4, 5, 6]\n",
    "\n",
    "for i in iter(myList):\n",
    "    print(i)\n",
    "\n",
    "for i in myList:\n",
    "    print(i)"
   ]
  },
  {
   "cell_type": "markdown",
   "id": "fad9c567",
   "metadata": {},
   "source": [
    "Итераторы и цикл For"
   ]
  },
  {
   "cell_type": "code",
   "execution_count": null,
   "id": "5651c537",
   "metadata": {},
   "outputs": [],
   "source": [
    "for i in range(5):\n",
    "    print(i)\n",
    "\n",
    "for element in [1, 2, 3]:\n",
    "    print(element)\n",
    "\n",
    "for element in (1, 2, 3):\n",
    "    print(element)\n",
    "\n",
    "for key in {'one': 1, 'two': 2}:\n",
    "    print(key)\n",
    "\n",
    "for char in \"123\":\n",
    "    print(char)\n",
    "\n",
    "for line in open(\"text.txt\"):\n",
    "    print(line, end='')"
   ]
  },
  {
   "cell_type": "markdown",
   "id": "60072d89",
   "metadata": {},
   "source": [
    "Функции 'iter' и 'next'"
   ]
  },
  {
   "cell_type": "code",
   "execution_count": null,
   "id": "f16a9962",
   "metadata": {},
   "outputs": [],
   "source": [
    "s = 'abc'\n",
    "\n",
    "for letter in s:\n",
    "  pass\n",
    "\n",
    "it = iter(s)\n",
    "print(it)\n",
    "\n",
    "print(next(it))\n",
    "print(next(it))\n",
    "print(next(it))"
   ]
  },
  {
   "cell_type": "markdown",
   "id": "11528cae",
   "metadata": {},
   "source": [
    "### 2.2 Создание генераторов\n",
    "\n",
    "Генераторы создают итераторы, используя оператор `yield` для возврата значений по одному за раз, приостанавливая выполнение до тех пор, пока не будет запрошено следующее значение. Вот простой генератор:"
   ]
  },
  {
   "cell_type": "code",
   "execution_count": null,
   "id": "1b980825",
   "metadata": {},
   "outputs": [],
   "source": [
    "def myRange(n):\n",
    "    i = 1\n",
    "    while i <= n:\n",
    "        yield i\n",
    "        i += 1\n",
    "\n",
    "for i in myRange(5):\n",
    "    print(i)"
   ]
  },
  {
   "cell_type": "code",
   "execution_count": null,
   "id": "f2b9af8e",
   "metadata": {},
   "outputs": [],
   "source": [
    "def reverse(data):\n",
    "    for index in range(len(data)-1, -1, -1):\n",
    "        yield data[index]\n",
    "\n",
    "print(reverse)\n",
    "\n",
    "for char in reverse('golf'):\n",
    "    print(char)"
   ]
  },
  {
   "cell_type": "code",
   "execution_count": null,
   "id": "32de0dea",
   "metadata": {},
   "outputs": [],
   "source": [
    "def squares(n):\n",
    "    for i in range(n):\n",
    "        yield i ** 2\n",
    "\n",
    "\n",
    "for x in squares(10):\n",
    "    print(x)"
   ]
  },
  {
   "cell_type": "code",
   "execution_count": null,
   "id": "0da689af",
   "metadata": {},
   "outputs": [],
   "source": [
    "def fact(n):\n",
    "    f = 1\n",
    "    for i in range(1, n):\n",
    "        f *= i\n",
    "        yield f\n",
    "for x in fact(10):\n",
    "    print(x)"
   ]
  },
  {
   "cell_type": "markdown",
   "id": "ac99efa0",
   "metadata": {},
   "source": [
    "Генераторы могут иметь сложную рекурсивную структуру, как, например, этот генератор, который выдает числа заданной длины, где цифры не уменьшаются:"
   ]
  },
  {
   "cell_type": "code",
   "execution_count": null,
   "id": "37570c45",
   "metadata": {},
   "outputs": [],
   "source": [
    "def genDecDigs(cntDigits, maxDigit):\n",
    "    if cntDigits > 0:\n",
    "        for nowDigit in range(maxDigit, -1, -1):\n",
    "            for tail in genDecDigs(cntDigits - 1, nowDigit):\n",
    "                yield nowDigit * 10 ** (cntDigits - 1) + tail\n",
    "    else:\n",
    "        yield 0\n",
    "\n",
    "print(*genDecDigs(3, 5))"
   ]
  },
  {
   "cell_type": "markdown",
   "id": "1afe4ce9",
   "metadata": {},
   "source": [
    "И еще несколько генераторных выражений"
   ]
  },
  {
   "cell_type": "code",
   "execution_count": null,
   "id": "09412c37",
   "metadata": {},
   "outputs": [],
   "source": [
    "for i in (x*x for x in range(10)):\n",
    "    print(i)"
   ]
  },
  {
   "cell_type": "code",
   "execution_count": null,
   "id": "8b9f62dc",
   "metadata": {},
   "outputs": [],
   "source": [
    "import math\n",
    "for i in (x for x in range(10) if math.sqrt(x) - math.trunc(math.sqrt(x)) == 0): # Фильтруйте только идеальные квадраты\n",
    "    print(i)"
   ]
  },
  {
   "cell_type": "code",
   "execution_count": null,
   "id": "1d21878e",
   "metadata": {},
   "outputs": [],
   "source": [
    "print([x + y for x in 'abc' for y in 'lmn'])"
   ]
  },
  {
   "cell_type": "markdown",
   "id": "1d178fa6",
   "metadata": {},
   "source": [
    "## 3. Встроенные функции для последовательностей\n",
    "\n",
    "Python предоставляет несколько встроенных функций, которые работают с итерациями, делая функциональное программирование более выразительным:\n",
    "\n",
    "### 3.1 `sum`, `min` и `max`.\n",
    "\n",
    "Эти функции суммируют, находят минимум и максимум элементов итерабельной таблицы соответственно.\n",
    "\n",
    "### 3.2 `map` и `filter`\n",
    "\n",
    "- `map(function, iterable, ...)` применяет функцию ко всем элементам итерируемого множества.\n",
    "- `filter(predicate, iterable)` отфильтровывает элементы из iterable, где predicate равен `False`.\n",
    "\n",
    "Пример нахождения максимального положительного элемента в списке:"
   ]
  },
  {
   "cell_type": "code",
   "execution_count": null,
   "id": "52e39a09",
   "metadata": {},
   "outputs": [],
   "source": [
    "print(max(filter(lambda x: x > 0, map(int, input().split()))))"
   ]
  },
  {
   "cell_type": "code",
   "execution_count": null,
   "id": "39b213a8",
   "metadata": {},
   "outputs": [],
   "source": [
    "print(*filter(lambda x: x % 2 != 0, range(10))) #Лямбда-функция для фильтрации нечетных чисел"
   ]
  },
  {
   "cell_type": "code",
   "execution_count": null,
   "id": "ebd4e332",
   "metadata": {},
   "outputs": [],
   "source": [
    "import math\n",
    "# Print perfect squares from 0 to 99\n",
    "print(*filter(lambda x: math.sqrt(x) - int(math.sqrt(x)) == 0, range(100))) # Фильтр для идеальных квадратов"
   ]
  },
  {
   "cell_type": "code",
   "execution_count": null,
   "id": "497ec8d9",
   "metadata": {},
   "outputs": [],
   "source": [
    "print(*map(lambda c: '_' + c.upper() + '_' , 'hello'))"
   ]
  },
  {
   "cell_type": "markdown",
   "id": "a56c252a",
   "metadata": {},
   "source": [
    "### 3.3 `any` и `all`\n",
    "\n",
    "- `any(iterable)` возвращает `True`, если хотя бы один элемент итерируемого равен true.\n",
    "- `all(iterable)` возвращает `True`, если все элементы итератора истинны.\n",
    "\n",
    "Пример проверки того, что любой элемент последовательности имеет абсолютное значение больше 500:"
   ]
  },
  {
   "cell_type": "code",
   "execution_count": null,
   "id": "c1cc4db0",
   "metadata": {},
   "outputs": [],
   "source": [
    "print(any(map(lambda x: abs(int(x)) > 500, input().split())))"
   ]
  },
  {
   "cell_type": "markdown",
   "id": "fcd32224",
   "metadata": {},
   "source": [
    "### 3.4 `zip`\n",
    "\n",
    "`zip(*iterables)` объединяет элементы из каждой итерабельной таблицы в кортежи:"
   ]
  },
  {
   "cell_type": "code",
   "execution_count": null,
   "id": "31716c3e",
   "metadata": {},
   "outputs": [],
   "source": [
    "region = ['London', 'Paris', 'Berlin']\n",
    "temperature = [15, 18, 20]\n",
    "pressure = [1010, 1005, 1012]\n",
    "weather = zip(region, temperature, pressure)\n",
    "print(*weather)"
   ]
  },
  {
   "cell_type": "code",
   "execution_count": null,
   "id": "a01fd772",
   "metadata": {},
   "outputs": [],
   "source": [
    "x_list = [10, 20, 30]\n",
    "y_list = [7, 5, 3]\n",
    "s = sum(x*y for x, y in zip(x_list, y_list))\n",
    "print(s)"
   ]
  },
  {
   "cell_type": "markdown",
   "id": "81dc3da6",
   "metadata": {},
   "source": [
    "### 3.5 `enumerate`\n",
    "\n",
    "Функция `enumerate` используется для перебора коллекций с указанием индекса:"
   ]
  },
  {
   "cell_type": "code",
   "execution_count": null,
   "id": "9ebb6055",
   "metadata": {},
   "outputs": [],
   "source": [
    "list_a = [10, 20, 30, 40, 50, 60, 70, 80]\n",
    "list_d = [(i, x) for i, x in enumerate(list_a)]\n",
    "print(list_d)"
   ]
  },
  {
   "cell_type": "code",
   "execution_count": null,
   "id": "6ae0fcb3",
   "metadata": {},
   "outputs": [],
   "source": [
    "for i, x in enumerate(x * x for x in range(10)):\n",
    "    print(i, \" * \", i, \" = \", x)"
   ]
  },
  {
   "cell_type": "markdown",
   "id": "9b95d2a7",
   "metadata": {},
   "source": [
    "## 4. Генерация комбинаторных объектов\n",
    "\n",
    "Модуль `itertools` предоставляет функции для генерации комбинаторных объектов:\n",
    "\n",
    "- `itertools.combinations(iterable, r)` генерирует кортежи длины r всех возможных комбинаций элементов в `iterable`.\n",
    "- `itertools.permutations(iterable)` генерирует все возможные перестановки элементов в `iterable`.\n",
    "- `itertools.combinations_with_replacement(iterable, r)` генерирует кортежи длины r всех возможных комбинаций элементов в `iterable`, позволяя отдельным элементам повторяться.\n",
    "\n",
    "Пример нахождения четырех чисел в последовательности, дающей наибольшее произведение, с использованием комбинаций:"
   ]
  },
  {
   "cell_type": "code",
   "execution_count": null,
   "id": "ccbf2517",
   "metadata": {},
   "outputs": [],
   "source": [
    "from itertools import combinations\n",
    "\n",
    "nums = list(map(int, input().split()))\n",
    "combs = combinations(range(len(nums)), 4)\n",
    "print(max(map(lambda x: nums[x[0]] * nums[x[1]] * nums[x[2]] * nums[x[3]], combs)))"
   ]
  },
  {
   "cell_type": "code",
   "execution_count": null,
   "id": "3a1c3733",
   "metadata": {},
   "outputs": [],
   "source": [
    "import itertools\n",
    "\n",
    "print(*(itertools.combinations('123456', 2)), sep='\\n')"
   ]
  },
  {
   "cell_type": "markdown",
   "id": "7c456269",
   "metadata": {},
   "source": [
    "## 5. Модуль `functools`\n",
    "\n",
    "Модуль `functools` предоставляет функции высшего порядка для работы с другими функциями и вызываемыми объектами:\n",
    "\n",
    "### 5.1 `functools.partial`.\n",
    "\n",
    "Эта функция фиксирует определенное количество аргументов функции и генерирует новую функцию:"
   ]
  },
  {
   "cell_type": "code",
   "execution_count": null,
   "id": "74399d29",
   "metadata": {},
   "outputs": [],
   "source": [
    "from functools import partial\n",
    "\n",
    "hexStrToInt = partial(int, base=16)\n",
    "print(hexStrToInt('A2F'))"
   ]
  },
  {
   "cell_type": "code",
   "execution_count": null,
   "id": "4203122d",
   "metadata": {},
   "outputs": [],
   "source": [
    "from functools import partial\n",
    "\n",
    "binStrToInt = partial(int, base=2)\n",
    "print(binStrToInt('10010'))"
   ]
  },
  {
   "cell_type": "markdown",
   "id": "a4223024",
   "metadata": {},
   "source": [
    "### 5.2 `functools.reduce`\n",
    "\n",
    "`reduce(function, iterable)` применяет функцию кумулятивно к элементам итерируемого множества:"
   ]
  },
  {
   "cell_type": "code",
   "execution_count": null,
   "id": "66e3e361",
   "metadata": {},
   "outputs": [],
   "source": [
    "import functools\n",
    "\n",
    "myList = ['A', 'B', 'C', 'D']\n",
    "def f(str1, str2):\n",
    "    return str1 + str2\n",
    "\n",
    "print(functools.reduce(f, myList))"
   ]
  },
  {
   "cell_type": "markdown",
   "id": "d367d7d9",
   "metadata": {},
   "source": [
    "### 5.3 `itertools.accumulate`\n",
    "\n",
    "`accumulate(iterable, func)` возвращает накопленные результаты бинарной функции `func`:"
   ]
  },
  {
   "cell_type": "code",
   "execution_count": null,
   "id": "bd9e58eb",
   "metadata": {},
   "outputs": [],
   "source": [
    "from itertools import accumulate\n",
    "\n",
    "print(*accumulate(map(int, input().split()), min))\n",
    "# вывод: 9 3 7 1 5 4 8 2"
   ]
  }
 ],
 "metadata": {
  "kernelspec": {
   "display_name": "Python 3 (ipykernel)",
   "language": "python",
   "name": "python3"
  },
  "language_info": {
   "codemirror_mode": {
    "name": "ipython",
    "version": 3
   },
   "file_extension": ".py",
   "mimetype": "text/x-python",
   "name": "python",
   "nbconvert_exporter": "python",
   "pygments_lexer": "ipython3",
   "version": "3.11.7"
  },
  "nbTranslate": {
   "displayLangs": [
    "*"
   ],
   "hotkey": "alt-t",
   "langInMainMenu": true,
   "sourceLang": "en",
   "targetLang": "fr",
   "useGoogleTranslate": true
  }
 },
 "nbformat": 4,
 "nbformat_minor": 5
}
